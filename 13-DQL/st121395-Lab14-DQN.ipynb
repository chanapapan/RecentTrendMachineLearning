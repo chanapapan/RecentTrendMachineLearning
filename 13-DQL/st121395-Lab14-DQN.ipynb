{
 "cells": [
  {
   "cell_type": "markdown",
   "metadata": {},
   "source": [
    "# RTML | Lab 14 DQN\n",
    "## Chanapa Pananookooln st121395\n",
    "\n",
    "The homework was to stack successive frames as the input state representation to give the agent some \"velocity\" input and try to combine the techniques we've developed in the lab with the frame history as state, and get the best Space Invaders player.\n",
    "\n",
    "Reference : https://github.com/akraradets/2021JanRTML"
   ]
  },
  {
   "cell_type": "markdown",
   "metadata": {},
   "source": [
    "### Import"
   ]
  },
  {
   "cell_type": "code",
   "execution_count": 17,
   "metadata": {},
   "outputs": [
    {
     "name": "stdout",
     "output_type": "stream",
     "text": [
      "cpu\n"
     ]
    }
   ],
   "source": [
    "import math, random\n",
    "import torch\n",
    "import torch.nn as nn\n",
    "import torch.nn.functional as F\n",
    "import torch.optim as optim\n",
    "import torch.autograd as autograd\n",
    "import torchvision.transforms as T\n",
    "\n",
    "from PIL import Image\n",
    "import matplotlib.pyplot as plt\n",
    "import gym\n",
    "import numpy as np\n",
    "from tqdm import trange\n",
    "from myDQN import DQN, ReplayBuffer, CNNDQN, DDQN, NaivePrioritizedBuffer\n",
    "\n",
    "# Select GPU or CPU as device\n",
    "device = \"cpu\"\n",
    "print(device)"
   ]
  },
  {
   "cell_type": "markdown",
   "metadata": {},
   "source": [
    "### Function for plotting Episode against Reward"
   ]
  },
  {
   "cell_type": "code",
   "execution_count": 18,
   "metadata": {},
   "outputs": [],
   "source": [
    "def plot(episode, rewards, losses):\n",
    "    # clear_output(True)\n",
    "    plt.figure(figsize=(20,5))\n",
    "    plt.subplot(131)\n",
    "    plt.title('episode %s. reward: %s' % (episode, np.mean(rewards[-10:])))\n",
    "    plt.plot(rewards)\n",
    "    plt.subplot(132)\n",
    "    plt.title('loss')\n",
    "    plt.plot(losses)   \n",
    "    plt.show()"
   ]
  },
  {
   "cell_type": "markdown",
   "metadata": {},
   "source": [
    "### Define epsilon as a function of time (episode index)"
   ]
  },
  {
   "cell_type": "code",
   "execution_count": 19,
   "metadata": {},
   "outputs": [],
   "source": [
    "def gen_eps_by_episode(epsilon_start, epsilon_final, epsilon_decay):\n",
    "    eps_by_episode = lambda episode: epsilon_final + (epsilon_start - epsilon_final) * math.exp(-1. * episode / epsilon_decay)\n",
    "    return eps_by_episode"
   ]
  },
  {
   "cell_type": "markdown",
   "metadata": {},
   "source": [
    "### Replay Buffer Class"
   ]
  },
  {
   "cell_type": "code",
   "execution_count": 20,
   "metadata": {},
   "outputs": [],
   "source": [
    "class ReplayBuffer(object):\n",
    "    def __init__(self, capacity):\n",
    "        self.buffer = deque(maxlen=capacity)\n",
    "    \n",
    "    def push(self, state, action, reward, next_state, done):\n",
    "        # Add batch index dimension to state representations\n",
    "        state = np.expand_dims(state, 0)\n",
    "        next_state = np.expand_dims(next_state, 0)            \n",
    "        self.buffer.append((state, action, reward, next_state, done))\n",
    "    \n",
    "    def sample(self, batch_size):\n",
    "        state, action, reward, next_state, done = zip(*random.sample(self.buffer, batch_size))\n",
    "        return np.concatenate(state), action, reward, np.concatenate(next_state), done\n",
    "    \n",
    "    def __len__(self):\n",
    "        return len(self.buffer)"
   ]
  },
  {
   "cell_type": "markdown",
   "metadata": {},
   "source": [
    "### Define a function to return an increasing beta over episodes"
   ]
  },
  {
   "cell_type": "code",
   "execution_count": 21,
   "metadata": {},
   "outputs": [],
   "source": [
    "def gen_beta_by_episode(beta_start, beta_episodes):\n",
    "    beta_by_episode = lambda episode: min(1.0, beta_start + episode * (1.0 - beta_start) / beta_episodes)\n",
    "    return beta_by_episode"
   ]
  },
  {
   "cell_type": "markdown",
   "metadata": {},
   "source": [
    "### Parameters Set up"
   ]
  },
  {
   "cell_type": "code",
   "execution_count": 22,
   "metadata": {},
   "outputs": [],
   "source": [
    "episodes = 5000\n",
    "batch_size = 64\n",
    "gamma      = 0.99\n",
    "min_play_reward = -.15\n",
    "\n",
    "epsilon_start = 1.0\n",
    "epsilon_final = 0.01\n",
    "epsilon_decay = episodes / 10\n",
    "eps_by_episode = gen_eps_by_episode(epsilon_start, epsilon_final, epsilon_decay)\n",
    "\n",
    "beta_start = 0.4\n",
    "beta_episodes = episodes / 10\n",
    "beta_by_episode = gen_beta_by_episode(beta_start, beta_episodes)"
   ]
  },
  {
   "cell_type": "code",
   "execution_count": 23,
   "metadata": {},
   "outputs": [],
   "source": [
    "def update_target(current_model, target_model):\n",
    "    target_model.load_state_dict(current_model.state_dict())"
   ]
  },
  {
   "cell_type": "markdown",
   "metadata": {},
   "source": [
    "### Env set up"
   ]
  },
  {
   "cell_type": "code",
   "execution_count": 24,
   "metadata": {},
   "outputs": [],
   "source": [
    "env_id = 'SpaceInvaders-v0'\n",
    "env = gym.make(env_id)\n",
    "\n",
    "current_model = DDQN(4, env.action_space.n).to(device)\n",
    "target_model  = DDQN(4, env.action_space.n).to(device)\n",
    "\n",
    "optimizer = optim.Adam(current_model.parameters())\n",
    "\n",
    "# Use prioritize buffer\n",
    "#replay_buffer = ReplayBuffer(100000)\n",
    "replay_buffer = NaivePrioritizedBuffer(100000)\n",
    "\n",
    "update_target(current_model, target_model)\n",
    "\n",
    "image_size = 84\n",
    "transform = T.Compose([T.ToPILImage(),\n",
    "                       T.Grayscale(num_output_channels=1),\n",
    "                       T.Resize((image_size, image_size), interpolation=Image.CUBIC),\n",
    "                       T.ToTensor()])"
   ]
  },
  {
   "cell_type": "markdown",
   "metadata": {},
   "source": [
    "### Concatenate 3 Grayscale frames ionto history scale"
   ]
  },
  {
   "cell_type": "code",
   "execution_count": 25,
   "metadata": {},
   "outputs": [],
   "source": [
    "import queue\n",
    "state_buffer = queue.Queue()\n",
    "\n",
    "def get_state3(observation):\n",
    "    # First time, repeat the state for 3 times\n",
    "    if(state_buffer.qsize() == 0):\n",
    "        for i in range(4):\n",
    "            state = get_state2(observation)\n",
    "            state_buffer.put(state)\n",
    "        # print(observation.shape, state.shape)\n",
    "    else:\n",
    "        state_buffer.get()\n",
    "        state = get_state2(observation)\n",
    "        state_buffer.put(state)\n",
    "    # for i in state_buffer.queue:\n",
    "    #     print(i.shape)\n",
    "    rep = torch.cat(list(state_buffer.queue), dim=0)\n",
    "    # print(\"rep=====\",rep.shape)\n",
    "    return rep\n",
    "\n",
    "def get_state2(observation):\n",
    "    state = observation.transpose((2,0,1))\n",
    "    state = torch.from_numpy(state)\n",
    "    state = transform(state)\n",
    "    return state"
   ]
  },
  {
   "cell_type": "markdown",
   "metadata": {},
   "source": [
    "### Function for Train and Loss\n",
    "\n",
    "#### added the part where skipped frames are pushed to the buffer"
   ]
  },
  {
   "cell_type": "code",
   "execution_count": 1,
   "metadata": {},
   "outputs": [
    {
     "name": "stdout",
     "output_type": "stream",
     "text": [
      "cpu\n"
     ]
    },
    {
     "name": "stderr",
     "output_type": "stream",
     "text": [
      "/Users/apple/opt/anaconda3/lib/python3.8/site-packages/torchvision/transforms/transforms.py:257: UserWarning: Argument interpolation should be of type InterpolationMode instead of int. Please, use InterpolationMode enum.\n",
      "  warnings.warn(\n",
      "Agent training (episode45) Avg Reward 0.0:   1%|          | 40/5001 [00:00<01:47, 45.96it/s]/Users/apple/Documents/AIT/Sem II/RTML/RTML_Labs/Lab14/myDQN.py:46: UserWarning: volatile was removed and now has no effect. Use `with torch.no_grad():` instead.\n",
      "  state   = autograd.Variable(torch.FloatTensor(state).unsqueeze(0), volatile=True).to(device)\n",
      "Agent training (episode65) Avg Reward 0.7692307692307693:   1%|▏         | 63/5001 [00:01<01:49, 44.99it/s] <ipython-input-1-fb77817a7b14>:114: UserWarning: volatile was removed and now has no effect. Use `with torch.no_grad():` instead.\n",
      "  next_state = autograd.Variable(torch.FloatTensor(np.float32(next_state)), volatile=True).to(device)\n",
      "Agent training (episode5001) Avg Reward 0.650869826034793: 100%|██████████| 5001/5001 [13:54<00:00,  5.99it/s] \n"
     ]
    },
    {
     "data": {
      "image/png": "[encoded data removed]",
      "text/plain": [
       "<Figure size 1440x360 with 2 Axes>"
      ]
     },
     "metadata": {
      "needs_background": "light"
     },
     "output_type": "display_data"
    }
   ],
   "source": [
    "def compute_td_loss_DDQN_prior_exp_replay(current_model, target_model, batch_size, gamma=0.99, beta=0.4):\n",
    "    # get data from replay mode\n",
    "    # state, action, reward, next_state, done = replay_buffer.sample(batch_size)\n",
    "    state, action, reward, next_state, done, indices, weights = replay_buffer.sample(batch_size, beta)\n",
    "\n",
    "    # convert to tensors\n",
    "    # Autograd automatically supports Tensors with requires_grad set to True.\n",
    "    state      = autograd.Variable(torch.FloatTensor(np.float32(state))).to(device)\n",
    "    next_state = autograd.Variable(torch.FloatTensor(np.float32(next_state)), volatile=True).to(device)\n",
    "    action     = autograd.Variable(torch.LongTensor(action)).to(device)\n",
    "    reward     = autograd.Variable(torch.FloatTensor(reward)).to(device)\n",
    "    done       = autograd.Variable(torch.FloatTensor(done)).to(device)\n",
    "    weights    = autograd.Variable(torch.FloatTensor(weights)).to(device)\n",
    "\n",
    "    # calculate q-values and next q-values from deeplearning\n",
    "    q_values      = current_model(state)\n",
    "    next_q_values = current_model(next_state)\n",
    "    # double DQN add here\n",
    "    #next_q_state_values = target_model(next_state)\n",
    "\n",
    "    # get q-value from propagated action in each step\n",
    "    q_value          = q_values.gather(1, action.unsqueeze(1)).squeeze(1)\n",
    "    \n",
    "    # double DQN different here\n",
    "    #next_q_value     = next_q_state_values.gather(1, torch.max(next_q_values, 1)[1].unsqueeze(1)).squeeze(1)\n",
    "    next_q_value     = next_q_values.max(1)[0]\n",
    "    \n",
    "    # calculate expected q-value from q-function\n",
    "    expected_q_value = reward + gamma * next_q_value * (1 - done)\n",
    "    \n",
    "    # calculate loss value\n",
    "    # loss = (q_value - autograd.Variable(expected_q_value.data)).pow(2).mean()\n",
    "    loss = (q_value - expected_q_value.detach()).pow(2).mean()\n",
    "    prios = loss + 1e-5\n",
    "    loss  = loss.mean()\n",
    "        \n",
    "    optimizer.zero_grad()\n",
    "    loss.backward()\n",
    "    replay_buffer.update_priorities(indices, prios.data.cpu().numpy())\n",
    "    optimizer.step()\n",
    "\n",
    "    return loss\n",
    "\n",
    "def train_DDQN_prior_exp_replay(env, current_model, target_model, eps_by_episode, optimizer, replay_buffer, beta_by_episode, episodes = 10000, batch_size=32, gamma = 0.99, min_play_reward=-.15):\n",
    "    losses = []\n",
    "    all_rewards = []\n",
    "    episode_reward = 0\n",
    "\n",
    "    obs = env.reset()\n",
    "    state = get_state3(obs)\n",
    "    tot_reward = 0\n",
    "    tr = trange(episodes+1, desc='Agent training', leave=True)\n",
    "    for episode in tr:\n",
    "        avg_reward = tot_reward / (episode + 1)\n",
    "        tr.set_description(\"Agent training (episode{}) Avg Reward {}\".format(episode+1,avg_reward))\n",
    "        tr.refresh() \n",
    "\n",
    "        # get action with q-values\n",
    "        epsilon = eps_by_episode(episode)\n",
    "        action = current_model.act(state, epsilon, env, device)\n",
    "        \n",
    "        # Step 3 steps then push to the buffer\n",
    "        reward = 0\n",
    "        for i in range(3):\n",
    "            next_obs, i_reward, done, _ = env.step(action)\n",
    "            reward += i_reward\n",
    "            if(done): break\n",
    "                \n",
    "        next_state = get_state3(next_obs)\n",
    "        # save data into buffer\n",
    "        replay_buffer.push(state, action, reward, next_state, done)\n",
    "\n",
    "        tot_reward += reward\n",
    "        \n",
    "        state = next_state\n",
    "        obs = next_obs\n",
    "        episode_reward += reward\n",
    "        \n",
    "        if done:\n",
    "            obs = env.reset()\n",
    "            state = get_state3(obs)\n",
    "            all_rewards.append(episode_reward)\n",
    "            episode_reward = 0\n",
    "            \n",
    "        if len(replay_buffer) > batch_size:\n",
    "            beta = beta_by_episode(episode)\n",
    "            loss = compute_td_loss_DDQN_prior_exp_replay(current_model, target_model, batch_size, gamma, beta)\n",
    "            losses.append(loss.item())\n",
    "\n",
    "        if episode % 500 == 0:\n",
    "            update_target(current_model, target_model)\n",
    "            \n",
    "    plot(episode, all_rewards, losses)  \n",
    "    return current_model, target_model, all_rewards, losses\n",
    "\n",
    "current_model, target_model, all_rewards, losses = train_DDQN_prior_exp_replay(env, current_model, target_model, eps_by_episode, optimizer, replay_buffer, beta_by_episode, episodes = episodes, batch_size=batch_size, gamma = gamma, min_play_reward = min_play_reward)\n",
    "torch.save(current_model.state_dict(), 'weights/spaceInvaders-hw-phi-skip-1M.pth')\n",
    "torch.save(target_model.state_dict(), 'weights/spaceInvaders-target-hw-phi-skip-1M.pth')"
   ]
  },
  {
   "cell_type": "markdown",
   "metadata": {},
   "source": [
    "### Trained for 5000 episode"
   ]
  },
  {
   "cell_type": "markdown",
   "metadata": {},
   "source": [
    "### Use the trained model to play the game"
   ]
  },
  {
   "cell_type": "code",
   "execution_count": 3,
   "metadata": {},
   "outputs": [
    {
     "name": "stdout",
     "output_type": "stream",
     "text": [
      "cpu\n",
      "round 0: 285.0\n",
      "round 1: 250.0\n",
      "round 2: 245.0\n",
      "round 3: 245.0\n",
      "round 4: 275.0\n",
      "round 5: 190.0\n",
      "round 6: 230.0\n",
      "round 7: 175.0\n",
      "round 8: 85.0\n",
      "round 9: 175.0\n",
      "round 10: 105.0\n",
      "round 11: 160.0\n",
      "round 12: 165.0\n",
      "round 13: 170.0\n",
      "round 14: 220.0\n",
      "round 15: 175.0\n",
      "round 16: 270.0\n",
      "round 17: 230.0\n",
      "round 18: 220.0\n",
      "round 19: 215.0\n",
      "round 20: 230.0\n",
      "round 21: 175.0\n",
      "round 22: 215.0\n",
      "round 23: 215.0\n",
      "round 24: 220.0\n",
      "round 25: 325.0\n",
      "round 26: 445.0\n",
      "round 27: 165.0\n",
      "round 28: 245.0\n",
      "round 29: 175.0\n",
      "round 30: 100.0\n",
      "round 31: 85.0\n",
      "round 32: 235.0\n",
      "round 33: 220.0\n",
      "round 34: 230.0\n",
      "round 35: 220.0\n",
      "round 36: 235.0\n",
      "round 37: 190.0\n",
      "round 38: 220.0\n",
      "round 39: 220.0\n",
      "round 40: 230.0\n",
      "round 41: 165.0\n",
      "round 42: 225.0\n",
      "round 43: 215.0\n",
      "round 44: 105.0\n",
      "round 45: 200.0\n",
      "round 46: 415.0\n",
      "round 47: 215.0\n",
      "round 48: 215.0\n",
      "round 49: 230.0\n",
      "round 50: 175.0\n",
      "round 51: 220.0\n",
      "round 52: 230.0\n",
      "round 53: 215.0\n",
      "round 54: 245.0\n",
      "round 55: 185.0\n",
      "round 56: 105.0\n",
      "round 57: 230.0\n",
      "round 58: 120.0\n",
      "round 59: 245.0\n",
      "round 60: 215.0\n",
      "round 61: 445.0\n",
      "round 62: 430.0\n",
      "round 63: 85.0\n",
      "round 64: 220.0\n",
      "round 65: 220.0\n",
      "round 66: 85.0\n",
      "round 67: 240.0\n",
      "round 68: 130.0\n",
      "round 69: 85.0\n",
      "round 70: 445.0\n",
      "round 71: 105.0\n",
      "round 72: 230.0\n",
      "round 73: 190.0\n",
      "round 74: 245.0\n",
      "round 75: 245.0\n",
      "round 76: 130.0\n",
      "round 77: 245.0\n",
      "round 78: 190.0\n",
      "round 79: 220.0\n",
      "round 80: 190.0\n",
      "round 81: 275.0\n",
      "round 82: 230.0\n",
      "round 83: 130.0\n",
      "round 84: 160.0\n",
      "round 85: 245.0\n",
      "round 86: 430.0\n",
      "round 87: 215.0\n",
      "round 88: 245.0\n",
      "round 89: 245.0\n",
      "round 90: 85.0\n",
      "round 91: 90.0\n",
      "round 92: 185.0\n",
      "round 93: 265.0\n",
      "round 94: 220.0\n",
      "round 95: 210.0\n",
      "round 96: 215.0\n",
      "round 97: 185.0\n",
      "round 98: 245.0\n",
      "round 99: 230.0\n",
      "Reward: 213.3\n"
     ]
    }
   ],
   "source": [
    "import math, random\n",
    "import torch\n",
    "import torch.nn as nn\n",
    "import torch.nn.functional as F\n",
    "import torch.optim as optim\n",
    "import torch.autograd as autograd\n",
    "import matplotlib.pyplot as plt\n",
    "import gym\n",
    "import numpy as np\n",
    "from tqdm import trange\n",
    "from myDQN import DQN, ReplayBuffer, CNNDQN,DDQN\n",
    "\n",
    "import torchvision.transforms as T\n",
    "from PIL import Image\n",
    "\n",
    "image_size = 84\n",
    "transform = T.Compose([T.ToPILImage(),\n",
    "                       T.Grayscale(num_output_channels=1),\n",
    "                       T.Resize((image_size, image_size), interpolation=Image.CUBIC),\n",
    "                       T.ToTensor()])\n",
    "\n",
    "import queue\n",
    "state_buffer = queue.Queue()\n",
    "def get_state3(observation):\n",
    "    \n",
    "    # First time, repeat the state for 3 times\n",
    "    if(state_buffer.qsize() == 0):\n",
    "        for i in range(4):\n",
    "            state = get_state2(observation)\n",
    "            state_buffer.put(state)\n",
    "        # print(observation.shape, state.shape)\n",
    "    else:\n",
    "        state_buffer.get()\n",
    "        state = get_state2(observation)\n",
    "        state_buffer.put(state)\n",
    "    # for i in state_buffer.queue:\n",
    "    #     print(i.shape)\n",
    "    rep = torch.cat(list(state_buffer.queue), dim=0)\n",
    "    # print(\"rep=====\",rep.shape)\n",
    "    return rep\n",
    "\n",
    "def get_state2(observation):\n",
    "    state = observation.transpose((2,0,1))\n",
    "    state = torch.from_numpy(state)\n",
    "    state = transform(state)\n",
    "    return state\n",
    "\n",
    "# Select GPU or CPU as device\n",
    "device = torch.device(\"cuda:1\" if torch.cuda.is_available() else \"cpu\")\n",
    "print(device)\n",
    "\n",
    "epsilon_start = 1.0\n",
    "epsilon_final = 0.01\n",
    "epsilon_decay = 500\n",
    "\n",
    "# Epsilon annealing schedule generator\n",
    "\n",
    "def gen_eps_by_episode(epsilon_start, epsilon_final, epsilon_decay):\n",
    "    eps_by_episode = lambda episode: epsilon_final + (epsilon_start - epsilon_final) * math.exp(-1. * episode / epsilon_decay)\n",
    "    return eps_by_episode\n",
    "\n",
    "epsilon_start = 1.0\n",
    "epsilon_final = 0.01\n",
    "epsilon_decay = 500\n",
    "eps_by_episode = gen_eps_by_episode(epsilon_start, epsilon_final, epsilon_decay)\n",
    "\n",
    "\n",
    "env_id = 'SpaceInvaders-v0'\n",
    "env = gym.make(env_id)\n",
    "\n",
    "model = DDQN(4, env.action_space.n).to(device)\n",
    "    \n",
    "model.load_state_dict(torch.load('checkpoints/spaceInvaders-hw-phi-skip-1M.pth', map_location=torch.device('cpu') ),)\n",
    "model.eval()\n",
    "\n",
    "# replay_buffer = ReplayBuffer(1000)\n",
    "\n",
    "import time\n",
    "\n",
    "def play_game_CNN(model):\n",
    "    done = False\n",
    "    obs = env.reset()\n",
    "    state = get_state3(obs)\n",
    "    round_reward = 0\n",
    "    while(not done):\n",
    "        action = model.act(state, epsilon_final,env,device)\n",
    "        reward = 0\n",
    "        for i in range(3):\n",
    "            next_obs, i_reward, done, _ = env.step(action)\n",
    "            # next_obs, reward, done, _ = env.step(action)\n",
    "            reward += i_reward\n",
    "            if(done): break\n",
    "        round_reward += reward\n",
    "        next_state = get_state3(next_obs)\n",
    "        env.render()\n",
    "        time.sleep(0.1)\n",
    "        state = next_state\n",
    "    return round_reward\n",
    "\n",
    "reward_list = []\n",
    "\n",
    "for i in range(100):\n",
    "    reward = play_game_CNN(model)\n",
    "    print(f\"round {i}: {reward}\")\n",
    "    reward_list.append(reward)\n",
    "# time.sleep(3)\n",
    "env.close()\n",
    " \n",
    "print(\"Reward:\", sum(reward_list)/len(reward_list))"
   ]
  },
  {
   "cell_type": "markdown",
   "metadata": {},
   "source": [
    "### Conclusion"
   ]
  },
  {
   "cell_type": "markdown",
   "metadata": {},
   "source": [
    "The reward of our model at 5000 episode is 184.5.\n",
    "\n",
    "And the average reward of our trained model when played for 100 round is 213.3\n",
    "\n",
    "While the reward of the DDQN_prior_exp_replay that was trained for 200000 in lab was 273.5"
   ]
  },
  {
   "cell_type": "markdown",
   "metadata": {},
   "source": [
    "In this lab we learned a lot about many variations of DQN such as Vanilla DQN, Double DQN and Dueling DQN.\n",
    " And we also learned many techniques for training DQN."
   ]
  },
  {
   "cell_type": "code",
   "execution_count": null,
   "metadata": {},
   "outputs": [],
   "source": []
  }
 ],
 "metadata": {
  "kernelspec": {
   "display_name": "Python 3",
   "language": "python",
   "name": "python3"
  },
  "language_info": {
   "codemirror_mode": {
    "name": "ipython",
    "version": 3
   },
   "file_extension": ".py",
   "mimetype": "text/x-python",
   "name": "python",
   "nbconvert_exporter": "python",
   "pygments_lexer": "ipython3",
   "version": "3.8.3"
  }
 },
 "nbformat": 4,
 "nbformat_minor": 4
}
