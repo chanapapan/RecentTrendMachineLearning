{
 "cells": [
  {
   "cell_type": "markdown",
   "id": "corresponding-admission",
   "metadata": {},
   "source": [
    "# PART IV : Part of Speech Tagging and Named Entity Recognition\n",
    "\n",
    "I used this dataset from Kaggle for this task : https://www.kaggle.com/abhinavwalia95/entity-annotated-corpus?select=ner.csv\n",
    "\n",
    "This dataset is the extract from GMB(Groningen Meaning Bank) corpus which is tagged, annotated and built specifically to train the classifier to predict named entities such as name, location, etc."
   ]
  },
  {
   "cell_type": "code",
   "execution_count": 1,
   "id": "constitutional-volunteer",
   "metadata": {},
   "outputs": [],
   "source": [
    "from __future__ import unicode_literals, print_function, division\n",
    "from io import open\n",
    "import glob\n",
    "import os\n",
    "import unicodedata\n",
    "import string\n",
    "from IPython.display import clear_output\n",
    "\n",
    "import os, string, random, time, math\n",
    "import matplotlib.pyplot as plt\n",
    "plt.style.use(\"ggplot\")\n",
    "import seaborn as sns\n",
    "import numpy as np\n",
    "import pandas as pd\n",
    "\n",
    "from sklearn.model_selection import train_test_split\n",
    "\n",
    "import torch\n",
    "import torch.nn as nn\n",
    "import torch.optim as optim\n",
    "from get_free_gpu import get_free_gpu\n",
    "\n",
    "device = get_free_gpu()\n",
    "\n",
    "all_letters = string.ascii_letters + \" .,;'\"\n",
    "n_letters = len(all_letters)"
   ]
  },
  {
   "cell_type": "markdown",
   "id": "protected-guard",
   "metadata": {},
   "source": [
    "## Load the data\n",
    "\n",
    "At first this dataset comes in sentences but for this lab I just separated all the words and I will be predicting the class of each word."
   ]
  },
  {
   "cell_type": "code",
   "execution_count": 2,
   "id": "center-millennium",
   "metadata": {},
   "outputs": [
    {
     "data": {
      "text/html": [
       "<div>\n",
       "<style scoped>\n",
       "    .dataframe tbody tr th:only-of-type {\n",
       "        vertical-align: middle;\n",
       "    }\n",
       "\n",
       "    .dataframe tbody tr th {\n",
       "        vertical-align: top;\n",
       "    }\n",
       "\n",
       "    .dataframe thead th {\n",
       "        text-align: right;\n",
       "    }\n",
       "</style>\n",
       "<table border=\"1\" class=\"dataframe\">\n",
       "  <thead>\n",
       "    <tr style=\"text-align: right;\">\n",
       "      <th></th>\n",
       "      <th>Word</th>\n",
       "      <th>Tag</th>\n",
       "    </tr>\n",
       "  </thead>\n",
       "  <tbody>\n",
       "    <tr>\n",
       "      <th>0</th>\n",
       "      <td>Thousands</td>\n",
       "      <td>O</td>\n",
       "    </tr>\n",
       "    <tr>\n",
       "      <th>1</th>\n",
       "      <td>of</td>\n",
       "      <td>O</td>\n",
       "    </tr>\n",
       "    <tr>\n",
       "      <th>2</th>\n",
       "      <td>demonstrators</td>\n",
       "      <td>O</td>\n",
       "    </tr>\n",
       "    <tr>\n",
       "      <th>3</th>\n",
       "      <td>have</td>\n",
       "      <td>O</td>\n",
       "    </tr>\n",
       "    <tr>\n",
       "      <th>4</th>\n",
       "      <td>marched</td>\n",
       "      <td>O</td>\n",
       "    </tr>\n",
       "    <tr>\n",
       "      <th>5</th>\n",
       "      <td>through</td>\n",
       "      <td>O</td>\n",
       "    </tr>\n",
       "    <tr>\n",
       "      <th>6</th>\n",
       "      <td>London</td>\n",
       "      <td>B-geo</td>\n",
       "    </tr>\n",
       "    <tr>\n",
       "      <th>7</th>\n",
       "      <td>to</td>\n",
       "      <td>O</td>\n",
       "    </tr>\n",
       "    <tr>\n",
       "      <th>8</th>\n",
       "      <td>protest</td>\n",
       "      <td>O</td>\n",
       "    </tr>\n",
       "    <tr>\n",
       "      <th>9</th>\n",
       "      <td>the</td>\n",
       "      <td>O</td>\n",
       "    </tr>\n",
       "  </tbody>\n",
       "</table>\n",
       "</div>"
      ],
      "text/plain": [
       "            Word    Tag\n",
       "0      Thousands      O\n",
       "1             of      O\n",
       "2  demonstrators      O\n",
       "3           have      O\n",
       "4        marched      O\n",
       "5        through      O\n",
       "6         London  B-geo\n",
       "7             to      O\n",
       "8        protest      O\n",
       "9            the      O"
      ]
     },
     "execution_count": 2,
     "metadata": {},
     "output_type": "execute_result"
    }
   ],
   "source": [
    "import codecs\n",
    "import shutil\n",
    "\n",
    "with codecs.open(\"ner_dataset.csv\", encoding=\"latin1\") as input_file:\n",
    "    with codecs.open(\n",
    "            \"output_file.utf8.csv\", \"w\", encoding=\"utf-8\") as output_file:\n",
    "        shutil.copyfileobj(input_file, output_file)\n",
    "\n",
    "\n",
    "\n",
    "data = pd.read_csv(\"output_file.utf8.csv\", encoding=\"utf-8\")\n",
    "data = data.drop(['POS'], axis =1)\n",
    "data = data.drop(['Sentence #'], axis =1)\n",
    "\n",
    "data = data.fillna(method=\"ffill\")\n",
    "\n",
    "data.head(10)"
   ]
  },
  {
   "cell_type": "code",
   "execution_count": 3,
   "id": "limiting-confusion",
   "metadata": {},
   "outputs": [
    {
     "name": "stdout",
     "output_type": "stream",
     "text": [
      "<class 'list'>\n",
      "35178\n"
     ]
    }
   ],
   "source": [
    "# all unique words in the dataset\n",
    "words = list(set(list(data['Word'].values)))\n",
    "print(type(words))\n",
    "\n",
    "# total number of words in the dataset\n",
    "n_words = len(words)\n",
    "print(n_words)"
   ]
  },
  {
   "cell_type": "code",
   "execution_count": 4,
   "id": "extensive-contract",
   "metadata": {},
   "outputs": [
    {
     "name": "stdout",
     "output_type": "stream",
     "text": [
      "17\n",
      "['I-per', 'I-geo', 'B-nat', 'I-org', 'B-geo', 'B-org', 'I-nat', 'B-tim', 'I-eve', 'I-gpe', 'I-tim', 'B-per', 'B-eve', 'O', 'I-art', 'B-gpe', 'B-art']\n"
     ]
    }
   ],
   "source": [
    "# all possible tags in the dataset\n",
    "tags = list(set(data[\"Tag\"].values))\n",
    "\n",
    "# total number of tags in the dataset\n",
    "n_tags = len(tags)\n",
    "print(n_tags)\n",
    "print(tags)"
   ]
  },
  {
   "cell_type": "markdown",
   "id": "current-output",
   "metadata": {},
   "source": [
    "Here are the meaning of the tags:\n",
    "\n",
    "    geo = Geographical Entity\n",
    "    org = Organization\n",
    "    per = Person\n",
    "    gpe = Geopolitical Entity\n",
    "    tim = Time indicator\n",
    "    art = Artifact\n",
    "    eve = Event\n",
    "    nat = Natural Phenomenon\n",
    "    O   = other tags that is not a name entity"
   ]
  },
  {
   "cell_type": "code",
   "execution_count": 5,
   "id": "tight-medline",
   "metadata": {},
   "outputs": [
    {
     "data": {
      "text/plain": [
       "array([['Thousands', 'O'],\n",
       "       ['of', 'O'],\n",
       "       ['demonstrators', 'O'],\n",
       "       ...,\n",
       "       ['to', 'O'],\n",
       "       ['the', 'O'],\n",
       "       ['attack', 'O']], dtype=object)"
      ]
     },
     "execution_count": 5,
     "metadata": {},
     "output_type": "execute_result"
    }
   ],
   "source": [
    "data = np.array(data)\n",
    "data"
   ]
  },
  {
   "cell_type": "markdown",
   "id": "prospective-desktop",
   "metadata": {},
   "source": [
    "## Create lists of all words and all tags"
   ]
  },
  {
   "cell_type": "code",
   "execution_count": 6,
   "id": "moderate-active",
   "metadata": {},
   "outputs": [
    {
     "name": "stdout",
     "output_type": "stream",
     "text": [
      "17251\n",
      "7414\n",
      "201\n",
      "16784\n",
      "37644\n",
      "20143\n",
      "51\n",
      "20333\n",
      "253\n",
      "198\n",
      "6528\n",
      "16990\n",
      "308\n",
      "887908\n",
      "297\n",
      "15870\n",
      "402\n",
      "1048575\n",
      "1048575\n"
     ]
    }
   ],
   "source": [
    "# Build the category_lines dictionary, a list of names per language\n",
    "category_words = {}\n",
    "all_words_data = []\n",
    "all_tags_data = []\n",
    "\n",
    "for i in tags:\n",
    "    category_words[i] = []\n",
    "\n",
    "\n",
    "for word, tag in data:\n",
    "    category_words[tag].append(word)\n",
    "    all_words_data.append(word)\n",
    "    all_tags_data.append(tag)\n",
    "    \n",
    "for i in tags:\n",
    "    print(len(category_words[i]))\n",
    "    \n",
    "print(len(all_words_data))\n",
    "print(len(all_tags_data))"
   ]
  },
  {
   "cell_type": "markdown",
   "id": "sitting-button",
   "metadata": {},
   "source": [
    "## Train Test Split"
   ]
  },
  {
   "cell_type": "code",
   "execution_count": 7,
   "id": "secure-manchester",
   "metadata": {},
   "outputs": [],
   "source": [
    "X_train, X_test, y_train, y_test = train_test_split(all_words_data, all_tags_data, test_size = 0.2, random_state = 123, stratify = all_tags_data)"
   ]
  },
  {
   "cell_type": "code",
   "execution_count": 8,
   "id": "swiss-recipe",
   "metadata": {},
   "outputs": [
    {
     "name": "stdout",
     "output_type": "stream",
     "text": [
      "The number of observations in the training data:  838860\n",
      "The number of observations in the test data:  209715\n"
     ]
    }
   ],
   "source": [
    "#count\n",
    "print(\"The number of observations in the training data: \", len(X_train))\n",
    "print(\"The number of observations in the test data: \", len(X_test))"
   ]
  },
  {
   "cell_type": "code",
   "execution_count": 14,
   "id": "elegant-hampton",
   "metadata": {},
   "outputs": [],
   "source": [
    "#create simple rnn network \n",
    "class RNN_net(nn.Module):\n",
    "    #Create a constructor\n",
    "    def __init__(self, input_size, hidden_size, output_size):\n",
    "        super(RNN_net, self).__init__()\n",
    "        self.hidden_size = hidden_size \n",
    "        self.rnn_cell = nn.RNN(input_size, hidden_size)\n",
    "        self.h20 = nn.Linear(hidden_size, output_size)\n",
    "        self.softmax = nn.LogSoftmax(dim = 1)\n",
    "\n",
    "    #create a forward pass function\n",
    "    def forward(self, input_, hidden = None, batch_size = 1):\n",
    "        out, hidden = self.rnn_cell(input_.to(device), hidden)\n",
    "        output = self.h20(hidden.view(-1, self.hidden_size))\n",
    "        output = self.softmax(output)\n",
    "        return output, hidden\n",
    "\n",
    "    def init_hidden(self, batch_size = 1):\n",
    "        #function to init the hidden layers\n",
    "        return torch.zeros(1, batch_size, self.hidden_size).to(device)"
   ]
  },
  {
   "cell_type": "code",
   "execution_count": 15,
   "id": "bacterial-emerald",
   "metadata": {},
   "outputs": [],
   "source": [
    "#function to run inference\n",
    "def infer(net, name, device = device):\n",
    "    name_ohe = name_rep(name).to(device)\n",
    "\n",
    "    #get the output\n",
    "    output, hidden = net(name_ohe)\n",
    "\n",
    "    if type(hidden) is tuple: #for lSTM\n",
    "        hidden = hidden[0]\n",
    "    index = torch.argmax(hidden)\n",
    "\n",
    "    return output"
   ]
  },
  {
   "cell_type": "code",
   "execution_count": 16,
   "id": "suburban-sending",
   "metadata": {},
   "outputs": [],
   "source": [
    "#create hidden layers\n",
    "n_hidden = 128 #hidden layers count\n",
    "\n",
    "#initialize the network\n",
    "net = RNN_net(input_size=n_letters, hidden_size=n_hidden, output_size=n_tags).to(device)"
   ]
  },
  {
   "cell_type": "code",
   "execution_count": 20,
   "id": "greatest-ivory",
   "metadata": {},
   "outputs": [],
   "source": [
    "#create an evaluation function \n",
    "\n",
    "def eval(net, n_points, topk, X_, y_, device = device):\n",
    "    \"Evaluation function\"\n",
    "\n",
    "    net = net.eval().to(device)\n",
    "    data_ = dataloader(n_points, X_, y_)\n",
    "    correct = 0\n",
    "\n",
    "    #iterate\n",
    "    for name, language, name_ohe, lang_rep in data_:\n",
    "        \n",
    "#         name = name.to(device)\n",
    "#         language = language.to(device)\n",
    "        name_ohe = name_ohe.to(device)\n",
    "        lang_rep = lang_rep.to(device)\n",
    "        \n",
    "        \n",
    "\n",
    "        #get the output\n",
    "        output = infer(net, name, device)\n",
    "        val, indices = output.topk(topk) #get the top k values\n",
    "        indices = indices.to(device) #convert to devices\n",
    "        \n",
    "        if lang_rep in indices:\n",
    "            correct += 1\n",
    "\n",
    "    accuracy = correct/n_points\n",
    "    return accuracy"
   ]
  },
  {
   "cell_type": "code",
   "execution_count": 22,
   "id": "understood-contact",
   "metadata": {},
   "outputs": [],
   "source": [
    "#create a batched name rep\n",
    "\n",
    "def batched_name_rep(names, max_word_size):\n",
    "    rep = torch.zeros(max_word_size, len(names), n_letters)\n",
    "    for name_index, name in enumerate(names):\n",
    "        for letter_index, letter in enumerate(name):\n",
    "            pos = all_letters.find(letter)\n",
    "            rep[letter_index][name_index][pos] = 1\n",
    "    return rep"
   ]
  },
  {
   "cell_type": "code",
   "execution_count": 23,
   "id": "gross-import",
   "metadata": {},
   "outputs": [],
   "source": [
    "#function to print the output\n",
    "\n",
    "def print_char(name_reps):\n",
    "    name_reps = name_reps.view((-1, name_reps.size()[-1]))\n",
    "    for t in name_reps: \n",
    "        if torch.sum(t) == 0:\n",
    "            print('<pad>')\n",
    "        else:\n",
    "            index = t.argmax()\n",
    "            print(all_letters[index])"
   ]
  },
  {
   "cell_type": "code",
   "execution_count": 25,
   "id": "built-constraint",
   "metadata": {},
   "outputs": [],
   "source": [
    "def batched_lang_rep(langs):\n",
    "    rep = torch.zeros([len(langs)], dtype=torch.long)\n",
    "    for index, lang in enumerate(langs):\n",
    "        rep[index] = tags.index(lang)\n",
    "    return rep"
   ]
  },
  {
   "cell_type": "code",
   "execution_count": 26,
   "id": "complicated-lover",
   "metadata": {},
   "outputs": [],
   "source": [
    "#create dataloader\n",
    "def batched_dataloader(npoints, X_, y_, verbose=False, device = device):\n",
    "    names = []\n",
    "    langs = []\n",
    "    X_lengths = []\n",
    "    \n",
    "    for i in range(npoints):\n",
    "        index_ = np.random.randint(len(X_))\n",
    "        name, lang = X_[index_], y_[index_]\n",
    "        X_lengths.append(len(name))\n",
    "        names.append(name)\n",
    "        langs.append(lang)\n",
    "    max_length = max(X_lengths)\n",
    "    \n",
    "    names_rep = batched_name_rep(names, max_length).to(device)\n",
    "    langs_rep = batched_lang_rep(langs).to(device)\n",
    "    \n",
    "    padded_names_rep = torch.nn.utils.rnn.pack_padded_sequence(names_rep, X_lengths, enforce_sorted = False)\n",
    "    \n",
    "    if verbose:\n",
    "        print(names_rep.shape, padded_names_rep.data.shape)\n",
    "        print('--')\n",
    "    \n",
    "    if verbose:\n",
    "        print(names)\n",
    "        print_char(names_rep)\n",
    "        print('--')\n",
    "    \n",
    "    if verbose:\n",
    "        print_char(padded_names_rep.data)\n",
    "        print('Lang Rep', langs_rep.data)\n",
    "        print('Batch sizes', padded_names_rep.batch_sizes)\n",
    "    \n",
    "    \n",
    "    return padded_names_rep.to(device), langs_rep"
   ]
  },
  {
   "cell_type": "code",
   "execution_count": 30,
   "id": "pending-wholesale",
   "metadata": {},
   "outputs": [],
   "source": [
    "#parameters for batch training\n",
    "\n",
    "net = RNN_net(n_letters, n_hidden, n_tags).to(device)\n",
    "criterion = nn.NLLLoss().to(device)\n",
    "opt = optim.SGD(net.parameters(), lr=0.01, momentum=0.9)"
   ]
  },
  {
   "cell_type": "code",
   "execution_count": 31,
   "id": "regular-longer",
   "metadata": {},
   "outputs": [],
   "source": [
    "def train_batch(net, opt, criterion, n_points, device = device):\n",
    "    \n",
    "    net.train().to(device)\n",
    "    opt.zero_grad()\n",
    "    \n",
    "    batch_input, batch_groundtruth = batched_dataloader(n_points, X_train, y_train, False, device)\n",
    "    batch_input = batch_input.to(device)\n",
    "    batch_groundtruth = batch_groundtruth.to(device)\n",
    "    \n",
    "    output, hidden = net(batch_input)\n",
    "    \n",
    "    loss = criterion(output, batch_groundtruth)\n",
    "    \n",
    "    loss.backward()\n",
    "    opt.step()\n",
    "    return loss"
   ]
  },
  {
   "cell_type": "code",
   "execution_count": 33,
   "id": "coated-spectacular",
   "metadata": {},
   "outputs": [],
   "source": [
    "def train_setup(net, lr = 0.01, n_batches = 100, batch_size = 10, momentum = 0.9, display_freq=5, device = device):\n",
    "    net = net.to(device)\n",
    "    criterion = nn.NLLLoss().to(device)\n",
    "    opt = optim.SGD(net.parameters(), lr=lr, momentum=momentum)\n",
    "    \n",
    "    loss_arr = np.zeros(n_batches + 1)\n",
    "    \n",
    "    for i in range(n_batches):\n",
    "        loss_arr[i+1] = (loss_arr[i]*i + train_batch(net, opt, criterion, batch_size, device))/(i + 1)\n",
    "        \n",
    "        if i%display_freq == display_freq-1:\n",
    "            clear_output(wait=True)\n",
    "            \n",
    "            print('Iteration', i, 'Loss', loss_arr[i])\n",
    "            # print('Top-1:', eval(net, len(X_test), 1, X_test, y_test), 'Top-2:', eval(net, len(X_test), 2, X_test, y_test))\n",
    "            plt.figure()\n",
    "            plt.plot(loss_arr[1:i], '-*')\n",
    "            plt.xlabel('Iteration')\n",
    "            plt.ylabel('Loss')\n",
    "            plt.show()\n",
    "            print('\\n\\n')\n",
    "            \n",
    "    print('Top-1 Accuracy:', eval(net, len(X_test), 1, X_test, y_test, device), 'Top-2 Accuracy:', eval(net, len(X_test), 2, X_test, y_test, device))"
   ]
  },
  {
   "cell_type": "code",
   "execution_count": 34,
   "id": "angry-dublin",
   "metadata": {},
   "outputs": [
    {
     "name": "stdout",
     "output_type": "stream",
     "text": [
      "Iteration 1499 Loss 0.35833823680877686\n"
     ]
    },
    {
     "data": {
      "image/png": "[encoded data removed]",
      "text/plain": [
       "<matplotlib.figure.Figure at 0x7f4a06e810b8>"
      ]
     },
     "metadata": {
      "needs_background": "light"
     },
     "output_type": "display_data"
    },
    {
     "name": "stdout",
     "output_type": "stream",
     "text": [
      "\n",
      "\n",
      "\n",
      "Top-1 Accuracy: 0.9259185084519467 Top-2 Accuracy: 0.9547671840354767\n",
      "CPU times: user 9min 4s, sys: 9.21 s, total: 9min 13s\n",
      "Wall time: 7min 46s\n"
     ]
    }
   ],
   "source": [
    "%%time\n",
    "\n",
    "#training RNN using batch technique\n",
    "net = RNN_net(n_letters, 128, n_tags)\n",
    "train_setup(net, lr=0.15, n_batches=1500, batch_size = 512, display_freq=500)"
   ]
  },
  {
   "cell_type": "markdown",
   "id": "encouraging-norway",
   "metadata": {},
   "source": [
    "# RESULTS"
   ]
  },
  {
   "cell_type": "markdown",
   "id": "circular-trunk",
   "metadata": {},
   "source": [
    "In this part, I did the name entity classification task on words extracted from GMB corpus.\n",
    "\n",
    "We trained the model for 1500 batches and each batch has 512 words.\n",
    "\n",
    "Training finished in 9 mins. We got the Top-1 accuracy of 92% and Top-2 Accuracy of 95% which is very good."
   ]
  },
  {
   "cell_type": "markdown",
   "id": "failing-nepal",
   "metadata": {},
   "source": [
    "# CONCLUSION\n",
    "\n",
    "This lab we learned about RNN and how to train them with batches of sequence and also to apply them to classfication of words from the sequence of letters."
   ]
  }
 ],
 "metadata": {
  "kernelspec": {
   "display_name": "Python 3",
   "language": "python",
   "name": "python3"
  },
  "language_info": {
   "codemirror_mode": {
    "name": "ipython",
    "version": 3
   },
   "file_extension": ".py",
   "mimetype": "text/x-python",
   "name": "python",
   "nbconvert_exporter": "python",
   "pygments_lexer": "ipython3",
   "version": "3.6.9"
  }
 },
 "nbformat": 4,
 "nbformat_minor": 5
}
