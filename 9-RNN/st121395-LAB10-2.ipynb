{
 "cells": [
  {
   "cell_type": "markdown",
   "id": "completed-script",
   "metadata": {},
   "source": [
    "# PART II : Predicting the language a surname comes from ( ADDED TANH )\n",
    "In this part we added the tanh activation fuction between the hidden state to the output so that the structure match with Figure 10.3 in Goodfellow's textbook."
   ]
  },
  {
   "cell_type": "code",
   "execution_count": 1,
   "id": "interracial-russell",
   "metadata": {},
   "outputs": [
    {
     "name": "stdout",
     "output_type": "stream",
     "text": [
      "['../../data/RNN/data/names/Arabic.txt', '../../data/RNN/data/names/Chinese.txt', '../../data/RNN/data/names/Czech.txt', '../../data/RNN/data/names/Dutch.txt', '../../data/RNN/data/names/English.txt', '../../data/RNN/data/names/French.txt', '../../data/RNN/data/names/German.txt', '../../data/RNN/data/names/Greek.txt', '../../data/RNN/data/names/Irish.txt', '../../data/RNN/data/names/Italian.txt', '../../data/RNN/data/names/Japanese.txt', '../../data/RNN/data/names/Korean.txt', '../../data/RNN/data/names/Polish.txt', '../../data/RNN/data/names/Portuguese.txt', '../../data/RNN/data/names/Russian.txt', '../../data/RNN/data/names/Scottish.txt', '../../data/RNN/data/names/Spanish.txt', '../../data/RNN/data/names/Vietnamese.txt']\n"
     ]
    }
   ],
   "source": [
    "from __future__ import unicode_literals, print_function, division\n",
    "from io import open\n",
    "import glob\n",
    "import os\n",
    "import unicodedata\n",
    "import string\n",
    "\n",
    "def findFiles(path):\n",
    "    return glob.glob(path)\n",
    "\n",
    "print(findFiles('../../data/RNN/data/names/*.txt'))\n",
    "\n",
    "all_letters = string.ascii_letters + \" .,;'\"\n",
    "n_letters = len(all_letters)"
   ]
  },
  {
   "cell_type": "code",
   "execution_count": 2,
   "id": "durable-strain",
   "metadata": {},
   "outputs": [],
   "source": [
    "# Turn a Unicode string to plain ASCII, thanks to https://stackoverflow.com/a/518232/2809427\n",
    "\n",
    "def unicodeToAscii(s):\n",
    "    return ''.join(\n",
    "        c for c in unicodedata.normalize('NFD', s)\n",
    "        if unicodedata.category(c) != 'Mn'\n",
    "        and c in all_letters\n",
    "    )"
   ]
  },
  {
   "cell_type": "code",
   "execution_count": 3,
   "id": "informal-battery",
   "metadata": {},
   "outputs": [],
   "source": [
    "# Build the category_lines dictionary, a list of names per language\n",
    "\n",
    "category_lines = {}\n",
    "all_categories = []\n",
    "\n",
    "# Read a file and split into lines\n",
    "\n",
    "def readLines(filename):\n",
    "    lines = open(filename, encoding='utf-8').read().strip().split('\\n')\n",
    "    return [unicodeToAscii(line) for line in lines]\n",
    "\n",
    "for filename in findFiles('../../data/RNN/data/names/*.txt'):\n",
    "    category = os.path.splitext(os.path.basename(filename))[0]\n",
    "    all_categories.append(category)\n",
    "    lines = readLines(filename)\n",
    "    category_lines[category] = lines\n",
    "\n",
    "n_categories = len(all_categories)"
   ]
  },
  {
   "cell_type": "code",
   "execution_count": 4,
   "id": "vital-consideration",
   "metadata": {},
   "outputs": [],
   "source": [
    "import torch\n",
    "\n",
    "# Find letter index from all_letters, e.g. \"a\" -> 0\n",
    "\n",
    "def letterToIndex(letter):\n",
    "    return all_letters.find(letter)\n",
    "\n",
    "# (For demonstration) turn a letter into a <1 x n_letters> tensor\n",
    "\n",
    "def letterToTensor(letter):\n",
    "    tensor = torch.zeros(1, n_letters)\n",
    "    tensor[0][letterToIndex(letter)] = 1\n",
    "    return tensor\n",
    "\n",
    "# Turn a line into a <line_length x 1 x n_letters> tensor\n",
    "# (an array of one-hot letter vectors)\n",
    "\n",
    "def lineToTensor(line):\n",
    "    tensor = torch.zeros(len(line), 1, n_letters)\n",
    "    for li, letter in enumerate(line):\n",
    "        tensor[li][0][letterToIndex(letter)] = 1\n",
    "    return tensor\n",
    "\n",
    "def categoryFromOutput(output):\n",
    "    top_n, top_i = output.topk(1)\n",
    "    category_i = top_i[0].item()\n",
    "    return all_categories[category_i], category_i\n",
    "\n",
    "import random\n",
    "\n",
    "def randomChoice(l):\n",
    "    # random.randint range is inclusive thus len(l)-1\n",
    "    return l[random.randint(0, len(l) - 1)]\n",
    "\n",
    "def randomTrainingExample():\n",
    "    category = randomChoice(all_categories)\n",
    "    line = randomChoice(category_lines[category])\n",
    "    category_tensor = torch.tensor([all_categories.index(category)], dtype=torch.long)\n",
    "    line_tensor = lineToTensor(line)\n",
    "    return category, line, category_tensor, line_tensor"
   ]
  },
  {
   "cell_type": "markdown",
   "id": "usual-citizenship",
   "metadata": {},
   "source": [
    "## The RNN architecture with tanh activation function"
   ]
  },
  {
   "cell_type": "code",
   "execution_count": 5,
   "id": "eight-concentrate",
   "metadata": {},
   "outputs": [],
   "source": [
    "import torch.nn as nn\n",
    "from torch.nn import functional as F\n",
    "\n",
    "class RNN(nn.Module):\n",
    "    def __init__(self, input_size, hidden_size, output_size):\n",
    "        super(RNN, self).__init__()\n",
    "\n",
    "        self.hidden_size = hidden_size\n",
    "\n",
    "        self.i2h = nn.Linear(input_size + hidden_size, hidden_size)\n",
    "        self.i2o = nn.Linear(hidden_size, output_size)\n",
    "        self.softmax = nn.LogSoftmax(dim=1)\n",
    "\n",
    "    def forward(self, input, hidden):\n",
    "        combined = torch.cat((input, hidden), 1)\n",
    "        hidden = F.tanh(self.i2h(combined)) # ADDED TANH HERE !!!!\n",
    "        output = self.i2o(hidden)\n",
    "        output = self.softmax(output)\n",
    "        return output, hidden\n",
    "\n",
    "    def initHidden(self):\n",
    "        return torch.zeros(1, self.hidden_size)\n",
    "\n",
    "n_hidden = 128\n",
    "rnn = RNN(n_letters, n_hidden, n_categories)"
   ]
  },
  {
   "cell_type": "code",
   "execution_count": 6,
   "id": "offensive-description",
   "metadata": {},
   "outputs": [],
   "source": [
    "criterion = nn.NLLLoss() \n",
    "learning_rate = 0.005 # If you set this too high, it might explode. If too low, it might not learn"
   ]
  },
  {
   "cell_type": "code",
   "execution_count": 7,
   "id": "assisted-celebrity",
   "metadata": {},
   "outputs": [],
   "source": [
    "def train(category_tensor, line_tensor):\n",
    "    hidden = rnn.initHidden()\n",
    "\n",
    "    rnn.zero_grad()\n",
    "\n",
    "    for i in range(line_tensor.size()[0]):\n",
    "        output, hidden = rnn(line_tensor[i], hidden)\n",
    "\n",
    "    loss = criterion(output, category_tensor)\n",
    "    loss.backward()\n",
    "\n",
    "    # Add parameters' gradients to their values, multiplied by learning rate\n",
    "    for p in rnn.parameters():\n",
    "        p.data.add_(-learning_rate, p.grad.data)\n",
    "\n",
    "    return output, loss.item()  "
   ]
  },
  {
   "cell_type": "code",
   "execution_count": 8,
   "id": "ambient-reynolds",
   "metadata": {},
   "outputs": [
    {
     "name": "stderr",
     "output_type": "stream",
     "text": [
      "/usr/local/lib/python3.6/dist-packages/torch/nn/functional.py:1628: UserWarning: nn.functional.tanh is deprecated. Use torch.tanh instead.\n",
      "  warnings.warn(\"nn.functional.tanh is deprecated. Use torch.tanh instead.\")\n",
      "/usr/local/lib/python3.6/dist-packages/ipykernel_launcher.py:14: UserWarning: This overload of add_ is deprecated:\n",
      "\tadd_(Number alpha, Tensor other)\n",
      "Consider using one of the following signatures instead:\n",
      "\tadd_(Tensor other, *, Number alpha) (Triggered internally at  /pytorch/torch/csrc/utils/python_arg_parser.cpp:882.)\n",
      "  \n"
     ]
    },
    {
     "name": "stdout",
     "output_type": "stream",
     "text": [
      "5000 1% (2m 30s) 2.8625 D'cruze / Czech ✗ (Portuguese)\n",
      "10000 3% (4m 52s) 1.9234 Milligan / Irish ✓\n",
      "15000 5% (6m 3s) 1.9275 Abasolo / Italian ✗ (Spanish)\n",
      "20000 6% (6m 29s) 1.4254 Agthoven / Dutch ✓\n",
      "25000 8% (7m 3s) 0.5273 Duong / Vietnamese ✓\n",
      "30000 10% (7m 30s) 0.8406 Leclair / French ✓\n",
      "35000 11% (7m 55s) 1.0677 Slezak / Polish ✗ (Czech)\n",
      "40000 13% (8m 21s) 2.2626 Michel / Czech ✗ (Polish)\n",
      "45000 15% (8m 48s) 1.1958 Kloet / Dutch ✓\n",
      "50000 16% (9m 14s) 0.2933 Vyazmikin / Russian ✓\n",
      "55000 18% (9m 40s) 4.2967 Simon / English ✗ (Irish)\n",
      "60000 20% (10m 6s) 0.1646 Diakogeorgiou / Greek ✓\n",
      "65000 21% (10m 32s) 0.0698 Balakhnin / Russian ✓\n",
      "70000 23% (10m 59s) 2.5637 Leitner / French ✗ (German)\n",
      "75000 25% (11m 20s) 0.1848 Sokolofsky / Polish ✓\n",
      "80000 26% (11m 41s) 3.5247 Whitelaw / Czech ✗ (English)\n",
      "85000 28% (12m 1s) 0.1600 Seok / Korean ✓\n",
      "90000 30% (12m 21s) 2.2140 Schetinkin / Dutch ✗ (Russian)\n",
      "95000 31% (12m 42s) 2.7701 Rompa / Italian ✗ (Dutch)\n",
      "100000 33% (13m 4s) 1.7957 Schwarzenegger / Czech ✗ (German)\n",
      "105000 35% (13m 28s) 1.3889 Halabi / Italian ✗ (Arabic)\n",
      "110000 36% (13m 48s) 0.7454 Cao / Chinese ✓\n",
      "115000 38% (14m 9s) 0.1372 Varela / Spanish ✓\n",
      "120000 40% (14m 29s) 1.0196 Masi / Arabic ✗ (Italian)\n",
      "125000 41% (14m 52s) 0.4123 Ang / Chinese ✓\n",
      "130000 43% (15m 21s) 0.6934 Newbold / English ✓\n",
      "135000 45% (15m 52s) 0.1485 Tahan / Arabic ✓\n",
      "140000 46% (16m 22s) 0.0685 Mar / Chinese ✓\n",
      "145000 48% (16m 52s) 3.0204 Morisue / French ✗ (Japanese)\n",
      "150000 50% (17m 22s) 0.0141 Sarkis / Arabic ✓\n",
      "155000 51% (17m 52s) 0.1212 Charbonneau / French ✓\n",
      "160000 53% (18m 22s) 1.4925 Gutermuth / Czech ✗ (German)\n",
      "165000 55% (19m 0s) 0.0060 Slusarski / Polish ✓\n",
      "170000 56% (19m 39s) 2.1318 Tosi / Arabic ✗ (Italian)\n",
      "175000 58% (20m 17s) 0.0483 Close / Greek ✓\n",
      "180000 60% (20m 55s) 0.0452 Leeuwenhoek / Dutch ✓\n",
      "185000 61% (21m 34s) 0.0088 Essa / Arabic ✓\n",
      "190000 63% (22m 12s) 1.1974 Yudenich / Russian ✓\n",
      "195000 65% (22m 51s) 0.0059 Ruvelas / Greek ✓\n",
      "200000 66% (23m 29s) 2.0402 Peij / Spanish ✗ (Dutch)\n",
      "205000 68% (24m 7s) 0.0087 Sotiris / Greek ✓\n",
      "210000 70% (24m 45s) 1.5552 Paulis / English ✗ (Dutch)\n",
      "215000 71% (25m 15s) 0.1244 Sedmik / Czech ✓\n",
      "220000 73% (25m 45s) 0.0955 Truong / Vietnamese ✓\n",
      "225000 75% (26m 14s) 0.0271 Sutherland / Scottish ✓\n",
      "230000 76% (26m 44s) 0.4213 Temko / Japanese ✓\n",
      "235000 78% (27m 14s) 0.0234 Tsuruya / Japanese ✓\n",
      "240000 80% (27m 44s) 4.8187 Abels / Spanish ✗ (Russian)\n",
      "245000 81% (28m 16s) 0.0058 Benenati / Italian ✓\n",
      "250000 83% (28m 46s) 0.1916 Segher / Dutch ✓\n",
      "255000 85% (29m 18s) 0.9002 Marmo / Italian ✓\n",
      "260000 86% (29m 48s) 0.1301 Brzezicki / Polish ✓\n",
      "265000 88% (30m 10s) 0.9924 Metz / Dutch ✗ (German)\n",
      "270000 90% (30m 31s) 0.0019 Stolarz / Polish ✓\n",
      "275000 91% (30m 56s) 0.4687 Laar / Dutch ✓\n",
      "280000 93% (31m 16s) 0.0218 Noh / Korean ✓\n",
      "285000 95% (31m 37s) 0.0033 Marszaek / Polish ✓\n",
      "290000 96% (31m 58s) 0.4362 Esser / German ✓\n",
      "295000 98% (32m 25s) 0.1052 Dubhshlaine / Irish ✓\n",
      "300000 100% (32m 55s) 0.0265 Sabbagh / Arabic ✓\n"
     ]
    }
   ],
   "source": [
    "import time\n",
    "import math\n",
    "\n",
    "n_iters = 300000\n",
    "print_every = 5000\n",
    "plot_every = 1000\n",
    "\n",
    "# Keep track of losses for plotting\n",
    "current_loss = 0\n",
    "all_losses = []\n",
    "\n",
    "def timeSince(since):\n",
    "    now = time.time()\n",
    "    s = now - since\n",
    "    m = math.floor(s / 60)\n",
    "    s -= m * 60\n",
    "    return '%dm %ds' % (m, s)\n",
    "\n",
    "start = time.time()\n",
    "\n",
    "for iter in range(1, n_iters + 1):\n",
    "    category, line, category_tensor, line_tensor = randomTrainingExample()\n",
    "    output, loss = train(category_tensor, line_tensor)\n",
    "    current_loss += loss\n",
    "\n",
    "    # Print iter number, loss, name and guess\n",
    "    if iter % print_every == 0:\n",
    "        guess, guess_i = categoryFromOutput(output)\n",
    "        correct = '✓' if guess == category else '✗ (%s)' % category\n",
    "        print('%d %d%% (%s) %.4f %s / %s %s' % (iter, iter / n_iters * 100, timeSince(start), loss, line, guess, correct))\n",
    "\n",
    "    # Add current loss avg to list of losses\n",
    "    if iter % plot_every == 0:\n",
    "        all_losses.append(current_loss / plot_every)\n",
    "        current_loss = 0"
   ]
  },
  {
   "cell_type": "code",
   "execution_count": 9,
   "id": "considered-transition",
   "metadata": {},
   "outputs": [
    {
     "data": {
      "text/plain": [
       "[<matplotlib.lines.Line2D at 0x7f89704f2278>]"
      ]
     },
     "execution_count": 9,
     "metadata": {},
     "output_type": "execute_result"
    },
    {
     "data": {
      "image/png": "[encoded data removed]",
      "text/plain": [
       "<matplotlib.figure.Figure at 0x7f8afc67aa20>"
      ]
     },
     "metadata": {
      "needs_background": "light"
     },
     "output_type": "display_data"
    }
   ],
   "source": [
    "%matplotlib inline\n",
    "\n",
    "import matplotlib.pyplot as plt\n",
    "import matplotlib.ticker as ticker\n",
    "\n",
    "plt.figure()\n",
    "plt.plot(all_losses)"
   ]
  },
  {
   "cell_type": "code",
   "execution_count": 10,
   "id": "exposed-calculation",
   "metadata": {},
   "outputs": [
    {
     "name": "stderr",
     "output_type": "stream",
     "text": [
      "/usr/local/lib/python3.6/dist-packages/torch/nn/functional.py:1628: UserWarning: nn.functional.tanh is deprecated. Use torch.tanh instead.\n",
      "  warnings.warn(\"nn.functional.tanh is deprecated. Use torch.tanh instead.\")\n"
     ]
    },
    {
     "data": {
      "image/png": "[encoded data removed]",
      "text/plain": [
       "<matplotlib.figure.Figure at 0x7f89705944e0>"
      ]
     },
     "metadata": {
      "needs_background": "light"
     },
     "output_type": "display_data"
    }
   ],
   "source": [
    "# Keep track of correct guesses in a confusion matrix\n",
    "confusion = torch.zeros(n_categories, n_categories)\n",
    "n_confusion = 10000\n",
    "\n",
    "# Just return an output given a line\n",
    "def evaluate(line_tensor):\n",
    "    hidden = rnn.initHidden()\n",
    "\n",
    "    for i in range(line_tensor.size()[0]):\n",
    "        output, hidden = rnn(line_tensor[i], hidden)\n",
    "\n",
    "    return output\n",
    "\n",
    "# Go through a bunch of examples and record which are correctly guessed\n",
    "for i in range(n_confusion):\n",
    "    category, line, category_tensor, line_tensor = randomTrainingExample()\n",
    "    output = evaluate(line_tensor)\n",
    "    guess, guess_i = categoryFromOutput(output)\n",
    "    category_i = all_categories.index(category)\n",
    "    confusion[category_i][guess_i] += 1\n",
    "\n",
    "# Normalize by dividing every row by its sum\n",
    "for i in range(n_categories):\n",
    "    confusion[i] = confusion[i] / confusion[i].sum()\n",
    "\n",
    "# Set up plot\n",
    "fig = plt.figure()\n",
    "ax = fig.add_subplot(111)\n",
    "cax = ax.matshow(confusion.numpy())\n",
    "fig.colorbar(cax)\n",
    "\n",
    "# Set up axes\n",
    "ax.set_xticklabels([''] + all_categories, rotation=90)\n",
    "ax.set_yticklabels([''] + all_categories)\n",
    "\n",
    "# Force label at every tick\n",
    "ax.xaxis.set_major_locator(ticker.MultipleLocator(1))\n",
    "ax.yaxis.set_major_locator(ticker.MultipleLocator(1))\n",
    "\n",
    "# sphinx_gallery_thumbnail_number = 2\n",
    "plt.show()"
   ]
  },
  {
   "cell_type": "markdown",
   "id": "enabling-recorder",
   "metadata": {},
   "source": [
    "## RESULTS"
   ]
  },
  {
   "cell_type": "markdown",
   "id": "clinical-addiction",
   "metadata": {},
   "source": [
    "In this part we trained an RNN with the same architecture with Goodfellow's Figure 10.3.\n",
    "\n",
    "There is tanh activation function between the hidden state to the output.\n",
    "\n",
    "At first, I trained the model for 100000 iters but I noticed that the loss were still decreasing so I trained again for 300000 iters.\n",
    "\n",
    "Then, we can see int he loss plot that the loss has decreased more and converging better to the value around 0.5.\n",
    "\n",
    "In the confusion matrix we can see that, compared to the model in part 1 where there is no tanh activation function, this model predict the languages more accurately. As seen that the diagonal boxes are clearer and there are noticably less light-color boxes at other positions.\n",
    "\n",
    "These results indicate that with tanh the RNN can learn better."
   ]
  }
 ],
 "metadata": {
  "kernelspec": {
   "display_name": "Python 3",
   "language": "python",
   "name": "python3"
  },
  "language_info": {
   "codemirror_mode": {
    "name": "ipython",
    "version": 3
   },
   "file_extension": ".py",
   "mimetype": "text/x-python",
   "name": "python",
   "nbconvert_exporter": "python",
   "pygments_lexer": "ipython3",
   "version": "3.6.9"
  }
 },
 "nbformat": 4,
 "nbformat_minor": 5
}
