{
 "cells": [
  {
   "cell_type": "markdown",
   "id": "inclusive-disability",
   "metadata": {},
   "source": [
    "# Simple RNN with Batching"
   ]
  },
  {
   "cell_type": "code",
   "execution_count": 13,
   "id": "important-cornell",
   "metadata": {},
   "outputs": [],
   "source": [
    "import torch.nn as nn\n",
    "\n",
    "class RNN(nn.Module):\n",
    "    def __init__(self, input_size, hidden_size, output_size): # (n_letters, n_hidden, n_categories)\n",
    "        super(RNN, self).__init__()\n",
    "\n",
    "        self.hidden_size = hidden_size\n",
    "\n",
    "        self.i2h = nn.Linear(input_size + hidden_size, hidden_size)\n",
    "        self.h2o = nn.Linear(hidden_size, output_size)\n",
    "        \n",
    "        # A bit more efficient than normal Softmax\n",
    "        self.softmax = nn.LogSoftmax(dim=1)\n",
    "\n",
    "    def forward(self, input, hidden):\n",
    "        combined = torch.cat((input, hidden), 1)\n",
    "        \n",
    "        a = self.i2h(combined)\n",
    "        hidden = torch.tanh(a) # added tanh to the hidden state\n",
    "        \n",
    "        o = self.h2o(hidden)\n",
    "        y_hat = self.softmax(o) # added softmax to the output\n",
    "        # hidden = self.i2h(combined)\n",
    "        # output = self.i2o(combined)\n",
    "        # output = self.softmax(output)\n",
    "        return y_hat, hidden\n",
    "\n",
    "    def initHidden(self, batch_size = 1):\n",
    "        return torch.zeros(batch_size, self.hidden_size) # BATCH SIZE!!!"
   ]
  },
  {
   "cell_type": "code",
   "execution_count": 14,
   "id": "suburban-terrorism",
   "metadata": {},
   "outputs": [],
   "source": [
    "from __future__ import unicode_literals, print_function, division\n",
    "from io import open\n",
    "import glob\n",
    "import os\n",
    "import unicodedata\n",
    "import string\n",
    "import torch\n",
    "\n",
    "\n",
    "# Util Functions\n",
    "def findFiles(path):\n",
    "    return glob.glob(path)\n",
    "\n",
    "def unicodeToAscii(s):\n",
    "    return ''.join(\n",
    "        c for c in unicodedata.normalize('NFD', s)\n",
    "        if unicodedata.category(c) != 'Mn'\n",
    "        and c in all_letters\n",
    "    )\n",
    "\n",
    "def letterToIndex(letter):\n",
    "    return all_letters.find(letter)\n",
    "\n",
    "# (For demonstration) turn a letter into a <1 x n_letters> tensor\n",
    "\n",
    "def letterToTensor(letter):\n",
    "    tensor = torch.zeros(1, n_letters)\n",
    "    tensor[0][letterToIndex(letter)] = 1\n",
    "    return tensor\n",
    "\n",
    "# Turn a line into a <line_length x 1 x n_letters> tensor\n",
    "# (an array of one-hot letter vectors)\n",
    "\n",
    "def lineToTensor(line):\n",
    "    tensor = torch.zeros(len(line), 1, n_letters)\n",
    "    for li, letter in enumerate(line):\n",
    "        tensor[li][0][letterToIndex(letter)] = 1\n",
    "    return tensor\n",
    "\n",
    "def categoryFromOutput(output):\n",
    "    top_n, top_i = output.topk(1)\n",
    "    category_i = top_i[0].item()\n",
    "    return all_categories[category_i], category_i\n",
    "\n",
    "# Read a file and split into lines\n",
    "def readLines(filename):\n",
    "    lines = open(filename, encoding='utf-8').read().strip().split('\\n')\n",
    "    return [unicodeToAscii(line) for line in lines]"
   ]
  },
  {
   "cell_type": "code",
   "execution_count": 15,
   "id": "forward-conditions",
   "metadata": {},
   "outputs": [
    {
     "name": "stdout",
     "output_type": "stream",
     "text": [
      "18\n"
     ]
    }
   ],
   "source": [
    "# Prepare Data\n",
    "all_letters = string.ascii_letters + \" .,;'\"\n",
    "\n",
    "category_lines = {}\n",
    "all_categories = []\n",
    "\n",
    "n_letters = len(all_letters)\n",
    "\n",
    "for filename in findFiles('../../data/RNN/data/names/*.txt'):\n",
    "    category = os.path.splitext(os.path.basename(filename))[0]\n",
    "    all_categories.append(category)\n",
    "    lines = readLines(filename)\n",
    "    category_lines[category] = lines\n",
    "\n",
    "\n",
    "n_categories = len(all_categories)\n",
    "print(n_categories)\n",
    "\n",
    "# n_hidden = 128\n",
    "# rnn = RNN(n_letters, n_hidden, n_categories)"
   ]
  },
  {
   "cell_type": "code",
   "execution_count": 16,
   "id": "hydraulic-collectible",
   "metadata": {},
   "outputs": [],
   "source": [
    "# https://www.marktechpost.com/2020/04/12/implementing-batching-for-seq2seq-models-in-pytorch/\n",
    "def batched_lines(names, max_word_size):\n",
    "    rep = torch.zeros(max_word_size, len(names), n_letters)\n",
    "    for name_index, name in enumerate(names):\n",
    "        for letter_index, letter in enumerate(name):\n",
    "            pos = all_letters.find(letter)\n",
    "            rep[letter_index][name_index][pos] = 1\n",
    "    return rep\n",
    "\n",
    "def print_char(name_reps):\n",
    "    # name_reps = name_reps.view((-1, name_reps.size()[-1]))\n",
    "    # print(name_reps)\n",
    "    for t in name_reps: \n",
    "        # if torch.sum(t) == 0:\n",
    "        #     print('')\n",
    "        # else:\n",
    "            index = t.argmax()\n",
    "            print(all_letters[index])\n",
    "\n",
    "def batched_categories(langs):\n",
    "    rep = torch.zeros([len(langs)], dtype=torch.long)\n",
    "    for index, lang in enumerate(langs):\n",
    "        rep[index] = all_categories.index(lang)\n",
    "    return rep"
   ]
  },
  {
   "cell_type": "code",
   "execution_count": 25,
   "id": "responsible-firmware",
   "metadata": {},
   "outputs": [
    {
     "name": "stdout",
     "output_type": "stream",
     "text": [
      "torch.Size([9, 2, 57])\n"
     ]
    }
   ],
   "source": [
    "out = batched_lines(['Shyam','Ram'], 9)\n",
    "print(out.shape)\n",
    "# torch.Size([9, 2, 57])\n",
    "# (seq_length, num_seq, onehot)\n",
    "\n",
    "# print_char(out[:,0,:]) # first name\n",
    "# print()\n",
    "# print_char(out[:,1,:]) # second name"
   ]
  },
  {
   "cell_type": "code",
   "execution_count": 18,
   "id": "critical-count",
   "metadata": {},
   "outputs": [],
   "source": [
    "import random\n",
    "\n",
    "def randomChoice(l):\n",
    "    # random.randint range is inclusive thus len(l)-1\n",
    "    return l[random.randint(0, len(l) - 1)]\n",
    "\n",
    "def randomTrainingExample(batch_size = 1):\n",
    "    if(batch_size == 1):\n",
    "        category = randomChoice(all_categories)\n",
    "        line = randomChoice(category_lines[category])\n",
    "        category_tensor = torch.tensor([all_categories.index(category)], dtype=torch.long)\n",
    "        line_tensor = lineToTensor(line)\n",
    "        return category, line, category_tensor, line_tensor\n",
    "    else:\n",
    "        max_length = 0\n",
    "        categories = []\n",
    "        lines = []\n",
    "        lines_length = []\n",
    "        for i in range(batch_size):\n",
    "            category = randomChoice(all_categories)\n",
    "            line = randomChoice(category_lines[category])\n",
    "            categories.append(category)\n",
    "            lines.append(line)\n",
    "            lines_length.append(len(line))\n",
    "            if(len(line) > max_length): max_length = len(line)\n",
    "        line_tensor = batched_lines(lines,max_length)\n",
    "        category_tensor = batched_categories(categories)\n",
    "        return categories, lines, category_tensor, line_tensor\n",
    "\n",
    "# If use softmax -> corss entropy\n",
    "# If use logsoftmax -> negative log likelihood loss"
   ]
  },
  {
   "cell_type": "code",
   "execution_count": 13,
   "id": "automatic-customs",
   "metadata": {},
   "outputs": [],
   "source": [
    "# If you set this too high, it might explode. If too low, it might not learn\n",
    "\n",
    "def train(category_tensor, line_tensor):\n",
    "    hidden = rnn.initHidden(line_tensor.shape[1]).to('cuda:1')\n",
    "\n",
    "    rnn.zero_grad()\n",
    "\n",
    "    for i in range(line_tensor.size()[0]):\n",
    "        output, hidden = rnn(line_tensor[i], hidden)\n",
    "\n",
    "    loss = criterion(output, category_tensor)\n",
    "    loss.backward()\n",
    "\n",
    "    # Add parameters' gradients to their values, multiplied by learning rate\n",
    "    for p in rnn.parameters():\n",
    "        p.data.add_(-learning_rate, p.grad.data)\n",
    "\n",
    "    return output, loss.item()\n",
    "\n",
    "def timeSince(since):\n",
    "    now = time.time()\n",
    "    s = now - since\n",
    "    m = math.floor(s / 60)\n",
    "    s -= m * 60\n",
    "    return '%dm %ds' % (m, s)"
   ]
  },
  {
   "cell_type": "code",
   "execution_count": null,
   "id": "prompt-tower",
   "metadata": {},
   "outputs": [],
   "source": [
    "n_hidden = 128\n",
    "\n",
    "rnn = RNN(n_letters, n_hidden, n_categories)\n",
    "rnn = rnn.to('cuda:1')\n",
    "\n",
    "criterion = nn.NLLLoss()\n",
    "\n",
    "learning_rate = 0.005 "
   ]
  },
  {
   "cell_type": "code",
   "execution_count": 14,
   "id": "unnecessary-valve",
   "metadata": {},
   "outputs": [
    {
     "name": "stderr",
     "output_type": "stream",
     "text": [
      "/usr/local/lib/python3.6/dist-packages/ipykernel_launcher.py:16: UserWarning: This overload of add_ is deprecated:\n",
      "\tadd_(Number alpha, Tensor other)\n",
      "Consider using one of the following signatures instead:\n",
      "\tadd_(Tensor other, *, Number alpha) (Triggered internally at  /pytorch/torch/csrc/utils/python_arg_parser.cpp:1005.)\n",
      "  app.launch_new_instance()\n"
     ]
    },
    {
     "name": "stdout",
     "output_type": "stream",
     "text": [
      "5000 5% (0m 46s) 2.8683 ['Veverka', 'Antonelli', 'Abadi', 'Orton', 'Ly', 'Bitar', 'Guirguis', 'Konstantatos', 'Sakamoto', 'Dominguez'] / French ✗ (['Czech', 'Italian', 'Arabic', 'English', 'Vietnamese', 'Arabic', 'Arabic', 'Greek', 'Japanese', 'Spanish'])\n",
      "10000 10% (1m 32s) 2.7484 ['Kalb', 'Hovanec', 'Cornett', 'Coelho', 'Obinata', 'Lu', 'Touma', 'Emmanuel', 'Mckenzie', 'Mansour'] / Scottish ✗ (['Arabic', 'Czech', 'French', 'Portuguese', 'Japanese', 'Chinese', 'Arabic', 'English', 'Scottish', 'Arabic'])\n",
      "15000 15% (2m 17s) 2.4452 ['Ramsay', 'Cuellar', 'Giblin', 'Seaghdha', 'Jeong', 'Middelburg', 'Chung', 'Snijders', 'Upson', 'Yamana'] / Greek ✗ (['Scottish', 'Spanish', 'English', 'Irish', 'Korean', 'Dutch', 'Korean', 'Dutch', 'English', 'Japanese'])\n",
      "20000 20% (3m 3s) 1.9246 ['Lobo', 'Adler', 'Bock', 'Kokoris', 'Parrino', 'Yin', 'Prachar', 'Okuda', 'Macias', 'Heinrich'] / Arabic ✗ (['Portuguese', 'German', 'Czech', 'Greek', 'Italian', 'Chinese', 'Czech', 'Japanese', 'Spanish', 'German'])\n",
      "25000 25% (3m 47s) 2.2906 ['Langlais', 'Abello', 'Ramires', 'Santini', 'Lind', 'Papageorge', 'Sebastiani', 'Araullo', 'Dertilis', 'Leeuwenhoek'] / Italian ✗ (['French', 'Spanish', 'Portuguese', 'Italian', 'Czech', 'Greek', 'Italian', 'Portuguese', 'Greek', 'Dutch'])\n",
      "30000 30% (4m 31s) 1.8596 ['Bui', 'Pokholkov', 'Jamieson', 'Boyle', 'Kolacny', 'Casey', 'Koury', 'Rudawski', 'Silva', 'Blanxart'] / Vietnamese ✗ (['Vietnamese', 'Russian', 'Scottish', 'Scottish', 'Czech', 'Irish', 'Arabic', 'Polish', 'Spanish', 'Spanish'])\n",
      "35000 35% (5m 15s) 1.8709 ['Bang', 'Ping', 'Giordano', 'Abba', 'Balakshin', 'Borde', 'Almasi', 'Soares', 'Tokarenko', 'Stock'] / Vietnamese ✗ (['Korean', 'Chinese', 'Italian', 'Italian', 'Russian', 'French', 'Arabic', 'Portuguese', 'Russian', 'English'])\n",
      "40000 40% (5m 59s) 1.7427 ['Do', 'To', 'Kavanagh', 'Yao', 'Toman', 'Ryom', 'Rahal', 'Fleming', 'Otrokhov', 'Colman'] / Chinese ✗ (['Vietnamese', 'Vietnamese', 'Irish', 'Chinese', 'Czech', 'Korean', 'Arabic', 'Scottish', 'Russian', 'Irish'])\n",
      "45000 45% (6m 44s) 2.1689 ['Uhlik', 'Slusarczyk', 'Can', 'Noh', 'Sabbag', 'Zhu', 'Munro', 'Bordelon', 'Douglas', 'Steele'] / Russian ✗ (['Czech', 'Polish', 'Dutch', 'Korean', 'Arabic', 'Chinese', 'Scottish', 'French', 'Scottish', 'English'])\n",
      "50000 50% (7m 30s) 1.6119 ['Offermans', 'Sarraf', 'Ferro', 'Voclain', 'Moretti', 'Tow', 'Pezos', 'Pillay', 'Chavez', 'Luther'] / Dutch ✗ (['Dutch', 'Arabic', 'Portuguese', 'French', 'Italian', 'Chinese', 'Greek', 'English', 'Spanish', 'German'])\n",
      "55000 55% (8m 15s) 1.9660 ['Douglas', 'Koliha', 'Shim', 'Houten', 'Gaber', 'Pherigo', 'Faure', 'Hiorvst', 'Hahn', 'Choi'] / Greek ✗ (['Scottish', 'Czech', 'Korean', 'Dutch', 'Arabic', 'Italian', 'French', 'Czech', 'German', 'Korean'])\n",
      "60000 60% (9m 0s) 1.5577 ['Fakhoury', 'Stamatas', 'Hay', 'Johnstone', 'Steinmann', 'Belo', 'Kriz', 'Bruce', 'Ryoo', 'Toset'] / Russian ✗ (['Arabic', 'Greek', 'Scottish', 'Scottish', 'German', 'Portuguese', 'Czech', 'Scottish', 'Korean', 'Spanish'])\n",
      "65000 65% (9m 43s) 1.0300 ['Lohtin', 'Kelly', 'Agaphonoff', 'Machado', 'Pantelakos', 'Kaminski', 'Pietri', 'Hebert', 'Warszawski', 'Kurtz'] / Russian ✗ (['Russian', 'Scottish', 'Russian', 'Portuguese', 'Greek', 'Polish', 'Italian', 'French', 'Polish', 'Czech'])\n",
      "70000 70% (10m 26s) 0.7822 ['Ortiz', 'Nie', 'Milligan', 'Duarte', 'Jaskolski', 'Pakhunov', 'Pelletier', 'Korandak', 'Royer', 'Thuy'] / Czech ✗ (['Spanish', 'Chinese', 'Irish', 'Portuguese', 'Polish', 'Russian', 'French', 'Czech', 'French', 'Vietnamese'])\n",
      "75000 75% (11m 10s) 1.2175 ['Karkampasis', 'Protopsaltis', 'Grayson', 'Hong', 'Sen', 'Mueller', 'Thuy', 'Starek', 'Avana', 'Yasui'] / Greek ✗ (['Greek', 'Greek', 'English', 'Chinese', 'Japanese', 'German', 'Vietnamese', 'Polish', 'Spanish', 'Japanese'])\n",
      "80000 80% (11m 53s) 1.3621 ['Paternoster', 'Patenaude', 'Vejvoda', 'Do', 'Murphy', 'Youn', 'Fleming', 'Chou', 'Pelletier', 'Adessi'] / Dutch ✗ (['Italian', 'French', 'Czech', 'Vietnamese', 'Scottish', 'Korean', 'Scottish', 'Korean', 'French', 'Italian'])\n",
      "85000 85% (12m 34s) 0.3426 ['Zilberschlag', 'Rocha', 'Reijnder', 'Masuzoe', 'Clark', 'Tatsuno', 'Nieri', 'Watson', \"O'Kane\", 'Archambault'] / German ✗ (['German', 'Portuguese', 'Dutch', 'Japanese', 'Scottish', 'Japanese', 'Italian', 'Scottish', 'Irish', 'French'])\n",
      "90000 90% (13m 19s) 0.7539 ['Blazek', 'Mcgregor', 'An', 'Degarmo', 'Dunst', 'De santigo', 'Deniau', 'Del bosque', 'Akutagawa', 'Lac'] / Czech ✗ (['Czech', 'Scottish', 'Vietnamese', 'French', 'German', 'Portuguese', 'French', 'Spanish', 'Japanese', 'Vietnamese'])\n",
      "95000 95% (14m 2s) 1.1083 ['Spannagel', 'Watari', 'Carboni', 'Cabral', 'Yun', 'Kumiega', 'Meeuwissen', 'Danas', 'Winter', 'Gerges'] / Italian ✗ (['German', 'Japanese', 'Italian', 'Portuguese', 'Korean', 'Polish', 'Dutch', 'Greek', 'German', 'Arabic'])\n",
      "100000 100% (14m 46s) 0.9297 ['Ventura', 'Scheinberg', 'Doyle', 'Malouf', 'Shamahov', 'Peck', 'Snijder', 'Soho', 'Morek', 'Bello'] / Portuguese ✗ (['Spanish', 'German', 'Irish', 'Arabic', 'Russian', 'English', 'Dutch', 'Japanese', 'Czech', 'Spanish'])\n"
     ]
    }
   ],
   "source": [
    "import time\n",
    "import math\n",
    "\n",
    "n_iters = 10\n",
    "print_every = 2\n",
    "plot_every = 10\n",
    "\n",
    "# Keep track of losses for plotting\n",
    "current_loss = 0\n",
    "all_losses = []\n",
    "\n",
    "start = time.time()\n",
    "rnn = rnn.to('cuda:1')\n",
    "\n",
    "batch_size = 10\n",
    "# n_iters = int(n_iters / batch_size)\n",
    "# print_every = int(print_every / batch_size)\n",
    "# plot_every = int(plot_every / batch_size)\n",
    "\n",
    "for iter in range(1, n_iters + 1):\n",
    "    category, line, category_tensor, line_tensor = randomTrainingExample(batch_size)\n",
    "    # print(type(category_tensor.to('cuda:1')), type(line_tensor))\n",
    "\n",
    "    output, loss = train(category_tensor.to('cuda:1'), line_tensor.to('cuda:1'))\n",
    "    current_loss += loss\n",
    "\n",
    "    # Print iter number, loss, name and guess\n",
    "    if iter % print_every == 0:\n",
    "        guess, guess_i = categoryFromOutput(output)\n",
    "        correct = '✓' if guess == category else '✗ (%s)' % category\n",
    "        print('%d %d%% (%s) %.4f %s / %s %s' % (iter, iter / n_iters * 100, timeSince(start), loss, line, guess, correct))\n",
    "\n",
    "    # Add current loss avg to list of losses\n",
    "    if iter % plot_every == 0:\n",
    "        all_losses.append(current_loss / plot_every)\n",
    "        current_loss = 0"
   ]
  },
  {
   "cell_type": "code",
   "execution_count": 15,
   "id": "speaking-ceiling",
   "metadata": {},
   "outputs": [
    {
     "data": {
      "text/plain": [
       "[<matplotlib.lines.Line2D at 0x7f47dcd14748>]"
      ]
     },
     "execution_count": 15,
     "metadata": {},
     "output_type": "execute_result"
    }
   ],
   "source": [
    "import matplotlib.pyplot as plt\n",
    "import matplotlib.ticker as ticker\n",
    "\n",
    "plt.figure()\n",
    "plt.plot(all_losses)"
   ]
  },
  {
   "cell_type": "code",
   "execution_count": 16,
   "id": "limiting-extra",
   "metadata": {},
   "outputs": [
    {
     "data": {
      "image/png": "[encoded data removed]",
      "text/plain": [
       "<matplotlib.figure.Figure at 0x7f47dcd43f60>"
      ]
     },
     "metadata": {
      "needs_background": "light"
     },
     "output_type": "display_data"
    }
   ],
   "source": [
    "# Keep track of correct guesses in a confusion matrix\n",
    "confusion = torch.zeros(n_categories, n_categories)\n",
    "n_confusion = 10000\n",
    "\n",
    "# Just return an output given a line\n",
    "def evaluate(line_tensor):\n",
    "    hidden = rnn.initHidden().to('cuda:1')\n",
    "\n",
    "    for i in range(line_tensor.size()[0]):\n",
    "        output, hidden = rnn(line_tensor[i], hidden)\n",
    "\n",
    "    return output\n",
    "\n",
    "# Go through a bunch of examples and record which are correctly guessed\n",
    "for i in range(n_confusion):\n",
    "    category, line, category_tensor, line_tensor = randomTrainingExample()\n",
    "    output = evaluate(line_tensor.to('cuda:1'))\n",
    "    guess, guess_i = categoryFromOutput(output)\n",
    "    category_i = all_categories.index(category)\n",
    "    confusion[category_i][guess_i] += 1\n",
    "\n",
    "# Normalize by dividing every row by its sum\n",
    "for i in range(n_categories):\n",
    "    confusion[i] = confusion[i] / confusion[i].sum()\n",
    "\n",
    "# Set up plot\n",
    "fig = plt.figure()\n",
    "ax = fig.add_subplot(111)\n",
    "cax = ax.matshow(confusion.numpy())\n",
    "fig.colorbar(cax)\n",
    "\n",
    "# Set up axes\n",
    "ax.set_xticklabels([''] + all_categories, rotation=90)\n",
    "ax.set_yticklabels([''] + all_categories)\n",
    "\n",
    "# Force label at every tick\n",
    "ax.xaxis.set_major_locator(ticker.MultipleLocator(1))\n",
    "ax.yaxis.set_major_locator(ticker.MultipleLocator(1))\n",
    "\n",
    "# sphinx_gallery_thumbnail_number = 2\n",
    "plt.show()"
   ]
  },
  {
   "cell_type": "code",
   "execution_count": 26,
   "id": "planned-lodge",
   "metadata": {},
   "outputs": [
    {
     "name": "stdout",
     "output_type": "stream",
     "text": [
      "\n",
      "> Dovesky\n"
     ]
    },
    {
     "ename": "NameError",
     "evalue": "name 'evaluate' is not defined",
     "output_type": "error",
     "traceback": [
      "\u001b[0;31m---------------------------------------------------------------------------\u001b[0m",
      "\u001b[0;31mNameError\u001b[0m                                 Traceback (most recent call last)",
      "\u001b[0;32m<ipython-input-26-a587e61e61f9>\u001b[0m in \u001b[0;36m<module>\u001b[0;34m\u001b[0m\n\u001b[1;32m     14\u001b[0m             \u001b[0mpredictions\u001b[0m\u001b[0;34m.\u001b[0m\u001b[0mappend\u001b[0m\u001b[0;34m(\u001b[0m\u001b[0;34m[\u001b[0m\u001b[0mvalue\u001b[0m\u001b[0;34m,\u001b[0m \u001b[0mall_categories\u001b[0m\u001b[0;34m[\u001b[0m\u001b[0mcategory_index\u001b[0m\u001b[0;34m]\u001b[0m\u001b[0;34m]\u001b[0m\u001b[0;34m)\u001b[0m\u001b[0;34m\u001b[0m\u001b[0;34m\u001b[0m\u001b[0m\n\u001b[1;32m     15\u001b[0m \u001b[0;34m\u001b[0m\u001b[0m\n\u001b[0;32m---> 16\u001b[0;31m \u001b[0mpredict\u001b[0m\u001b[0;34m(\u001b[0m\u001b[0;34m'Dovesky'\u001b[0m\u001b[0;34m)\u001b[0m\u001b[0;34m\u001b[0m\u001b[0;34m\u001b[0m\u001b[0m\n\u001b[0m\u001b[1;32m     17\u001b[0m \u001b[0mpredict\u001b[0m\u001b[0;34m(\u001b[0m\u001b[0;34m'Jackson'\u001b[0m\u001b[0;34m)\u001b[0m\u001b[0;34m\u001b[0m\u001b[0;34m\u001b[0m\u001b[0m\n\u001b[1;32m     18\u001b[0m \u001b[0mpredict\u001b[0m\u001b[0;34m(\u001b[0m\u001b[0;34m'Satoshi'\u001b[0m\u001b[0;34m)\u001b[0m\u001b[0;34m\u001b[0m\u001b[0;34m\u001b[0m\u001b[0m\n",
      "\u001b[0;32m<ipython-input-26-a587e61e61f9>\u001b[0m in \u001b[0;36mpredict\u001b[0;34m(input_line, n_predictions)\u001b[0m\n\u001b[1;32m      2\u001b[0m     \u001b[0mprint\u001b[0m\u001b[0;34m(\u001b[0m\u001b[0;34m'\\n> %s'\u001b[0m \u001b[0;34m%\u001b[0m \u001b[0minput_line\u001b[0m\u001b[0;34m)\u001b[0m\u001b[0;34m\u001b[0m\u001b[0;34m\u001b[0m\u001b[0m\n\u001b[1;32m      3\u001b[0m     \u001b[0;32mwith\u001b[0m \u001b[0mtorch\u001b[0m\u001b[0;34m.\u001b[0m\u001b[0mno_grad\u001b[0m\u001b[0;34m(\u001b[0m\u001b[0;34m)\u001b[0m\u001b[0;34m:\u001b[0m\u001b[0;34m\u001b[0m\u001b[0;34m\u001b[0m\u001b[0m\n\u001b[0;32m----> 4\u001b[0;31m         \u001b[0moutput\u001b[0m \u001b[0;34m=\u001b[0m \u001b[0mevaluate\u001b[0m\u001b[0;34m(\u001b[0m\u001b[0mlineToTensor\u001b[0m\u001b[0;34m(\u001b[0m\u001b[0minput_line\u001b[0m\u001b[0;34m)\u001b[0m\u001b[0;34m.\u001b[0m\u001b[0mto\u001b[0m\u001b[0;34m(\u001b[0m\u001b[0;34m'cuda:1'\u001b[0m\u001b[0;34m)\u001b[0m\u001b[0;34m)\u001b[0m\u001b[0;34m\u001b[0m\u001b[0;34m\u001b[0m\u001b[0m\n\u001b[0m\u001b[1;32m      5\u001b[0m \u001b[0;34m\u001b[0m\u001b[0m\n\u001b[1;32m      6\u001b[0m         \u001b[0;31m# Get top N categories\u001b[0m\u001b[0;34m\u001b[0m\u001b[0;34m\u001b[0m\u001b[0;34m\u001b[0m\u001b[0m\n",
      "\u001b[0;31mNameError\u001b[0m: name 'evaluate' is not defined"
     ]
    }
   ],
   "source": [
    "def predict(input_line, n_predictions=3):\n",
    "    print('\\n> %s' % input_line)\n",
    "    with torch.no_grad():\n",
    "        output = evaluate(lineToTensor(input_line).to('cuda:1'))\n",
    "\n",
    "        # Get top N categories\n",
    "        topv, topi = output.topk(n_predictions, 1, True)\n",
    "        predictions = []\n",
    "\n",
    "        for i in range(n_predictions):\n",
    "            value = topv[0][i].item()\n",
    "            category_index = topi[0][i].item()\n",
    "            print('(%.2f) %s' % (value, all_categories[category_index]))\n",
    "            predictions.append([value, all_categories[category_index]])\n",
    "\n",
    "predict('Dovesky')\n",
    "predict('Jackson')\n",
    "predict('Satoshi')"
   ]
  },
  {
   "cell_type": "code",
   "execution_count": null,
   "id": "helpful-specialist",
   "metadata": {},
   "outputs": [],
   "source": []
  }
 ],
 "metadata": {
  "kernelspec": {
   "display_name": "Python 3",
   "language": "python",
   "name": "python3"
  },
  "language_info": {
   "codemirror_mode": {
    "name": "ipython",
    "version": 3
   },
   "file_extension": ".py",
   "mimetype": "text/x-python",
   "name": "python",
   "nbconvert_exporter": "python",
   "pygments_lexer": "ipython3",
   "version": "3.6.9"
  }
 },
 "nbformat": 4,
 "nbformat_minor": 5
}
