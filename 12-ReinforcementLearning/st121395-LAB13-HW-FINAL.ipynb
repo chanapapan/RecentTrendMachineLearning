{
 "cells": [
  {
   "cell_type": "markdown",
   "metadata": {},
   "source": [
    "# DQN for TIC-TAC-TOE"
   ]
  },
  {
   "cell_type": "markdown",
   "metadata": {},
   "source": [
    "As a first attempt, we might convert the input state-action pairs to a binary representation and use a linear output for the Q value.\n",
    "\n",
    "We would use a one-hot representation for each of the 9 game cells in s (3 choices) and the 9 possible actions. This would give us 36 inputs.\n",
    "\n",
    "The neural network would be multi-layer. With two fully connected layers of 10 units each, we'd have 10x37+10x11+11=491 parameters.\n",
    "\n",
    "However, take a look at DQN. Their model has a NN to process the input images from the Atari console and has one output for each possible action.\n",
    "\n",
    "With this approach, we would have just 27 inputs and 9 outputs.\n",
    "\n",
    "Two fully connected layers of 10 units each would give us 10 x 28 + 10 x 11 + 9 x 11 = 489 parameters, which is similar in size to the above and has the advantage of only\n",
    "having to be executed once to get the value of every action.\n",
    "\n",
    "So, the first step will be to replace the Q table with a Q network. Go ahead and write your network class in PyTorch.\n",
    "\n",
    "\n",
    "Deep Q-Learning\n",
    "\n",
    "Alright, you have a neural network to replace the Q table, but how to learn its parameters?\n",
    "\n",
    "Take a look again at Mnih et al. (2015). The method they recommend is experience replay in which they store recent state-action-reward tuples in a buffer and train on random subsamples from the buffer.\n",
    "\n",
    "You'll have to decide some things, such as what to do if the agent samples an illegal move. Give a negative reward? Give a 0 reward? Think about it and try an approach.\n",
    "\n",
    "Go ahead and write the DQN algorithm, using your simple fully connected network in place of the CNN. Get it learning!\n",
    "\n",
    "Report on your experiments and results by next week."
   ]
  },
  {
   "cell_type": "code",
   "execution_count": 1,
   "metadata": {},
   "outputs": [],
   "source": [
    "import math, random\n",
    "import importlib\n",
    "from collections import defaultdict\n",
    "\n",
    "import torch\n",
    "import torch.nn as nn\n",
    "import torch.optim as optim\n",
    "import torch.autograd as autograd \n",
    "import torch.nn.functional as F\n",
    "\n",
    "import matplotlib.pyplot as plt\n",
    "\n",
    "import gym\n",
    "import numpy as np\n",
    "import os\n",
    "\n",
    "from collections import deque\n",
    "from tqdm import trange\n",
    "\n",
    "# Select GPU or CPU as device\n",
    "\n",
    "device = 'cpu'"
   ]
  },
  {
   "cell_type": "code",
   "execution_count": 2,
   "metadata": {},
   "outputs": [],
   "source": [
    "def plot(episode, rewards, losses):\n",
    "    # clear_output(True)\n",
    "    plt.figure(figsize=(20,5))\n",
    "    plt.subplot(131)\n",
    "    plt.title('episode %s. reward: %s' % (episode, np.mean(rewards[-10:])))\n",
    "    plt.plot(rewards)\n",
    "    plt.subplot(132)\n",
    "    plt.title('loss')\n",
    "    plt.plot(losses)   \n",
    "    plt.show() \n",
    "\n",
    "\n",
    "def gen_eps_by_episode(epsilon_start, epsilon_final, epsilon_decay):\n",
    "    eps_by_episode = lambda episode: epsilon_final + (epsilon_start - epsilon_final) * math.exp(-1. * episode / epsilon_decay)\n",
    "    return eps_by_episode\n",
    "\n",
    "epsilon_start = 1.0\n",
    "epsilon_final = 0.01\n",
    "epsilon_decay = 500\n",
    "eps_by_episode = gen_eps_by_episode(epsilon_start, epsilon_final, epsilon_decay)"
   ]
  },
  {
   "cell_type": "code",
   "execution_count": 3,
   "metadata": {},
   "outputs": [],
   "source": [
    "class ReplayBuffer(object):\n",
    "    def __init__(self, capacity):\n",
    "        self.buffer = deque(maxlen=capacity)\n",
    "    \n",
    "    def push(self, state, action, reward, next_state, done):\n",
    "        # Add batch index dimension to state representations\n",
    "        state = np.expand_dims(state, 0)\n",
    "        next_state = np.expand_dims(next_state, 0)            \n",
    "        self.buffer.append((state, action, reward, next_state, done))\n",
    "    \n",
    "    def sample(self, batch_size):\n",
    "        state, action, reward, next_state, done = zip(*random.sample(self.buffer, batch_size))\n",
    "        return np.concatenate(state), action, reward, np.concatenate(next_state), done\n",
    "    \n",
    "    def __len__(self):\n",
    "        return len(self.buffer)"
   ]
  },
  {
   "cell_type": "code",
   "execution_count": 16,
   "metadata": {},
   "outputs": [],
   "source": [
    "class DQN(nn.Module):\n",
    "    \n",
    "    def __init__(self, n_state, n_action):\n",
    "        super(DQN, self).__init__()\n",
    "        self.layers = nn.Sequential(\n",
    "            nn.Linear(in_features=n_state, out_features=10),\n",
    "            nn.ReLU(),\n",
    "            nn.Linear(in_features=10, out_features=10),\n",
    "            nn.ReLU(),\n",
    "            nn.Linear(in_features=10, out_features=n_action))\n",
    "        \n",
    "    def forward(self, x):\n",
    "        return self.layers(x)\n",
    "    \n",
    "    def act(self, state, epsilon):\n",
    "        # Get an epsilon greedy action for given state\n",
    "        if random.random() > epsilon: # Use argmax_a Q(s,a)\n",
    "            state = autograd.Variable(torch.Tensor(state).unsqueeze(0)).to(device)\n",
    "#             print(state.shape)\n",
    "            q_value = self.forward(state)\n",
    "            q_value = q_value.cpu()\n",
    "#             print(q_value.shape)\n",
    "            action = q_value.max(1)[1].item()            \n",
    "        else: # get random action\n",
    "#             action = random.randrange(env.action_space.n)\n",
    "            action = random.randrange(9)\n",
    "        return action\n",
    "    \n",
    "    def get_q_value(self, state):\n",
    "        state = autograd.Variable(torch.Tensor(state).unsqueeze(0)).to(device)\n",
    "#             print(state.shape)\n",
    "        q_value = self.forward(state)\n",
    "        q_value = q_value.cpu()\n",
    "#             print(q_value.shape)\n",
    "        action = q_value.max(1)[1].item() \n",
    "        \n",
    "        return q_value, action\n",
    "        "
   ]
  },
  {
   "cell_type": "code",
   "execution_count": 5,
   "metadata": {},
   "outputs": [],
   "source": [
    "def compute_td_loss(model, batch_size, gamma=0.99):\n",
    "\n",
    "    # Get batch from replay buffer\n",
    "    state, action, reward, next_state, done = replay_buffer.sample(batch_size)\n",
    "\n",
    "    # Convert to tensors. Creating Variables is not necessary with more recent PyTorch versions.\n",
    "    state      = torch.Tensor(np.float32(state)).to(device)\n",
    "    next_state = torch.Tensor(np.float32(next_state)).to(device)\n",
    "    action     = torch.Tensor(action).long().to(device)\n",
    "    reward     = torch.Tensor(reward).to(device)\n",
    "    done       = torch.Tensor(done).to(device)\n",
    "\n",
    "    # Calculate Q(s) and Q(s')\n",
    "    q_values      = model(state)\n",
    "    next_q_values = model(next_state)\n",
    "    \n",
    "#     print(q_values.shape)\n",
    "\n",
    "    # Get Q(s,a) and max_a' Q(s',a')\n",
    "#     q_value          = q_values.gather(1, action).squeeze(1)\n",
    "    q_value          = q_values.gather(1, action.unsqueeze(1)).squeeze(1)\n",
    "\n",
    "    next_q_value     = next_q_values.max(1)[0]\n",
    "    # Calculate target for Q(s,a): r + gamma max_a' Q(s',a')\n",
    "    # Note that the done signal is used to terminate recursion at end of episode.\n",
    "    expected_q_value = reward + gamma * next_q_value * (1 - done)\n",
    "    \n",
    "    # Calculate MSE loss. Variables are not needed in recent PyTorch versions.\n",
    "    loss = (q_value - autograd.Variable(expected_q_value.data)).pow(2).mean()\n",
    "        \n",
    "    optimizer.zero_grad()\n",
    "    loss.backward()\n",
    "    optimizer.step()\n",
    "\n",
    "    return loss"
   ]
  },
  {
   "cell_type": "code",
   "execution_count": 6,
   "metadata": {},
   "outputs": [],
   "source": [
    "def train(env, model, eps_by_episode, optimizer, replay_buffer, episodes = 10000, batch_size=32, gamma = 0.99):\n",
    "    losses = []\n",
    "    all_rewards = []\n",
    "    episode_reward = 0\n",
    "    tot_reward = 0\n",
    "    tr = trange(episodes+1, desc='Agent training', leave=True)\n",
    "\n",
    "    # Get initial state input\n",
    "    state = env.reset()\n",
    "    state = state.reshape(27)\n",
    "\n",
    "    # Execute episodes iterations\n",
    "    for episode in tr:\n",
    "        tr.set_description(\"Agent training (episode{}) Avg Reward {}\".format(episode+1,tot_reward/(episode+1)))\n",
    "        tr.refresh() \n",
    "\n",
    "        # Get initial epsilon greedy action\n",
    "        epsilon = eps_by_episode(episode)\n",
    "        state = state.reshape(27)\n",
    "        \n",
    "        action = model.act(state, epsilon)\n",
    "        \n",
    "        # Take a step\n",
    "#         next_state, reward, done, _ = env.step(action)\n",
    "        next_state, reward, done = env.step(action)\n",
    "        next_state = next_state.reshape(27)\n",
    "\n",
    "        # Append experience to replay buffer\n",
    "        replay_buffer.push(state, action, reward, next_state, done)\n",
    "\n",
    "        tot_reward += reward\n",
    "        episode_reward += reward\n",
    "        \n",
    "        state = next_state\n",
    "\n",
    "        # Start a new episode if done signal is received\n",
    "        if done:\n",
    "            state = env.reset()\n",
    "            all_rewards.append(episode_reward)\n",
    "            episode_reward = 0\n",
    "\n",
    "        # Train on a batch if we've got enough experience\n",
    "        if len(replay_buffer) > batch_size:\n",
    "            loss = compute_td_loss(model, batch_size, gamma)\n",
    "            losses.append(loss.item())\n",
    "            \n",
    "    plot(episode, all_rewards, losses)  \n",
    "    return model, all_rewards, losses"
   ]
  },
  {
   "cell_type": "code",
   "execution_count": 7,
   "metadata": {},
   "outputs": [],
   "source": [
    "from games.abstract_game import AbstractGame\n",
    "\n",
    "game_name = 'tictactoe'\n",
    "game_module = importlib.import_module(\"games.\" + game_name) \n",
    "\n",
    "env = game_module.Game()\n",
    "\n",
    "model = DQN(27, 9).to(device)\n",
    "    \n",
    "optimizer = optim.Adam(model.parameters())\n",
    "\n",
    "replay_buffer = ReplayBuffer(1000)"
   ]
  },
  {
   "cell_type": "code",
   "execution_count": 8,
   "metadata": {},
   "outputs": [
    {
     "data": {
      "text/plain": [
       "array([[[0, 0, 0],\n",
       "        [0, 0, 0],\n",
       "        [0, 0, 0]],\n",
       "\n",
       "       [[0, 0, 0],\n",
       "        [0, 0, 0],\n",
       "        [0, 0, 0]],\n",
       "\n",
       "       [[1, 1, 1],\n",
       "        [1, 1, 1],\n",
       "        [1, 1, 1]]])"
      ]
     },
     "execution_count": 8,
     "metadata": {},
     "output_type": "execute_result"
    }
   ],
   "source": [
    "env.reset()"
   ]
  },
  {
   "cell_type": "code",
   "execution_count": 9,
   "metadata": {},
   "outputs": [
    {
     "name": "stderr",
     "output_type": "stream",
     "text": [
      "Agent training (episode1000001) Avg Reward 0.17766682233317765: 100%|██████| 1000001/1000001 [2:51:30<00:00, 97.18it/s]\n"
     ]
    },
    {
     "data": {
      "image/png": "[encoded data removed]",
      "text/plain": [
       "<Figure size 1440x360 with 2 Axes>"
      ]
     },
     "metadata": {
      "needs_background": "light"
     },
     "output_type": "display_data"
    }
   ],
   "source": [
    "model, all_rewards, losses = train(env, model, eps_by_episode, optimizer, replay_buffer, episodes = 1000000, batch_size=32, gamma = 0.99)\n",
    "torch.save(model.state_dict(), 'weights/tictactoe-fcdqn-1M.pth')"
   ]
  },
  {
   "cell_type": "code",
   "execution_count": 10,
   "metadata": {},
   "outputs": [
    {
     "name": "stdout",
     "output_type": "stream",
     "text": [
      "   |   |   \n",
      "---+---+---\n",
      "   |   |   \n",
      "---+---+---\n",
      "   | O |   \n",
      "   |   |   \n",
      "---+---+---\n",
      "   |   | X \n",
      "---+---+---\n",
      "   | O |   \n",
      "   | O |   \n",
      "---+---+---\n",
      "   |   | X \n",
      "---+---+---\n",
      "   | O |   \n",
      " X | O |   \n",
      "---+---+---\n",
      "   |   | X \n",
      "---+---+---\n",
      "   | O |   \n",
      " X | O |   \n",
      "---+---+---\n",
      "   | O | X \n",
      "---+---+---\n",
      "   | O |   \n"
     ]
    }
   ],
   "source": [
    "import time\n",
    "def play_game(model):\n",
    "    done = False\n",
    "    state = env.reset()\n",
    "    state = state.reshape(27)\n",
    "\n",
    "    while(not done):\n",
    "        action = model.act(state, epsilon_final)\n",
    "        next_state, reward, done = env.step(action)\n",
    "        next_state = next_state.reshape(27)\n",
    "\n",
    "        env.render()\n",
    "        time.sleep(0.03)\n",
    "        state = next_state\n",
    "\n",
    "play_game(model)\n",
    "time.sleep(3)\n",
    "env.close()"
   ]
  },
  {
   "cell_type": "markdown",
   "metadata": {},
   "source": [
    "# Load & Try the model with these patterns"
   ]
  },
  {
   "cell_type": "code",
   "execution_count": 17,
   "metadata": {},
   "outputs": [
    {
     "data": {
      "text/plain": [
       "DQN(\n",
       "  (layers): Sequential(\n",
       "    (0): Linear(in_features=27, out_features=10, bias=True)\n",
       "    (1): ReLU()\n",
       "    (2): Linear(in_features=10, out_features=10, bias=True)\n",
       "    (3): ReLU()\n",
       "    (4): Linear(in_features=10, out_features=9, bias=True)\n",
       "  )\n",
       ")"
      ]
     },
     "execution_count": 17,
     "metadata": {},
     "output_type": "execute_result"
    }
   ],
   "source": [
    "import math, random\n",
    "import importlib\n",
    "from collections import defaultdict\n",
    "\n",
    "import torch\n",
    "import torch.nn as nn\n",
    "import torch.optim as optim\n",
    "import torch.autograd as autograd \n",
    "import torch.nn.functional as F\n",
    "\n",
    "import matplotlib.pyplot as plt\n",
    "\n",
    "import gym\n",
    "import numpy as np\n",
    "import os\n",
    "\n",
    "from collections import deque\n",
    "from tqdm import trange\n",
    "\n",
    "# Select GPU or CPU as device\n",
    "\n",
    "device = 'cpu'\n",
    "epsilon_final = 0.01\n",
    "\n",
    "from games.abstract_game import AbstractGame\n",
    "\n",
    "game_name = 'tictactoe'\n",
    "game_module = importlib.import_module(\"games.\" + game_name) \n",
    "\n",
    "env = game_module.Game()\n",
    "\n",
    "model = DQN(27, 9).to(device)\n",
    "model.load_state_dict(torch.load('weights/tictactoe-fcdqn-1M.pth', map_location=torch.device('cpu') ),)\n",
    "model.eval()"
   ]
  },
  {
   "cell_type": "code",
   "execution_count": 28,
   "metadata": {},
   "outputs": [
    {
     "name": "stdout",
     "output_type": "stream",
     "text": [
      " O |   |   \n",
      "---+---+---\n",
      "   |   |   \n",
      "---+---+---\n",
      "   |   |   \n",
      "torch.Size([1, 9])\n",
      "tensor(-0.7885, grad_fn=<SelectBackward>)\n",
      "tensor(-0.8351, grad_fn=<SelectBackward>)\n"
     ]
    }
   ],
   "source": [
    "state = env.reset()\n",
    "state = state.reshape(27)\n",
    "\n",
    "# create the first state\n",
    "state, reward, done = env.step(0)\n",
    "env.render()\n",
    "\n",
    "state = state.reshape(27)\n",
    "\n",
    "q_value, action = model.get_q_value(state)\n",
    "\n",
    "print(q_value.shape)\n",
    "print(q_value[0][4])\n",
    "print(q_value[0][5])\n",
    "\n",
    "# next_state, reward, done = env.step(5)\n",
    "# print(next_state, 'reward', reward, 'is_done:', done)\n",
    "\n",
    "# action = model.act(state, epsilon_final)\n",
    "# next_state, reward, done = env.step(action)\n",
    "# next_state = next_state.reshape(27)"
   ]
  },
  {
   "cell_type": "code",
   "execution_count": null,
   "metadata": {},
   "outputs": [],
   "source": []
  }
 ],
 "metadata": {
  "kernelspec": {
   "display_name": "Python 3",
   "language": "python",
   "name": "python3"
  },
  "language_info": {
   "codemirror_mode": {
    "name": "ipython",
    "version": 3
   },
   "file_extension": ".py",
   "mimetype": "text/x-python",
   "name": "python",
   "nbconvert_exporter": "python",
   "pygments_lexer": "ipython3",
   "version": "3.6.9"
  }
 },
 "nbformat": 4,
 "nbformat_minor": 4
}
