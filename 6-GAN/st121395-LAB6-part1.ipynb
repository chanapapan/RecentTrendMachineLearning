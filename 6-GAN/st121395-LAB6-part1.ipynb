{
 "cells": [
  {
   "cell_type": "markdown",
   "metadata": {},
   "source": [
    "# Lab 7: Generative Adversarial Networks (GANs)\n",
    "# Chanapa Pananookooln | st121395\n",
    "\n",
    "In this lab, we will develop several basic GANs and experiment with them.\n",
    "\n",
    "\n",
    "The first part of the lab will be about generating MNIST image from GANs with fully connected neurak network as the architecture.\n",
    "\n",
    "The second part is to generate CIFAR images with Convoludtion Neural Network architecture\n",
    "\n",
    "In the third part, we creat a custom dataset class to generate x, y coordinates in the S shape then use GANs to learn the distribution and generate data from the same distribution.\n",
    "\n",
    "Lastly, we train GAN on a face image dataset then see if we can generate realistic samples from unseen/test data."
   ]
  },
  {
   "cell_type": "markdown",
   "metadata": {},
   "source": [
    "## Set up GANs"
   ]
  },
  {
   "cell_type": "code",
   "execution_count": null,
   "metadata": {},
   "outputs": [],
   "source": [
    "!pip install tensorboardX"
   ]
  },
  {
   "cell_type": "markdown",
   "metadata": {},
   "source": [
    "Here is a `Logger` class with a lot of useful tricks to indicate training progress and visualize results."
   ]
  },
  {
   "cell_type": "code",
   "execution_count": null,
   "metadata": {},
   "outputs": [],
   "source": [
    "import os\n",
    "import numpy as np\n",
    "import errno\n",
    "import torchvision.utils as vutils\n",
    "from tensorboardX import SummaryWriter\n",
    "from IPython import display\n",
    "from matplotlib import pyplot as plt\n",
    "import torch\n",
    "\n",
    "'''\n",
    "    TensorBoard Data will be stored in './runs' path\n",
    "'''\n",
    "\n",
    "\n",
    "class Logger:\n",
    "\n",
    "    def __init__(self, model_name, data_name):\n",
    "        self.model_name = model_name\n",
    "        self.data_name = data_name\n",
    "\n",
    "        self.comment = '{}_{}'.format(model_name, data_name)\n",
    "        self.data_subdir = '{}/{}'.format(model_name, data_name)\n",
    "\n",
    "        # TensorBoard\n",
    "        self.writer = SummaryWriter(comment=self.comment)\n",
    "\n",
    "    def log(self, d_error, g_error, epoch, n_batch, num_batches):\n",
    "\n",
    "        # var_class = torch.autograd.variable.Variable\n",
    "        if isinstance(d_error, torch.autograd.Variable):\n",
    "            d_error = d_error.data.cpu().numpy()\n",
    "        if isinstance(g_error, torch.autograd.Variable):\n",
    "            g_error = g_error.data.cpu().numpy()\n",
    "\n",
    "        step = Logger._step(epoch, n_batch, num_batches)\n",
    "        self.writer.add_scalar(\n",
    "            '{}/D_error'.format(self.comment), d_error, step)\n",
    "        self.writer.add_scalar(\n",
    "            '{}/G_error'.format(self.comment), g_error, step)\n",
    "\n",
    "    def log_images(self, images, num_images, epoch, n_batch, num_batches, format='NCHW', normalize=True):\n",
    "        '''\n",
    "        input images are expected in format (NCHW)\n",
    "        '''\n",
    "        if type(images) == np.ndarray:\n",
    "            images = torch.from_numpy(images)\n",
    "        \n",
    "        if format=='NHWC':\n",
    "            images = images.transpose(1,3)\n",
    "        \n",
    "\n",
    "        step = Logger._step(epoch, n_batch, num_batches)\n",
    "        img_name = '{}/images{}'.format(self.comment, '')\n",
    "\n",
    "        # Make horizontal grid from image tensor\n",
    "        horizontal_grid = vutils.make_grid(\n",
    "            images, normalize=normalize, scale_each=True)\n",
    "        # Make vertical grid from image tensor\n",
    "        nrows = int(np.sqrt(num_images))\n",
    "        grid = vutils.make_grid(\n",
    "            images, nrow=nrows, normalize=True, scale_each=True)\n",
    "\n",
    "        # Add horizontal images to tensorboard\n",
    "        self.writer.add_image(img_name, horizontal_grid, step)\n",
    "\n",
    "        # Save plots\n",
    "        self.save_torch_images(horizontal_grid, grid, epoch, n_batch)\n",
    "\n",
    "    def save_torch_images(self, horizontal_grid, grid, epoch, n_batch, plot_horizontal=True):\n",
    "        out_dir = '/root/labs/data/GAN/data/images/{}'.format(self.data_subdir)\n",
    "        Logger._make_dir(out_dir)\n",
    "\n",
    "        # Plot and save horizontal\n",
    "        fig = plt.figure(figsize=(16, 16))\n",
    "        plt.imshow(np.moveaxis(horizontal_grid.numpy(), 0, -1))\n",
    "        plt.axis('off')\n",
    "        if plot_horizontal:\n",
    "            display.display(plt.gcf())\n",
    "        self._save_images(fig, epoch, n_batch, 'hori')\n",
    "        plt.close()\n",
    "\n",
    "        # Save squared\n",
    "        fig = plt.figure()\n",
    "        plt.imshow(np.moveaxis(grid.numpy(), 0, -1))\n",
    "        plt.axis('off')\n",
    "        self._save_images(fig, epoch, n_batch)\n",
    "        plt.close()\n",
    "\n",
    "    def _save_images(self, fig, epoch, n_batch, comment=''):\n",
    "        out_dir = '/root/labs/data/GAN/data/images/{}'.format(self.data_subdir)\n",
    "        Logger._make_dir(out_dir)\n",
    "        fig.savefig('{}/{}_epoch_{}_batch_{}.png'.format(out_dir,\n",
    "                                                         comment, epoch, n_batch))\n",
    "\n",
    "    def display_status(self, epoch, num_epochs, n_batch, num_batches, d_error, g_error, d_pred_real, d_pred_fake):\n",
    "        \n",
    "        # var_class = torch.autograd.variable.Variable\n",
    "        if isinstance(d_error, torch.autograd.Variable):\n",
    "            d_error = d_error.data.cpu().numpy()\n",
    "        if isinstance(g_error, torch.autograd.Variable):\n",
    "            g_error = g_error.data.cpu().numpy()\n",
    "        if isinstance(d_pred_real, torch.autograd.Variable):\n",
    "            d_pred_real = d_pred_real.data\n",
    "        if isinstance(d_pred_fake, torch.autograd.Variable):\n",
    "            d_pred_fake = d_pred_fake.data\n",
    "        \n",
    "        \n",
    "        print('Epoch: [{}/{}], Batch Num: [{}/{}]'.format(\n",
    "            epoch,num_epochs, n_batch, num_batches)\n",
    "             )\n",
    "        print('Discriminator Loss: {:.4f}, Generator Loss: {:.4f}'.format(d_error, g_error))\n",
    "        print('D(x): {:.4f}, D(G(z)): {:.4f}'.format(d_pred_real.mean(), d_pred_fake.mean()))\n",
    "\n",
    "    def save_models(self, generator, discriminator, epoch):\n",
    "        out_dir = '/root/labs/data/GAN/data/models{}'.format(self.data_subdir)\n",
    "        Logger._make_dir(out_dir)\n",
    "        torch.save(generator.state_dict(),\n",
    "                   '{}/G_epoch_{}'.format(out_dir, epoch))\n",
    "        torch.save(discriminator.state_dict(),\n",
    "                   '{}/D_epoch_{}'.format(out_dir, epoch))\n",
    "\n",
    "    def close(self):\n",
    "        self.writer.close()\n",
    "\n",
    "    # Private Functionality\n",
    "\n",
    "    @staticmethod\n",
    "    def _step(epoch, n_batch, num_batches):\n",
    "        return epoch * num_batches + n_batch\n",
    "\n",
    "    @staticmethod\n",
    "    def _make_dir(directory):\n",
    "        try:\n",
    "            os.makedirs(directory)\n",
    "        except OSError as e:\n",
    "            if e.errno != errno.EEXIST:\n",
    "                raise"
   ]
  },
  {
   "cell_type": "markdown",
   "metadata": {},
   "source": [
    "# 1. Vanilla GAN for MNIST dataset\n",
    "Download the MNIST dataset."
   ]
  },
  {
   "cell_type": "code",
   "execution_count": null,
   "metadata": {},
   "outputs": [],
   "source": [
    "import torch\n",
    "from torch import nn, optim\n",
    "from torchvision import transforms, datasets\n",
    "\n",
    "DATA_FOLDER = '/root/labs/data/MNIST'\n",
    "def mnist_data():\n",
    "    compose = transforms.Compose(\n",
    "        [transforms.ToTensor(),\n",
    "         transforms.Normalize([0.5], [0.5]) # normaliza to -1 to 1\n",
    "        ])\n",
    "    out_dir = '{}/dataset'.format(DATA_FOLDER)\n",
    "    return datasets.MNIST(root=out_dir, train=True, transform=compose, download=True)\n",
    "\n",
    "# Load Dataset and attach a DataLoader\n",
    "\n",
    "data = mnist_data()\n",
    "data_loader = torch.utils.data.DataLoader(data, batch_size=100, shuffle=True)\n",
    "num_batches = len(data_loader)"
   ]
  },
  {
   "cell_type": "markdown",
   "metadata": {},
   "source": [
    "### Generator\n",
    "\n",
    "This \"vanilla\" GAN is the simplest GAN network architecture.\n",
    "\n",
    "The generator is driven by a noise vector\n",
    "sampled from a latent space (the domain of $p_z$ and transforms that\n",
    "noise sample into an element of the domain of\n",
    "$p_{data}$.\n",
    "\n",
    "The generator model in can be practically anything that has the right input\n",
    "and output tensor shapes. Here is the structure of a simple vanilla GAN generator using only\n",
    "fully connected layers:\n",
    "\n",
    "And here is sample code for the model's PyTorch Module. Note that since we\n",
    "normalized the real data to the range [-1,1], to limit the generator to the\n",
    "same range, we use a tanh activation at the output:"
   ]
  },
  {
   "cell_type": "code",
<<<<<<< HEAD
   "execution_count": null,
=======
   "execution_count": 2,
>>>>>>> def61bb249a64f41c37b9b27b43888b20f07ed6c
   "metadata": {},
   "outputs": [],
   "source": [
    "class GeneratorNet(torch.nn.Module):\n",
    "    \"\"\"\n",
    "    A three hidden-layer generative neural network\n",
    "    \"\"\"\n",
    "    def __init__(self):\n",
    "        super(GeneratorNet, self).__init__()\n",
    "        n_features = 100\n",
    "        n_out = 784\n",
    "        \n",
    "        self.hidden0 = nn.Sequential(\n",
    "            nn.Linear(n_features, 256),\n",
    "            nn.LeakyReLU(0.2)\n",
    "        )\n",
    "        self.hidden1 = nn.Sequential(            \n",
    "            nn.Linear(256, 512),\n",
    "            nn.LeakyReLU(0.2)\n",
    "        )\n",
    "        self.hidden2 = nn.Sequential(\n",
    "            nn.Linear(512, 1024),\n",
    "            nn.LeakyReLU(0.2)\n",
    "        )\n",
    "        \n",
    "        self.out = nn.Sequential(\n",
    "            nn.Linear(1024, n_out),\n",
    "            nn.Tanh() # so it matches with -1,1\n",
    "        )\n",
    "\n",
    "    def forward(self, x):\n",
    "        x = self.hidden0(x)\n",
    "        x = self.hidden1(x)\n",
    "        x = self.hidden2(x)\n",
    "        x = self.out(x)\n",
    "        return x\n",
    "\n",
    "# Function to create noise samples for the generator's input\n",
    "\n",
    "# generate size vectors with 100 features\n",
    "def noise(size):\n",
    "    n = torch.randn(size, 100) # mean = 0, std = 1\n",
    "    return n.to(device)"
   ]
  },
  {
   "cell_type": "markdown",
   "metadata": {},
   "source": [
    "### Discriminator\n",
    "\n",
    "The discriminator has the responsibity to classify its input as\n",
    "real or fake. When a fake sample from the generator is given, it should ouptut 0 for fake:\n",
    "\n",
    "On the other hand, if the input is real, it should output 1 for real:\n",
    "\n",
    "Here is the Module:"
   ]
  },
  {
   "cell_type": "code",
   "execution_count": null,
   "metadata": {},
   "outputs": [],
   "source": [
    "class DiscriminatorNet(torch.nn.Module):\n",
    "    \"\"\"\n",
    "    A three hidden-layer discriminative neural network\n",
    "    \"\"\"\n",
    "    def __init__(self):\n",
    "        super(DiscriminatorNet, self).__init__()\n",
    "        n_features = 784\n",
    "        n_out = 1\n",
    "        \n",
    "        self.hidden0 = nn.Sequential( \n",
    "            nn.Linear(n_features, 1024),\n",
    "            nn.LeakyReLU(0.2),\n",
    "            nn.Dropout(0.3)\n",
    "        )\n",
    "        self.hidden1 = nn.Sequential(\n",
    "            nn.Linear(1024, 512),\n",
    "            nn.LeakyReLU(0.2),\n",
    "            nn.Dropout(0.3)\n",
    "        )\n",
    "        self.hidden2 = nn.Sequential(\n",
    "            nn.Linear(512, 256),\n",
    "            nn.LeakyReLU(0.2),\n",
    "            nn.Dropout(0.3)\n",
    "        )\n",
    "        self.out = nn.Sequential(\n",
    "            torch.nn.Linear(256, n_out),\n",
    "            torch.nn.Sigmoid()\n",
    "        )\n",
    "\n",
    "    def forward(self, x):\n",
    "        x = self.hidden0(x)\n",
    "        x = self.hidden1(x)\n",
    "        x = self.hidden2(x)\n",
    "        x = self.out(x)\n",
    "        return x\n",
    "    \n",
    "def images_to_vectors(images):\n",
    "    return images.view(images.size(0), 784)\n",
    "\n",
    "def vectors_to_images(vectors):\n",
    "    return vectors.view(vectors.size(0), 1, 28, 28)"
   ]
  },
  {
   "cell_type": "markdown",
   "metadata": {},
   "source": [
    "### Create the modules\n",
    "\n",
    "Let's create an instance of the generator and discriminator:"
   ]
  },
  {
   "cell_type": "code",
   "execution_count": null,
   "metadata": {},
   "outputs": [],
   "source": [
    "from get_free_gpu import get_free_gpu\n",
    "\n",
    "device = get_free_gpu()\n",
    "\n",
    "discriminator = DiscriminatorNet()\n",
    "generator = GeneratorNet()\n",
    "\n",
    "\n",
    "discriminator.to(device)\n",
    "generator.to(device)"
   ]
  },
  {
   "cell_type": "markdown",
   "metadata": {},
   "source": [
    "### Set up the optimizers\n",
    "\n",
    "The optimization is a min-max game.\n",
    "The generator wants to minimize the objective function, whereas the discriminator wants to maximize the same objective function.\n",
    "\n",
    "We know from Goodfellow et al. (2014) that the two networks are trained in an alternating fashion.\n",
    "So it will be straightforward to have a separate optimizer for each model:"
   ]
  },
  {
   "cell_type": "code",
   "execution_count": null,
   "metadata": {},
   "outputs": [],
   "source": [
    "# Optimizers\n",
    "\n",
    "d_optimizer = optim.Adam(discriminator.parameters(), lr=0.0002)\n",
    "g_optimizer = optim.Adam(generator.parameters(), lr=0.0002)\n",
    "\n",
    "# Loss function\n",
    "\n",
    "loss = nn.BCELoss()\n",
    "\n",
    "# How many epochs to train for\n",
    "\n",
    "num_epochs = 200\n",
    "\n",
    "# Number of steps to apply to the discriminator for each step of the generator (1 in Goodfellow et al.)\n",
    "\n",
    "d_steps = 1"
   ]
  },
  {
   "cell_type": "markdown",
   "metadata": {},
   "source": [
    "### Training\n",
    "\n",
    "The targets for the discriminator may be 0 or 1 depending on whether we're giving it\n",
    "real or fake data:"
   ]
  },
  {
   "cell_type": "code",
   "execution_count": null,
   "metadata": {},
   "outputs": [],
   "source": [
    "def real_data_target(size):\n",
    "    '''\n",
    "    Tensor containing ones, with shape = size\n",
    "    '''\n",
    "    data = torch.ones(size, 1)\n",
    "#     if torch.cuda.is_available(): return data.cuda()\n",
    "    return data.to(device)\n",
    "\n",
    "def fake_data_target(size):\n",
    "    '''\n",
    "    Tensor containing zeros, with shape = size\n",
    "    '''\n",
    "    data = torch.zeros(size, 1)\n",
    "#     if torch.cuda.is_available(): return data.cuda()\n",
    "    return data.to(device)"
   ]
  },
  {
   "cell_type": "markdown",
   "metadata": {},
   "source": [
    "Here's a function for a single step for the discriminator:"
   ]
  },
  {
   "cell_type": "code",
   "execution_count": null,
   "metadata": {},
   "outputs": [],
   "source": [
    "def train_discriminator(optimizer, real_data, fake_data):\n",
    "    # Reset gradients\n",
    "    optimizer.zero_grad()\n",
    "    \n",
    "    # Propagate real data\n",
    "    prediction_real = discriminator(real_data)\n",
    "    error_real = loss(prediction_real, real_data_target(real_data.size(0)))\n",
    "    error_real.backward()\n",
    "\n",
    "    # Propagate fake data\n",
    "    prediction_fake = discriminator(fake_data)\n",
    "    error_fake = loss(prediction_fake, fake_data_target(real_data.size(0)))\n",
    "    error_fake.backward()\n",
    "    \n",
    "    # Take a step\n",
    "    optimizer.step()\n",
    "    \n",
    "    # Return error\n",
    "    return error_real + error_fake, prediction_real, prediction_fake"
   ]
  },
  {
   "cell_type": "markdown",
   "metadata": {},
   "source": [
    "And here's a function for a single step of the generator:"
   ]
  },
  {
   "cell_type": "code",
   "execution_count": null,
   "metadata": {},
   "outputs": [],
   "source": [
    "def train_generator(optimizer, fake_data):\n",
    "    # Reset gradients\n",
    "    optimizer.zero_grad()\n",
    "\n",
    "    # Propagate the fake data through the discriminator and backpropagate.\n",
    "    # Note that since we want the generator to output something that gets\n",
    "    # the discriminator to output a 1, we use the real data target here.\n",
    "    prediction = discriminator(fake_data)\n",
    "    error = loss(prediction, real_data_target(prediction.size(0)))\n",
    "    error.backward()\n",
    "    \n",
    "    # Update weights with gradients\n",
    "    optimizer.step()\n",
    "    \n",
    "    # Return error\n",
    "    return error"
   ]
  },
  {
   "cell_type": "markdown",
   "metadata": {},
   "source": [
    "### Generate test noise samples\n",
    "\n",
    "Let's generate some noise vectors to use as inputs to the generator.\n",
    "We'll use these samples repeatedly to see the evolution of the generator\n",
    "over time."
   ]
  },
  {
   "cell_type": "code",
   "execution_count": null,
   "metadata": {},
   "outputs": [],
   "source": [
    "num_test_samples = 16\n",
    "test_noise = noise(num_test_samples)"
   ]
  },
  {
   "cell_type": "markdown",
   "metadata": {},
   "source": [
    "## Start training\n",
    "\n",
    "Now let's train the model:"
   ]
  },
  {
   "cell_type": "code",
   "execution_count": null,
   "metadata": {},
   "outputs": [],
   "source": [
    "logger = Logger(model_name='VGAN', data_name='MNIST')\n",
    "\n",
    "for epoch in range(num_epochs):\n",
    "    for n_batch, (real_batch,_) in enumerate(data_loader):\n",
    "\n",
    "        # Train discriminator on a real batch and a fake batch\n",
    "        \n",
    "        real_data = images_to_vectors(real_batch)\n",
    "#         if torch.cuda.is_available(): real_data = real_data.cuda()\n",
    "        real_data = real_data.to(device)\n",
    "        fake_data = generator(noise(real_data.size(0))).detach()\n",
    "        d_error, d_pred_real, d_pred_fake = train_discriminator(d_optimizer,\n",
    "                                                                real_data, fake_data)\n",
    "        \n",
    "        # Train generator\n",
    "\n",
    "        fake_data = generator(noise(real_batch.size(0)))\n",
    "        g_error = train_generator(g_optimizer, fake_data)\n",
    "        \n",
    "        # Log errors and display progress\n",
    "\n",
    "        logger.log(d_error, g_error, epoch, n_batch, num_batches)\n",
    "        if (n_batch) % 100 == 0:\n",
    "            display.clear_output(True)\n",
    "            # Display Images\n",
    "            test_images = vectors_to_images(generator(test_noise)).data.cpu()\n",
    "            logger.log_images(test_images, num_test_samples, epoch, n_batch, num_batches);\n",
    "            # Display status Logs\n",
    "            logger.display_status(\n",
    "                epoch, num_epochs, n_batch, num_batches,\n",
    "                d_error, g_error, d_pred_real, d_pred_fake\n",
    "            )\n",
    "            \n",
    "        # Save model checkpoints\n",
    "        logger.save_models(generator, discriminator, epoch)"
   ]
  },
  {
   "cell_type": "code",
   "execution_count": null,
   "metadata": {},
   "outputs": [],
   "source": [
    "%matplotlib inline \n",
    "import matplotlib.image as mpimg\n",
    "import matplotlib.pyplot as plt\n",
    "\n",
    "plt.figure(figsize=(30,30)) \n",
    "plt.imshow(mpimg.imread('mnistganloss.jpg'))"
   ]
  },
  {
   "cell_type": "markdown",
   "metadata": {},
   "source": [
    "# Inference Load Generator Weights to Generate Image from Noise"
   ]
  },
  {
   "cell_type": "code",
<<<<<<< HEAD
   "execution_count": null,
   "metadata": {},
   "outputs": [],
=======
   "execution_count": 10,
   "metadata": {},
   "outputs": [
    {
     "name": "stdout",
     "output_type": "stream",
     "text": [
      "cuda:0\n"
     ]
    },
    {
     "ename": "RuntimeError",
     "evalue": "CUDA error: out of memory",
     "output_type": "error",
     "traceback": [
      "\u001b[0;31m---------------------------------------------------------------------------\u001b[0m",
      "\u001b[0;31mRuntimeError\u001b[0m                              Traceback (most recent call last)",
      "\u001b[0;32m<ipython-input-10-b995b4edc4df>\u001b[0m in \u001b[0;36m<module>\u001b[0;34m\u001b[0m\n\u001b[1;32m     14\u001b[0m \u001b[0mgenerator\u001b[0m\u001b[0;34m.\u001b[0m\u001b[0mto\u001b[0m\u001b[0;34m(\u001b[0m\u001b[0mdevice\u001b[0m\u001b[0;34m)\u001b[0m\u001b[0;34m\u001b[0m\u001b[0;34m\u001b[0m\u001b[0m\n\u001b[1;32m     15\u001b[0m \u001b[0;34m\u001b[0m\u001b[0m\n\u001b[0;32m---> 16\u001b[0;31m \u001b[0mgenerator\u001b[0m\u001b[0;34m.\u001b[0m\u001b[0mload_state_dict\u001b[0m\u001b[0;34m(\u001b[0m\u001b[0mtorch\u001b[0m\u001b[0;34m.\u001b[0m\u001b[0mload\u001b[0m\u001b[0;34m(\u001b[0m\u001b[0;34m'/root/labs/data/GAN/data/models/VGAN/MNIST/G_epoch_199'\u001b[0m\u001b[0;34m)\u001b[0m\u001b[0;34m)\u001b[0m\u001b[0;34m\u001b[0m\u001b[0;34m\u001b[0m\u001b[0m\n\u001b[0m\u001b[1;32m     17\u001b[0m \u001b[0;34m\u001b[0m\u001b[0m\n\u001b[1;32m     18\u001b[0m \u001b[0mnum_test_samples\u001b[0m \u001b[0;34m=\u001b[0m \u001b[0;36m1\u001b[0m\u001b[0;34m\u001b[0m\u001b[0;34m\u001b[0m\u001b[0m\n",
      "\u001b[0;32m/usr/local/lib/python3.6/dist-packages/torch/serialization.py\u001b[0m in \u001b[0;36mload\u001b[0;34m(f, map_location, pickle_module, **pickle_load_args)\u001b[0m\n\u001b[1;32m    592\u001b[0m                     \u001b[0mopened_file\u001b[0m\u001b[0;34m.\u001b[0m\u001b[0mseek\u001b[0m\u001b[0;34m(\u001b[0m\u001b[0morig_position\u001b[0m\u001b[0;34m)\u001b[0m\u001b[0;34m\u001b[0m\u001b[0;34m\u001b[0m\u001b[0m\n\u001b[1;32m    593\u001b[0m                     \u001b[0;32mreturn\u001b[0m \u001b[0mtorch\u001b[0m\u001b[0;34m.\u001b[0m\u001b[0mjit\u001b[0m\u001b[0;34m.\u001b[0m\u001b[0mload\u001b[0m\u001b[0;34m(\u001b[0m\u001b[0mopened_file\u001b[0m\u001b[0;34m)\u001b[0m\u001b[0;34m\u001b[0m\u001b[0;34m\u001b[0m\u001b[0m\n\u001b[0;32m--> 594\u001b[0;31m                 \u001b[0;32mreturn\u001b[0m \u001b[0m_load\u001b[0m\u001b[0;34m(\u001b[0m\u001b[0mopened_zipfile\u001b[0m\u001b[0;34m,\u001b[0m \u001b[0mmap_location\u001b[0m\u001b[0;34m,\u001b[0m \u001b[0mpickle_module\u001b[0m\u001b[0;34m,\u001b[0m \u001b[0;34m**\u001b[0m\u001b[0mpickle_load_args\u001b[0m\u001b[0;34m)\u001b[0m\u001b[0;34m\u001b[0m\u001b[0;34m\u001b[0m\u001b[0m\n\u001b[0m\u001b[1;32m    595\u001b[0m         \u001b[0;32mreturn\u001b[0m \u001b[0m_legacy_load\u001b[0m\u001b[0;34m(\u001b[0m\u001b[0mopened_file\u001b[0m\u001b[0;34m,\u001b[0m \u001b[0mmap_location\u001b[0m\u001b[0;34m,\u001b[0m \u001b[0mpickle_module\u001b[0m\u001b[0;34m,\u001b[0m \u001b[0;34m**\u001b[0m\u001b[0mpickle_load_args\u001b[0m\u001b[0;34m)\u001b[0m\u001b[0;34m\u001b[0m\u001b[0;34m\u001b[0m\u001b[0m\n\u001b[1;32m    596\u001b[0m \u001b[0;34m\u001b[0m\u001b[0m\n",
      "\u001b[0;32m/usr/local/lib/python3.6/dist-packages/torch/serialization.py\u001b[0m in \u001b[0;36m_load\u001b[0;34m(zip_file, map_location, pickle_module, pickle_file, **pickle_load_args)\u001b[0m\n\u001b[1;32m    851\u001b[0m     \u001b[0munpickler\u001b[0m \u001b[0;34m=\u001b[0m \u001b[0mpickle_module\u001b[0m\u001b[0;34m.\u001b[0m\u001b[0mUnpickler\u001b[0m\u001b[0;34m(\u001b[0m\u001b[0mdata_file\u001b[0m\u001b[0;34m,\u001b[0m \u001b[0;34m**\u001b[0m\u001b[0mpickle_load_args\u001b[0m\u001b[0;34m)\u001b[0m\u001b[0;34m\u001b[0m\u001b[0;34m\u001b[0m\u001b[0m\n\u001b[1;32m    852\u001b[0m     \u001b[0munpickler\u001b[0m\u001b[0;34m.\u001b[0m\u001b[0mpersistent_load\u001b[0m \u001b[0;34m=\u001b[0m \u001b[0mpersistent_load\u001b[0m\u001b[0;34m\u001b[0m\u001b[0;34m\u001b[0m\u001b[0m\n\u001b[0;32m--> 853\u001b[0;31m     \u001b[0mresult\u001b[0m \u001b[0;34m=\u001b[0m \u001b[0munpickler\u001b[0m\u001b[0;34m.\u001b[0m\u001b[0mload\u001b[0m\u001b[0;34m(\u001b[0m\u001b[0;34m)\u001b[0m\u001b[0;34m\u001b[0m\u001b[0;34m\u001b[0m\u001b[0m\n\u001b[0m\u001b[1;32m    854\u001b[0m \u001b[0;34m\u001b[0m\u001b[0m\n\u001b[1;32m    855\u001b[0m     \u001b[0mtorch\u001b[0m\u001b[0;34m.\u001b[0m\u001b[0m_utils\u001b[0m\u001b[0;34m.\u001b[0m\u001b[0m_validate_loaded_sparse_tensors\u001b[0m\u001b[0;34m(\u001b[0m\u001b[0;34m)\u001b[0m\u001b[0;34m\u001b[0m\u001b[0;34m\u001b[0m\u001b[0m\n",
      "\u001b[0;32m/usr/local/lib/python3.6/dist-packages/torch/serialization.py\u001b[0m in \u001b[0;36mpersistent_load\u001b[0;34m(saved_id)\u001b[0m\n\u001b[1;32m    843\u001b[0m         \u001b[0mdata_type\u001b[0m\u001b[0;34m,\u001b[0m \u001b[0mkey\u001b[0m\u001b[0;34m,\u001b[0m \u001b[0mlocation\u001b[0m\u001b[0;34m,\u001b[0m \u001b[0msize\u001b[0m \u001b[0;34m=\u001b[0m \u001b[0mdata\u001b[0m\u001b[0;34m\u001b[0m\u001b[0;34m\u001b[0m\u001b[0m\n\u001b[1;32m    844\u001b[0m         \u001b[0;32mif\u001b[0m \u001b[0mkey\u001b[0m \u001b[0;32mnot\u001b[0m \u001b[0;32min\u001b[0m \u001b[0mloaded_storages\u001b[0m\u001b[0;34m:\u001b[0m\u001b[0;34m\u001b[0m\u001b[0;34m\u001b[0m\u001b[0m\n\u001b[0;32m--> 845\u001b[0;31m             \u001b[0mload_tensor\u001b[0m\u001b[0;34m(\u001b[0m\u001b[0mdata_type\u001b[0m\u001b[0;34m,\u001b[0m \u001b[0msize\u001b[0m\u001b[0;34m,\u001b[0m \u001b[0mkey\u001b[0m\u001b[0;34m,\u001b[0m \u001b[0m_maybe_decode_ascii\u001b[0m\u001b[0;34m(\u001b[0m\u001b[0mlocation\u001b[0m\u001b[0;34m)\u001b[0m\u001b[0;34m)\u001b[0m\u001b[0;34m\u001b[0m\u001b[0;34m\u001b[0m\u001b[0m\n\u001b[0m\u001b[1;32m    846\u001b[0m         \u001b[0mstorage\u001b[0m \u001b[0;34m=\u001b[0m \u001b[0mloaded_storages\u001b[0m\u001b[0;34m[\u001b[0m\u001b[0mkey\u001b[0m\u001b[0;34m]\u001b[0m\u001b[0;34m\u001b[0m\u001b[0;34m\u001b[0m\u001b[0m\n\u001b[1;32m    847\u001b[0m         \u001b[0;32mreturn\u001b[0m \u001b[0mstorage\u001b[0m\u001b[0;34m\u001b[0m\u001b[0;34m\u001b[0m\u001b[0m\n",
      "\u001b[0;32m/usr/local/lib/python3.6/dist-packages/torch/serialization.py\u001b[0m in \u001b[0;36mload_tensor\u001b[0;34m(data_type, size, key, location)\u001b[0m\n\u001b[1;32m    832\u001b[0m \u001b[0;34m\u001b[0m\u001b[0m\n\u001b[1;32m    833\u001b[0m         \u001b[0mstorage\u001b[0m \u001b[0;34m=\u001b[0m \u001b[0mzip_file\u001b[0m\u001b[0;34m.\u001b[0m\u001b[0mget_storage_from_record\u001b[0m\u001b[0;34m(\u001b[0m\u001b[0mname\u001b[0m\u001b[0;34m,\u001b[0m \u001b[0msize\u001b[0m\u001b[0;34m,\u001b[0m \u001b[0mdtype\u001b[0m\u001b[0;34m)\u001b[0m\u001b[0;34m.\u001b[0m\u001b[0mstorage\u001b[0m\u001b[0;34m(\u001b[0m\u001b[0;34m)\u001b[0m\u001b[0;34m\u001b[0m\u001b[0;34m\u001b[0m\u001b[0m\n\u001b[0;32m--> 834\u001b[0;31m         \u001b[0mloaded_storages\u001b[0m\u001b[0;34m[\u001b[0m\u001b[0mkey\u001b[0m\u001b[0;34m]\u001b[0m \u001b[0;34m=\u001b[0m \u001b[0mrestore_location\u001b[0m\u001b[0;34m(\u001b[0m\u001b[0mstorage\u001b[0m\u001b[0;34m,\u001b[0m \u001b[0mlocation\u001b[0m\u001b[0;34m)\u001b[0m\u001b[0;34m\u001b[0m\u001b[0;34m\u001b[0m\u001b[0m\n\u001b[0m\u001b[1;32m    835\u001b[0m \u001b[0;34m\u001b[0m\u001b[0m\n\u001b[1;32m    836\u001b[0m     \u001b[0;32mdef\u001b[0m \u001b[0mpersistent_load\u001b[0m\u001b[0;34m(\u001b[0m\u001b[0msaved_id\u001b[0m\u001b[0;34m)\u001b[0m\u001b[0;34m:\u001b[0m\u001b[0;34m\u001b[0m\u001b[0;34m\u001b[0m\u001b[0m\n",
      "\u001b[0;32m/usr/local/lib/python3.6/dist-packages/torch/serialization.py\u001b[0m in \u001b[0;36mdefault_restore_location\u001b[0;34m(storage, location)\u001b[0m\n\u001b[1;32m    173\u001b[0m \u001b[0;32mdef\u001b[0m \u001b[0mdefault_restore_location\u001b[0m\u001b[0;34m(\u001b[0m\u001b[0mstorage\u001b[0m\u001b[0;34m,\u001b[0m \u001b[0mlocation\u001b[0m\u001b[0;34m)\u001b[0m\u001b[0;34m:\u001b[0m\u001b[0;34m\u001b[0m\u001b[0;34m\u001b[0m\u001b[0m\n\u001b[1;32m    174\u001b[0m     \u001b[0;32mfor\u001b[0m \u001b[0m_\u001b[0m\u001b[0;34m,\u001b[0m \u001b[0m_\u001b[0m\u001b[0;34m,\u001b[0m \u001b[0mfn\u001b[0m \u001b[0;32min\u001b[0m \u001b[0m_package_registry\u001b[0m\u001b[0;34m:\u001b[0m\u001b[0;34m\u001b[0m\u001b[0;34m\u001b[0m\u001b[0m\n\u001b[0;32m--> 175\u001b[0;31m         \u001b[0mresult\u001b[0m \u001b[0;34m=\u001b[0m \u001b[0mfn\u001b[0m\u001b[0;34m(\u001b[0m\u001b[0mstorage\u001b[0m\u001b[0;34m,\u001b[0m \u001b[0mlocation\u001b[0m\u001b[0;34m)\u001b[0m\u001b[0;34m\u001b[0m\u001b[0;34m\u001b[0m\u001b[0m\n\u001b[0m\u001b[1;32m    176\u001b[0m         \u001b[0;32mif\u001b[0m \u001b[0mresult\u001b[0m \u001b[0;32mis\u001b[0m \u001b[0;32mnot\u001b[0m \u001b[0;32mNone\u001b[0m\u001b[0;34m:\u001b[0m\u001b[0;34m\u001b[0m\u001b[0;34m\u001b[0m\u001b[0m\n\u001b[1;32m    177\u001b[0m             \u001b[0;32mreturn\u001b[0m \u001b[0mresult\u001b[0m\u001b[0;34m\u001b[0m\u001b[0;34m\u001b[0m\u001b[0m\n",
      "\u001b[0;32m/usr/local/lib/python3.6/dist-packages/torch/serialization.py\u001b[0m in \u001b[0;36m_cuda_deserialize\u001b[0;34m(obj, location)\u001b[0m\n\u001b[1;32m    155\u001b[0m                 \u001b[0;32mreturn\u001b[0m \u001b[0mstorage_type\u001b[0m\u001b[0;34m(\u001b[0m\u001b[0mobj\u001b[0m\u001b[0;34m.\u001b[0m\u001b[0msize\u001b[0m\u001b[0;34m(\u001b[0m\u001b[0;34m)\u001b[0m\u001b[0;34m)\u001b[0m\u001b[0;34m\u001b[0m\u001b[0;34m\u001b[0m\u001b[0m\n\u001b[1;32m    156\u001b[0m         \u001b[0;32melse\u001b[0m\u001b[0;34m:\u001b[0m\u001b[0;34m\u001b[0m\u001b[0;34m\u001b[0m\u001b[0m\n\u001b[0;32m--> 157\u001b[0;31m             \u001b[0;32mreturn\u001b[0m \u001b[0mobj\u001b[0m\u001b[0;34m.\u001b[0m\u001b[0mcuda\u001b[0m\u001b[0;34m(\u001b[0m\u001b[0mdevice\u001b[0m\u001b[0;34m)\u001b[0m\u001b[0;34m\u001b[0m\u001b[0;34m\u001b[0m\u001b[0m\n\u001b[0m\u001b[1;32m    158\u001b[0m \u001b[0;34m\u001b[0m\u001b[0m\n\u001b[1;32m    159\u001b[0m \u001b[0;34m\u001b[0m\u001b[0m\n",
      "\u001b[0;32m/usr/local/lib/python3.6/dist-packages/torch/_utils.py\u001b[0m in \u001b[0;36m_cuda\u001b[0;34m(self, device, non_blocking, **kwargs)\u001b[0m\n\u001b[1;32m     77\u001b[0m         \u001b[0;32melse\u001b[0m\u001b[0;34m:\u001b[0m\u001b[0;34m\u001b[0m\u001b[0;34m\u001b[0m\u001b[0m\n\u001b[1;32m     78\u001b[0m             \u001b[0mnew_type\u001b[0m \u001b[0;34m=\u001b[0m \u001b[0mgetattr\u001b[0m\u001b[0;34m(\u001b[0m\u001b[0mtorch\u001b[0m\u001b[0;34m.\u001b[0m\u001b[0mcuda\u001b[0m\u001b[0;34m,\u001b[0m \u001b[0mself\u001b[0m\u001b[0;34m.\u001b[0m\u001b[0m__class__\u001b[0m\u001b[0;34m.\u001b[0m\u001b[0m__name__\u001b[0m\u001b[0;34m)\u001b[0m\u001b[0;34m\u001b[0m\u001b[0;34m\u001b[0m\u001b[0m\n\u001b[0;32m---> 79\u001b[0;31m             \u001b[0;32mreturn\u001b[0m \u001b[0mnew_type\u001b[0m\u001b[0;34m(\u001b[0m\u001b[0mself\u001b[0m\u001b[0;34m.\u001b[0m\u001b[0msize\u001b[0m\u001b[0;34m(\u001b[0m\u001b[0;34m)\u001b[0m\u001b[0;34m)\u001b[0m\u001b[0;34m.\u001b[0m\u001b[0mcopy_\u001b[0m\u001b[0;34m(\u001b[0m\u001b[0mself\u001b[0m\u001b[0;34m,\u001b[0m \u001b[0mnon_blocking\u001b[0m\u001b[0;34m)\u001b[0m\u001b[0;34m\u001b[0m\u001b[0;34m\u001b[0m\u001b[0m\n\u001b[0m\u001b[1;32m     80\u001b[0m \u001b[0;34m\u001b[0m\u001b[0m\n\u001b[1;32m     81\u001b[0m \u001b[0;34m\u001b[0m\u001b[0m\n",
      "\u001b[0;32m/usr/local/lib/python3.6/dist-packages/torch/cuda/__init__.py\u001b[0m in \u001b[0;36m_lazy_new\u001b[0;34m(cls, *args, **kwargs)\u001b[0m\n\u001b[1;32m    460\u001b[0m     \u001b[0;31m# We may need to call lazy init again if we are a forked child\u001b[0m\u001b[0;34m\u001b[0m\u001b[0;34m\u001b[0m\u001b[0;34m\u001b[0m\u001b[0m\n\u001b[1;32m    461\u001b[0m     \u001b[0;31m# del _CudaBase.__new__\u001b[0m\u001b[0;34m\u001b[0m\u001b[0;34m\u001b[0m\u001b[0;34m\u001b[0m\u001b[0m\n\u001b[0;32m--> 462\u001b[0;31m     \u001b[0;32mreturn\u001b[0m \u001b[0msuper\u001b[0m\u001b[0;34m(\u001b[0m\u001b[0m_CudaBase\u001b[0m\u001b[0;34m,\u001b[0m \u001b[0mcls\u001b[0m\u001b[0;34m)\u001b[0m\u001b[0;34m.\u001b[0m\u001b[0m__new__\u001b[0m\u001b[0;34m(\u001b[0m\u001b[0mcls\u001b[0m\u001b[0;34m,\u001b[0m \u001b[0;34m*\u001b[0m\u001b[0margs\u001b[0m\u001b[0;34m,\u001b[0m \u001b[0;34m**\u001b[0m\u001b[0mkwargs\u001b[0m\u001b[0;34m)\u001b[0m\u001b[0;34m\u001b[0m\u001b[0;34m\u001b[0m\u001b[0m\n\u001b[0m\u001b[1;32m    463\u001b[0m \u001b[0;34m\u001b[0m\u001b[0m\n\u001b[1;32m    464\u001b[0m \u001b[0;34m\u001b[0m\u001b[0m\n",
      "\u001b[0;31mRuntimeError\u001b[0m: CUDA error: out of memory"
     ]
    }
   ],
>>>>>>> def61bb249a64f41c37b9b27b43888b20f07ed6c
   "source": [
    "import torch\n",
    "from torch import nn, optim\n",
    "from torchvision import transforms, datasets\n",
<<<<<<< HEAD
    "import matplotlib.pyplot as plt\n",
    "import numpy as np\n",
=======
>>>>>>> def61bb249a64f41c37b9b27b43888b20f07ed6c
    "from get_free_gpu import get_free_gpu\n",
    "\n",
    "def noise(size):\n",
    "    n = torch.randn(size, 100) # mean = 0, std = 1\n",
    "    return n.to(device)\n",
    "\n",
    "device = get_free_gpu()\n",
    "print(device)\n",
    "\n",
    "generator = GeneratorNet()\n",
    "generator.to(device)\n",
    "\n",
    "generator.load_state_dict(torch.load('/root/labs/data/GAN/data/models/VGAN/MNIST/G_epoch_199'))\n",
    "\n",
    "num_test_samples = 1\n",
    "test_noise = noise(num_test_samples)\n",
    "\n",
    "output = generator(test_noise)\n",
<<<<<<< HEAD
    "output = np.array(output.detach().cpu())\n",
=======
    "output = np.array(output)\n",
>>>>>>> def61bb249a64f41c37b9b27b43888b20f07ed6c
    "output = output.reshape(28,28)\n",
    "\n",
    "print(output.shape)\n",
    "\n",
    "plt.imshow(output)"
   ]
  },
  {
<<<<<<< HEAD
   "cell_type": "code",
   "execution_count": null,
   "metadata": {},
   "outputs": [],
   "source": []
  },
  {
=======
>>>>>>> def61bb249a64f41c37b9b27b43888b20f07ed6c
   "cell_type": "markdown",
   "metadata": {},
   "source": [
    "## RESULTS\n",
    "\n",
    "After training for 200 EPOCHs, most of the images generated from the fixed test_noise are clearly seen as numbers.\n",
    "\n",
    "However, some of the images are still not very clear.\n",
    "\n",
    "Loooking at the plotted loss, the Discriminator and the Generator loss did not minimize but, when training GANs, what we are interested in is for both the D_loss and G_loss to each converge to certain values, this can be seen in the graph above.\n",
    "\n",
    "As for the predicted value from the Discriminator we got\n",
    "\n",
    "           D(x): 0.5908, D(G(z)): 0.4912\n",
    "\n",
    "which are the predicted values for the real data and the fake data, respectively.\n",
    "\n",
    "In this case, both value are quite close to 0.5 which is our target. This means that our GANs is quite near convergence !\n"
   ]
  },
  {
   "cell_type": "markdown",
   "metadata": {},
   "source": [
    "# 2. DCGAN for CIFAR\n",
    "\n",
    "Our simple generator for MNIST was fully connected. While that worked\n",
    "fine for MNIST, it would not work for more complex RGB images.\n",
    "\n",
    "The DCGAN is a GAN with a generator\n",
    "designed to do just that, generate larger RGB images using convolutional layers."
   ]
  },
  {
   "cell_type": "markdown",
   "metadata": {},
   "source": [
    "### Load CIFAR10 data\n",
    "\n",
    "For our DCGAN experiment, we'll use CIFAR rather than MNIST:"
   ]
  },
  {
   "cell_type": "code",
   "execution_count": null,
   "metadata": {},
   "outputs": [],
   "source": [
    "import torch\n",
    "from torch import nn, optim\n",
    "from torchvision import transforms, datasets\n",
    "\n",
    "DATA_FOLDER = '/root/labs/data/CIFAR'\n",
    "\n",
    "def cifar_data():\n",
    "    compose = transforms.Compose(\n",
    "        [\n",
    "            transforms.Resize(64),\n",
    "            transforms.ToTensor(),\n",
    "            transforms.Normalize((.5, .5, .5), (.5, .5, .5))\n",
    "        ])\n",
    "    out_dir = '{}/dataset'.format(DATA_FOLDER)\n",
    "    return datasets.CIFAR10(root=out_dir, train=True, transform=compose, download=True)\n",
    "\n",
    "data = cifar_data()\n",
    "batch_size = 64\n",
    "data_loader = torch.utils.data.DataLoader(data, batch_size=batch_size, shuffle=True)\n",
    "num_batches = len(data_loader)"
   ]
  },
  {
   "cell_type": "markdown",
   "metadata": {},
   "source": [
    "### Networks\n",
    "\n",
    "Here are PyTorch Modules for them:"
   ]
  },
  {
   "cell_type": "code",
   "execution_count": null,
   "metadata": {},
   "outputs": [],
   "source": [
    "# bias = False bc we are using batchnorm!!!\n",
    "class DiscriminativeNet(torch.nn.Module):\n",
    "    \n",
    "    def __init__(self):\n",
    "        super(DiscriminativeNet, self).__init__()\n",
    "        \n",
    "        self.conv1 = nn.Sequential(\n",
    "            nn.Conv2d(\n",
    "                in_channels=3, out_channels=128, kernel_size=4, \n",
    "                stride=2, padding=1, bias=False\n",
    "            ),\n",
    "            nn.LeakyReLU(0.2, inplace=True)\n",
    "        )\n",
    "        self.conv2 = nn.Sequential(\n",
    "            nn.Conv2d(\n",
    "                in_channels=128, out_channels=256, kernel_size=4,\n",
    "                stride=2, padding=1, bias=False\n",
    "            ),\n",
    "            nn.BatchNorm2d(256),\n",
    "            nn.LeakyReLU(0.2, inplace=True)\n",
    "        )\n",
    "        self.conv3 = nn.Sequential(\n",
    "            nn.Conv2d(\n",
    "                in_channels=256, out_channels=512, kernel_size=4,\n",
    "                stride=2, padding=1, bias=False\n",
    "            ),\n",
    "            nn.BatchNorm2d(512),\n",
    "            nn.LeakyReLU(0.2, inplace=True)\n",
    "        )\n",
    "        self.conv4 = nn.Sequential(\n",
    "            nn.Conv2d(\n",
    "                in_channels=512, out_channels=1024, kernel_size=4,\n",
    "                stride=2, padding=1, bias=False\n",
    "            ),\n",
    "            nn.BatchNorm2d(1024),\n",
    "            nn.LeakyReLU(0.2, inplace=True)\n",
    "        )\n",
    "        self.out = nn.Sequential(\n",
    "            nn.Linear(1024*4*4, 1),\n",
    "            nn.Sigmoid(),\n",
    "        )\n",
    "\n",
    "    def forward(self, x):\n",
    "        # Convolutional layers\n",
    "        x = self.conv1(x)\n",
    "        x = self.conv2(x)\n",
    "        x = self.conv3(x)\n",
    "        x = self.conv4(x)\n",
    "        # Flatten and apply sigmoid\n",
    "        x = x.view(-1, 1024*4*4)\n",
    "        x = self.out(x)\n",
    "        return x"
   ]
  },
  {
   "cell_type": "markdown",
   "metadata": {},
   "source": [
    "The generator is using transpose convolutions with batch normalization:"
   ]
  },
  {
   "cell_type": "code",
   "execution_count": 2,
   "metadata": {},
   "outputs": [],
   "source": [
    "class GenerativeNet(torch.nn.Module):\n",
    "    \n",
    "    def __init__(self):\n",
    "        super(GenerativeNet, self).__init__()\n",
    "        \n",
    "        self.linear = torch.nn.Linear(100, 1024*4*4)\n",
    "        \n",
    "        self.conv1 = nn.Sequential(\n",
    "            nn.ConvTranspose2d(\n",
    "                in_channels=1024, out_channels=512, kernel_size=4,\n",
    "                stride=2, padding=1, bias=False\n",
    "            ),\n",
    "            nn.BatchNorm2d(512),\n",
    "            nn.ReLU(inplace=True)\n",
    "        )\n",
    "        self.conv2 = nn.Sequential(\n",
    "            nn.ConvTranspose2d(\n",
    "                in_channels=512, out_channels=256, kernel_size=4,\n",
    "                stride=2, padding=1, bias=False\n",
    "            ),\n",
    "            nn.BatchNorm2d(256),\n",
    "            nn.ReLU(inplace=True)\n",
    "        )\n",
    "        self.conv3 = nn.Sequential(\n",
    "            nn.ConvTranspose2d(\n",
    "                in_channels=256, out_channels=128, kernel_size=4,\n",
    "                stride=2, padding=1, bias=False\n",
    "            ),\n",
    "            nn.BatchNorm2d(128),\n",
    "            nn.ReLU(inplace=True)\n",
    "        )\n",
    "        self.conv4 = nn.Sequential(\n",
    "            nn.ConvTranspose2d(\n",
    "                in_channels=128, out_channels=3, kernel_size=4,\n",
    "                stride=2, padding=1, bias=False\n",
    "            )\n",
    "        )\n",
    "        self.out = torch.nn.Tanh()\n",
    "\n",
    "    def forward(self, x):\n",
    "        # Project and reshape\n",
    "        x = self.linear(x)\n",
    "        x = x.view(x.shape[0], 1024, 4, 4)\n",
    "        # Convolutional layers\n",
    "        x = self.conv1(x)\n",
    "        x = self.conv2(x)\n",
    "        x = self.conv3(x)\n",
    "        x = self.conv4(x)\n",
    "        # Apply Tanh\n",
    "        return self.out(x)\n",
    "\n",
    "def noise(size):\n",
    "    n = torch.randn(size, 100) # mean = 0, std = 1\n",
    "    return n.to(device)\n"
   ]
  },
  {
   "cell_type": "markdown",
   "metadata": {},
   "source": [
    "Let's create a generator and discriminator and initialize their weights: "
   ]
  },
  {
   "cell_type": "code",
   "execution_count": null,
   "metadata": {},
   "outputs": [],
   "source": [
    "# Custom weight initialization\n",
    "\n",
    "def init_weights(m):\n",
    "    classname = m.__class__.__name__\n",
    "    if classname.find('Conv') != -1 or classname.find('BatchNorm') != -1:\n",
    "        m.weight.data.normal_(0.00, 0.02)\n",
    "\n",
    "# Instantiate networks\n",
    "from get_free_gpu import get_free_gpu\n",
    "\n",
    "device = get_free_gpu()\n",
    "\n",
    "generator = GenerativeNet()\n",
    "generator.apply(init_weights)\n",
    "discriminator = DiscriminativeNet()\n",
    "discriminator.apply(init_weights)\n",
    "\n",
    "# Enable cuda if available\n",
    "\n",
    "\n",
    "generator.to(device)\n",
    "discriminator.to(device)"
   ]
  },
  {
   "cell_type": "markdown",
   "metadata": {},
   "source": [
    "### Optimizers\n",
    "\n",
    "Next, we set up the optimizers and loss function."
   ]
  },
  {
   "cell_type": "code",
   "execution_count": null,
   "metadata": {},
   "outputs": [],
   "source": [
    "# Optimizers\n",
    "\n",
    "d_optimizer = optim.Adam(discriminator.parameters(), lr=0.0002, betas=(0.5, 0.999))\n",
    "g_optimizer = optim.Adam(generator.parameters(), lr=0.0002, betas=(0.5, 0.999))\n",
    "\n",
    "# Loss function\n",
    "\n",
    "loss = nn.BCELoss()\n",
    "\n",
    "# Number of epochs of training\n",
    "num_epochs = 30"
   ]
  },
  {
   "cell_type": "markdown",
   "metadata": {},
   "source": [
    "### Training\n",
    "\n",
    "As before, we'll generate a fixed set of noise samples to see the evolution of the\n",
    "generator over time then start training:"
   ]
  },
  {
   "cell_type": "code",
   "execution_count": null,
   "metadata": {},
   "outputs": [],
   "source": [
    "num_test_samples = 16\n",
    "test_noise = noise(num_test_samples)\n",
    "\n",
    "logger = Logger(model_name='DCGAN', data_name='CIFAR10')\n",
    "\n",
    "for epoch in range(num_epochs):\n",
    "    for n_batch, (real_data,_) in enumerate(data_loader):\n",
    "\n",
    "        # Train Discriminator\n",
    "        \n",
    "        real_data = real_data.to(device)\n",
    "        fake_data = generator(noise(real_data.size(0))).detach()\n",
    "        d_error, d_pred_real, d_pred_fake = train_discriminator(d_optimizer, \n",
    "                                                                real_data, fake_data)\n",
    "\n",
    "        # Train Generator\n",
    "        \n",
    "        fake_data = generator(noise(real_data.size(0)))\n",
    "        g_error = train_generator(g_optimizer, fake_data)\n",
    "\n",
    "        # Log error and display progress\n",
    "        logger.log(d_error, g_error, epoch, n_batch, num_batches)\n",
    "        if (n_batch) % 100 == 0:\n",
    "            display.clear_output(True)\n",
    "            # Display Images\n",
    "            test_images = generator(test_noise).data.cpu()\n",
    "            logger.log_images(test_images, num_test_samples, epoch, n_batch, num_batches);\n",
    "            # Display status Logs\n",
    "            logger.display_status(\n",
    "                epoch, num_epochs, n_batch, num_batches,\n",
    "                d_error, g_error, d_pred_real, d_pred_fake\n",
    "            )\n",
    "\n",
    "        # Save model checkpoints\n",
    "        logger.save_models(generator, discriminator, epoch)"
   ]
  },
  {
   "cell_type": "markdown",
   "metadata": {},
   "source": [
    "## RESULTS\n",
    "\n",
    "I intended to trained the CIFAR model for 50 EPOCHS. However, mode collapse was observed at about EPOCH number 40 and then the connection was lost when I reached 45 EPOCH\n",
    "\n",
    "But the logs are still saved in Tensorboard so I will display them here."
   ]
  },
  {
   "cell_type": "code",
   "execution_count": null,
   "metadata": {},
   "outputs": [],
   "source": [
    "plt.figure(figsize=(30,30)) \n",
    "plt.imshow(mpimg.imread('cifarend.jpg'))"
   ]
  },
  {
   "cell_type": "markdown",
   "metadata": {},
   "source": [
    "At EPOCH 44 the Discriminator loss is 0 and all the predicted value for the real image is 1 and the predicted value for the fake image is 0.\n",
    "\n",
    "These values mean that the Discriminator is very good at its job and it cam classify all of the images correctly.\n",
    "\n",
    "While the Generator loss increased dramatically and all the generated images look exactly the same.\n",
    "\n",
    "Here are the D_loss and G_loss plotted. We can see that both losses have not converged yet."
   ]
  },
  {
   "cell_type": "code",
   "execution_count": null,
   "metadata": {},
   "outputs": [],
   "source": [
    "plt.figure(figsize=(30,30)) \n",
    "plt.imshow(mpimg.imread('cifarganloss.jpg'))"
   ]
  },
  {
   "cell_type": "markdown",
   "metadata": {},
   "source": [
    "Here are the generated images from a few EPOCHs before they converge to the same image. We can see that some images look very similar to real objects.\n",
    "\n",
    "Fo example, a car in the top row and a boat in the bottom row."
   ]
  },
  {
   "cell_type": "code",
   "execution_count": null,
   "metadata": {},
   "outputs": [],
   "source": [
    "plt.figure(figsize=(30,30)) \n",
    "plt.imshow(mpimg.imread('cifargood.jpg'))"
   ]
  },
  {
   "cell_type": "markdown",
   "metadata": {},
   "source": [
    "# Inference Load Generator Weights to Generate Image from Noise"
   ]
  },
  {
   "cell_type": "code",
   "execution_count": 4,
   "metadata": {},
   "outputs": [
    {
     "output_type": "stream",
     "name": "stdout",
     "text": [
      "cuda:2\n",
      "(64, 64, 3)\n"
     ]
    },
    {
     "output_type": "execute_result",
     "data": {
      "text/plain": [
       "<matplotlib.image.AxesImage at 0x7fdf530ebb70>"
      ]
     },
     "metadata": {},
     "execution_count": 4
    },
    {
     "output_type": "display_data",
     "data": {
      "text/plain": "<matplotlib.figure.Figure at 0x7fe0d9ca3048>",
      "image/svg+xml": "<?xml version=\"1.0\" encoding=\"utf-8\" standalone=\"no\"?>\n<!DOCTYPE svg PUBLIC \"-//W3C//DTD SVG 1.1//EN\"\n  \"http://www.w3.org/Graphics/SVG/1.1/DTD/svg11.dtd\">\n<!-- Created with matplotlib (http://matplotlib.org/) -->\n<svg height=\"252pt\" version=\"1.1\" viewBox=\"0 0 255 252\" width=\"255pt\" xmlns=\"http://www.w3.org/2000/svg\" xmlns:xlink=\"http://www.w3.org/1999/xlink\">\n <defs>\n  <style type=\"text/css\">\n*{stroke-linecap:butt;stroke-linejoin:round;}\n  </style>\n </defs>\n <g id=\"figure_1\">\n  <g id=\"patch_1\">\n   <path d=\"M 0 252.018125 \nL 255.065 252.018125 \nL 255.065 0 \nL 0 0 \nz\n\" style=\"fill:none;\"/>\n  </g>\n  <g id=\"axes_1\">\n   <g id=\"patch_2\">\n    <path d=\"M 26.925 228.14 \nL 244.365 228.14 \nL 244.365 10.7 \nL 26.925 10.7 \nz\n\" style=\"fill:#ffffff;\"/>\n   </g>\n   <g clip-path=\"url(#pdcb47fe546)\">\n    <image height=\"218\" id=\"image6207ed7bac\" transform=\"scale(1 -1)translate(0 -218)\" width=\"218\" x=\"26.925\" xlink:href=\"data:image/png;base64,\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\" y=\"-10.14\"/>\n   </g>\n   <g id=\"matplotlib.axis_1\">\n    <g id=\"xtick_1\">\n     <g id=\"line2d_1\">\n      <defs>\n       <path d=\"M 0 0 \nL 0 3.5 \n\" id=\"mc59388f96a\" style=\"stroke:#000000;stroke-width:0.8;\"/>\n      </defs>\n      <g>\n       <use style=\"stroke:#000000;stroke-width:0.8;\" x=\"28.62375\" xlink:href=\"#mc59388f96a\" y=\"228.14\"/>\n      </g>\n     </g>\n     <g id=\"text_1\">\n      <!-- 0 -->\n      <defs>\n       <path d=\"M 31.78125 66.40625 \nQ 24.171875 66.40625 20.328125 58.90625 \nQ 16.5 51.421875 16.5 36.375 \nQ 16.5 21.390625 20.328125 13.890625 \nQ 24.171875 6.390625 31.78125 6.390625 \nQ 39.453125 6.390625 43.28125 13.890625 \nQ 47.125 21.390625 47.125 36.375 \nQ 47.125 51.421875 43.28125 58.90625 \nQ 39.453125 66.40625 31.78125 66.40625 \nz\nM 31.78125 74.21875 \nQ 44.046875 74.21875 50.515625 64.515625 \nQ 56.984375 54.828125 56.984375 36.375 \nQ 56.984375 17.96875 50.515625 8.265625 \nQ 44.046875 -1.421875 31.78125 -1.421875 \nQ 19.53125 -1.421875 13.0625 8.265625 \nQ 6.59375 17.96875 6.59375 36.375 \nQ 6.59375 54.828125 13.0625 64.515625 \nQ 19.53125 74.21875 31.78125 74.21875 \nz\n\" id=\"DejaVuSans-30\"/>\n      </defs>\n      <g transform=\"translate(25.4425 242.738437)scale(0.1 -0.1)\">\n       <use xlink:href=\"#DejaVuSans-30\"/>\n      </g>\n     </g>\n    </g>\n    <g id=\"xtick_2\">\n     <g id=\"line2d_2\">\n      <g>\n       <use style=\"stroke:#000000;stroke-width:0.8;\" x=\"62.59875\" xlink:href=\"#mc59388f96a\" y=\"228.14\"/>\n      </g>\n     </g>\n     <g id=\"text_2\">\n      <!-- 10 -->\n      <defs>\n       <path d=\"M 12.40625 8.296875 \nL 28.515625 8.296875 \nL 28.515625 63.921875 \nL 10.984375 60.40625 \nL 10.984375 69.390625 \nL 28.421875 72.90625 \nL 38.28125 72.90625 \nL 38.28125 8.296875 \nL 54.390625 8.296875 \nL 54.390625 0 \nL 12.40625 0 \nz\n\" id=\"DejaVuSans-31\"/>\n      </defs>\n      <g transform=\"translate(56.23625 242.738437)scale(0.1 -0.1)\">\n       <use xlink:href=\"#DejaVuSans-31\"/>\n       <use x=\"63.623047\" xlink:href=\"#DejaVuSans-30\"/>\n      </g>\n     </g>\n    </g>\n    <g id=\"xtick_3\">\n     <g id=\"line2d_3\">\n      <g>\n       <use style=\"stroke:#000000;stroke-width:0.8;\" x=\"96.57375\" xlink:href=\"#mc59388f96a\" y=\"228.14\"/>\n      </g>\n     </g>\n     <g id=\"text_3\">\n      <!-- 20 -->\n      <defs>\n       <path d=\"M 19.1875 8.296875 \nL 53.609375 8.296875 \nL 53.609375 0 \nL 7.328125 0 \nL 7.328125 8.296875 \nQ 12.9375 14.109375 22.625 23.890625 \nQ 32.328125 33.6875 34.8125 36.53125 \nQ 39.546875 41.84375 41.421875 45.53125 \nQ 43.3125 49.21875 43.3125 52.78125 \nQ 43.3125 58.59375 39.234375 62.25 \nQ 35.15625 65.921875 28.609375 65.921875 \nQ 23.96875 65.921875 18.8125 64.3125 \nQ 13.671875 62.703125 7.8125 59.421875 \nL 7.8125 69.390625 \nQ 13.765625 71.78125 18.9375 73 \nQ 24.125 74.21875 28.421875 74.21875 \nQ 39.75 74.21875 46.484375 68.546875 \nQ 53.21875 62.890625 53.21875 53.421875 \nQ 53.21875 48.921875 51.53125 44.890625 \nQ 49.859375 40.875 45.40625 35.40625 \nQ 44.1875 33.984375 37.640625 27.21875 \nQ 31.109375 20.453125 19.1875 8.296875 \nz\n\" id=\"DejaVuSans-32\"/>\n      </defs>\n      <g transform=\"translate(90.21125 242.738437)scale(0.1 -0.1)\">\n       <use xlink:href=\"#DejaVuSans-32\"/>\n       <use x=\"63.623047\" xlink:href=\"#DejaVuSans-30\"/>\n      </g>\n     </g>\n    </g>\n    <g id=\"xtick_4\">\n     <g id=\"line2d_4\">\n      <g>\n       <use style=\"stroke:#000000;stroke-width:0.8;\" x=\"130.54875\" xlink:href=\"#mc59388f96a\" y=\"228.14\"/>\n      </g>\n     </g>\n     <g id=\"text_4\">\n      <!-- 30 -->\n      <defs>\n       <path d=\"M 40.578125 39.3125 \nQ 47.65625 37.796875 51.625 33 \nQ 55.609375 28.21875 55.609375 21.1875 \nQ 55.609375 10.40625 48.1875 4.484375 \nQ 40.765625 -1.421875 27.09375 -1.421875 \nQ 22.515625 -1.421875 17.65625 -0.515625 \nQ 12.796875 0.390625 7.625 2.203125 \nL 7.625 11.71875 \nQ 11.71875 9.328125 16.59375 8.109375 \nQ 21.484375 6.890625 26.8125 6.890625 \nQ 36.078125 6.890625 40.9375 10.546875 \nQ 45.796875 14.203125 45.796875 21.1875 \nQ 45.796875 27.640625 41.28125 31.265625 \nQ 36.765625 34.90625 28.71875 34.90625 \nL 20.21875 34.90625 \nL 20.21875 43.015625 \nL 29.109375 43.015625 \nQ 36.375 43.015625 40.234375 45.921875 \nQ 44.09375 48.828125 44.09375 54.296875 \nQ 44.09375 59.90625 40.109375 62.90625 \nQ 36.140625 65.921875 28.71875 65.921875 \nQ 24.65625 65.921875 20.015625 65.03125 \nQ 15.375 64.15625 9.8125 62.3125 \nL 9.8125 71.09375 \nQ 15.4375 72.65625 20.34375 73.4375 \nQ 25.25 74.21875 29.59375 74.21875 \nQ 40.828125 74.21875 47.359375 69.109375 \nQ 53.90625 64.015625 53.90625 55.328125 \nQ 53.90625 49.265625 50.4375 45.09375 \nQ 46.96875 40.921875 40.578125 39.3125 \nz\n\" id=\"DejaVuSans-33\"/>\n      </defs>\n      <g transform=\"translate(124.18625 242.738437)scale(0.1 -0.1)\">\n       <use xlink:href=\"#DejaVuSans-33\"/>\n       <use x=\"63.623047\" xlink:href=\"#DejaVuSans-30\"/>\n      </g>\n     </g>\n    </g>\n    <g id=\"xtick_5\">\n     <g id=\"line2d_5\">\n      <g>\n       <use style=\"stroke:#000000;stroke-width:0.8;\" x=\"164.52375\" xlink:href=\"#mc59388f96a\" y=\"228.14\"/>\n      </g>\n     </g>\n     <g id=\"text_5\">\n      <!-- 40 -->\n      <defs>\n       <path d=\"M 37.796875 64.3125 \nL 12.890625 25.390625 \nL 37.796875 25.390625 \nz\nM 35.203125 72.90625 \nL 47.609375 72.90625 \nL 47.609375 25.390625 \nL 58.015625 25.390625 \nL 58.015625 17.1875 \nL 47.609375 17.1875 \nL 47.609375 0 \nL 37.796875 0 \nL 37.796875 17.1875 \nL 4.890625 17.1875 \nL 4.890625 26.703125 \nz\n\" id=\"DejaVuSans-34\"/>\n      </defs>\n      <g transform=\"translate(158.16125 242.738437)scale(0.1 -0.1)\">\n       <use xlink:href=\"#DejaVuSans-34\"/>\n       <use x=\"63.623047\" xlink:href=\"#DejaVuSans-30\"/>\n      </g>\n     </g>\n    </g>\n    <g id=\"xtick_6\">\n     <g id=\"line2d_6\">\n      <g>\n       <use style=\"stroke:#000000;stroke-width:0.8;\" x=\"198.49875\" xlink:href=\"#mc59388f96a\" y=\"228.14\"/>\n      </g>\n     </g>\n     <g id=\"text_6\">\n      <!-- 50 -->\n      <defs>\n       <path d=\"M 10.796875 72.90625 \nL 49.515625 72.90625 \nL 49.515625 64.59375 \nL 19.828125 64.59375 \nL 19.828125 46.734375 \nQ 21.96875 47.46875 24.109375 47.828125 \nQ 26.265625 48.1875 28.421875 48.1875 \nQ 40.625 48.1875 47.75 41.5 \nQ 54.890625 34.8125 54.890625 23.390625 \nQ 54.890625 11.625 47.5625 5.09375 \nQ 40.234375 -1.421875 26.90625 -1.421875 \nQ 22.3125 -1.421875 17.546875 -0.640625 \nQ 12.796875 0.140625 7.71875 1.703125 \nL 7.71875 11.625 \nQ 12.109375 9.234375 16.796875 8.0625 \nQ 21.484375 6.890625 26.703125 6.890625 \nQ 35.15625 6.890625 40.078125 11.328125 \nQ 45.015625 15.765625 45.015625 23.390625 \nQ 45.015625 31 40.078125 35.4375 \nQ 35.15625 39.890625 26.703125 39.890625 \nQ 22.75 39.890625 18.8125 39.015625 \nQ 14.890625 38.140625 10.796875 36.28125 \nz\n\" id=\"DejaVuSans-35\"/>\n      </defs>\n      <g transform=\"translate(192.13625 242.738437)scale(0.1 -0.1)\">\n       <use xlink:href=\"#DejaVuSans-35\"/>\n       <use x=\"63.623047\" xlink:href=\"#DejaVuSans-30\"/>\n      </g>\n     </g>\n    </g>\n    <g id=\"xtick_7\">\n     <g id=\"line2d_7\">\n      <g>\n       <use style=\"stroke:#000000;stroke-width:0.8;\" x=\"232.47375\" xlink:href=\"#mc59388f96a\" y=\"228.14\"/>\n      </g>\n     </g>\n     <g id=\"text_7\">\n      <!-- 60 -->\n      <defs>\n       <path d=\"M 33.015625 40.375 \nQ 26.375 40.375 22.484375 35.828125 \nQ 18.609375 31.296875 18.609375 23.390625 \nQ 18.609375 15.53125 22.484375 10.953125 \nQ 26.375 6.390625 33.015625 6.390625 \nQ 39.65625 6.390625 43.53125 10.953125 \nQ 47.40625 15.53125 47.40625 23.390625 \nQ 47.40625 31.296875 43.53125 35.828125 \nQ 39.65625 40.375 33.015625 40.375 \nz\nM 52.59375 71.296875 \nL 52.59375 62.3125 \nQ 48.875 64.0625 45.09375 64.984375 \nQ 41.3125 65.921875 37.59375 65.921875 \nQ 27.828125 65.921875 22.671875 59.328125 \nQ 17.53125 52.734375 16.796875 39.40625 \nQ 19.671875 43.65625 24.015625 45.921875 \nQ 28.375 48.1875 33.59375 48.1875 \nQ 44.578125 48.1875 50.953125 41.515625 \nQ 57.328125 34.859375 57.328125 23.390625 \nQ 57.328125 12.15625 50.6875 5.359375 \nQ 44.046875 -1.421875 33.015625 -1.421875 \nQ 20.359375 -1.421875 13.671875 8.265625 \nQ 6.984375 17.96875 6.984375 36.375 \nQ 6.984375 53.65625 15.1875 63.9375 \nQ 23.390625 74.21875 37.203125 74.21875 \nQ 40.921875 74.21875 44.703125 73.484375 \nQ 48.484375 72.75 52.59375 71.296875 \nz\n\" id=\"DejaVuSans-36\"/>\n      </defs>\n      <g transform=\"translate(226.11125 242.738437)scale(0.1 -0.1)\">\n       <use xlink:href=\"#DejaVuSans-36\"/>\n       <use x=\"63.623047\" xlink:href=\"#DejaVuSans-30\"/>\n      </g>\n     </g>\n    </g>\n   </g>\n   <g id=\"matplotlib.axis_2\">\n    <g id=\"ytick_1\">\n     <g id=\"line2d_8\">\n      <defs>\n       <path d=\"M 0 0 \nL -3.5 0 \n\" id=\"mb99f9840c8\" style=\"stroke:#000000;stroke-width:0.8;\"/>\n      </defs>\n      <g>\n       <use style=\"stroke:#000000;stroke-width:0.8;\" x=\"26.925\" xlink:href=\"#mb99f9840c8\" y=\"12.39875\"/>\n      </g>\n     </g>\n     <g id=\"text_8\">\n      <!-- 0 -->\n      <g transform=\"translate(13.5625 16.197969)scale(0.1 -0.1)\">\n       <use xlink:href=\"#DejaVuSans-30\"/>\n      </g>\n     </g>\n    </g>\n    <g id=\"ytick_2\">\n     <g id=\"line2d_9\">\n      <g>\n       <use style=\"stroke:#000000;stroke-width:0.8;\" x=\"26.925\" xlink:href=\"#mb99f9840c8\" y=\"46.37375\"/>\n      </g>\n     </g>\n     <g id=\"text_9\">\n      <!-- 10 -->\n      <g transform=\"translate(7.2 50.172969)scale(0.1 -0.1)\">\n       <use xlink:href=\"#DejaVuSans-31\"/>\n       <use x=\"63.623047\" xlink:href=\"#DejaVuSans-30\"/>\n      </g>\n     </g>\n    </g>\n    <g id=\"ytick_3\">\n     <g id=\"line2d_10\">\n      <g>\n       <use style=\"stroke:#000000;stroke-width:0.8;\" x=\"26.925\" xlink:href=\"#mb99f9840c8\" y=\"80.34875\"/>\n      </g>\n     </g>\n     <g id=\"text_10\">\n      <!-- 20 -->\n      <g transform=\"translate(7.2 84.147969)scale(0.1 -0.1)\">\n       <use xlink:href=\"#DejaVuSans-32\"/>\n       <use x=\"63.623047\" xlink:href=\"#DejaVuSans-30\"/>\n      </g>\n     </g>\n    </g>\n    <g id=\"ytick_4\">\n     <g id=\"line2d_11\">\n      <g>\n       <use style=\"stroke:#000000;stroke-width:0.8;\" x=\"26.925\" xlink:href=\"#mb99f9840c8\" y=\"114.32375\"/>\n      </g>\n     </g>\n     <g id=\"text_11\">\n      <!-- 30 -->\n      <g transform=\"translate(7.2 118.122969)scale(0.1 -0.1)\">\n       <use xlink:href=\"#DejaVuSans-33\"/>\n       <use x=\"63.623047\" xlink:href=\"#DejaVuSans-30\"/>\n      </g>\n     </g>\n    </g>\n    <g id=\"ytick_5\">\n     <g id=\"line2d_12\">\n      <g>\n       <use style=\"stroke:#000000;stroke-width:0.8;\" x=\"26.925\" xlink:href=\"#mb99f9840c8\" y=\"148.29875\"/>\n      </g>\n     </g>\n     <g id=\"text_12\">\n      <!-- 40 -->\n      <g transform=\"translate(7.2 152.097969)scale(0.1 -0.1)\">\n       <use xlink:href=\"#DejaVuSans-34\"/>\n       <use x=\"63.623047\" xlink:href=\"#DejaVuSans-30\"/>\n      </g>\n     </g>\n    </g>\n    <g id=\"ytick_6\">\n     <g id=\"line2d_13\">\n      <g>\n       <use style=\"stroke:#000000;stroke-width:0.8;\" x=\"26.925\" xlink:href=\"#mb99f9840c8\" y=\"182.27375\"/>\n      </g>\n     </g>\n     <g id=\"text_13\">\n      <!-- 50 -->\n      <g transform=\"translate(7.2 186.072969)scale(0.1 -0.1)\">\n       <use xlink:href=\"#DejaVuSans-35\"/>\n       <use x=\"63.623047\" xlink:href=\"#DejaVuSans-30\"/>\n      </g>\n     </g>\n    </g>\n    <g id=\"ytick_7\">\n     <g id=\"line2d_14\">\n      <g>\n       <use style=\"stroke:#000000;stroke-width:0.8;\" x=\"26.925\" xlink:href=\"#mb99f9840c8\" y=\"216.24875\"/>\n      </g>\n     </g>\n     <g id=\"text_14\">\n      <!-- 60 -->\n      <g transform=\"translate(7.2 220.047969)scale(0.1 -0.1)\">\n       <use xlink:href=\"#DejaVuSans-36\"/>\n       <use x=\"63.623047\" xlink:href=\"#DejaVuSans-30\"/>\n      </g>\n     </g>\n    </g>\n   </g>\n   <g id=\"patch_3\">\n    <path d=\"M 26.925 228.14 \nL 26.925 10.7 \n\" style=\"fill:none;stroke:#000000;stroke-linecap:square;stroke-linejoin:miter;stroke-width:0.8;\"/>\n   </g>\n   <g id=\"patch_4\">\n    <path d=\"M 244.365 228.14 \nL 244.365 10.7 \n\" style=\"fill:none;stroke:#000000;stroke-linecap:square;stroke-linejoin:miter;stroke-width:0.8;\"/>\n   </g>\n   <g id=\"patch_5\">\n    <path d=\"M 26.925 228.14 \nL 244.365 228.14 \n\" style=\"fill:none;stroke:#000000;stroke-linecap:square;stroke-linejoin:miter;stroke-width:0.8;\"/>\n   </g>\n   <g id=\"patch_6\">\n    <path d=\"M 26.925 10.7 \nL 244.365 10.7 \n\" style=\"fill:none;stroke:#000000;stroke-linecap:square;stroke-linejoin:miter;stroke-width:0.8;\"/>\n   </g>\n  </g>\n </g>\n <defs>\n  <clipPath id=\"pdcb47fe546\">\n   <rect height=\"217.44\" width=\"217.44\" x=\"26.925\" y=\"10.7\"/>\n  </clipPath>\n </defs>\n</svg>\n",
      "image/png": "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\n"
     },
     "metadata": {
      "needs_background": "light"
     }
    }
   ],
   "source": [
    "import torch\n",
    "from torch import nn, optim\n",
    "from torchvision import transforms, datasets\n",
    "import matplotlib.pyplot as plt\n",
    "import numpy as np\n",
    "from get_free_gpu import get_free_gpu\n",
    "\n",
    "def noise(size):\n",
    "    n = torch.randn(size, 100) # mean = 0, std = 1\n",
    "    return n.to(device)\n",
    "\n",
    "device = get_free_gpu()\n",
    "print(device)\n",
    "\n",
    "generator = GenerativeNet()\n",
    "generator.to(device)\n",
    "\n",
    "generator.load_state_dict(torch.load('/root/labs/data/GAN/data/modelsDCGAN/CIFAR10/G_epoch_20'))\n",
    "\n",
    "num_test_samples = 1\n",
    "test_noise = noise(num_test_samples)\n",
    "\n",
    "output = generator(test_noise)\n",
    "output = np.array(output.detach().cpu()).reshape(3,64,64)\n",
    "output = np.transpose(output,(1,2,0))\n",
    "output = (1/(2*2.25)) * output + 0.5\n",
    "\n",
    "print(output.shape)\n",
    "\n",
    "plt.imshow(output)"
   ]
  },
  {
   "cell_type": "code",
   "execution_count": 5,
   "metadata": {},
   "outputs": [
    {
     "output_type": "stream",
     "name": "stdout",
     "text": [
      "cuda:0\n",
      "(64, 64, 3)\n"
     ]
    },
    {
     "output_type": "execute_result",
     "data": {
      "text/plain": [
       "<matplotlib.image.AxesImage at 0x7fdf550bba20>"
      ]
     },
     "metadata": {},
     "execution_count": 5
    },
    {
     "output_type": "display_data",
     "data": {
      "text/plain": "<matplotlib.figure.Figure at 0x7fdf55343b38>",
      "image/svg+xml": "<?xml version=\"1.0\" encoding=\"utf-8\" standalone=\"no\"?>\n<!DOCTYPE svg PUBLIC \"-//W3C//DTD SVG 1.1//EN\"\n  \"http://www.w3.org/Graphics/SVG/1.1/DTD/svg11.dtd\">\n<!-- Created with matplotlib (http://matplotlib.org/) -->\n<svg height=\"252pt\" version=\"1.1\" viewBox=\"0 0 255 252\" width=\"255pt\" xmlns=\"http://www.w3.org/2000/svg\" xmlns:xlink=\"http://www.w3.org/1999/xlink\">\n <defs>\n  <style type=\"text/css\">\n*{stroke-linecap:butt;stroke-linejoin:round;}\n  </style>\n </defs>\n <g id=\"figure_1\">\n  <g id=\"patch_1\">\n   <path d=\"M 0 252.018125 \nL 255.065 252.018125 \nL 255.065 0 \nL 0 0 \nz\n\" style=\"fill:none;\"/>\n  </g>\n  <g id=\"axes_1\">\n   <g id=\"patch_2\">\n    <path d=\"M 26.925 228.14 \nL 244.365 228.14 \nL 244.365 10.7 \nL 26.925 10.7 \nz\n\" style=\"fill:#ffffff;\"/>\n   </g>\n   <g clip-path=\"url(#pe19e7ac90c)\">\n    <image height=\"218\" id=\"image3f7bb8d0ee\" transform=\"scale(1 -1)translate(0 -218)\" width=\"218\" x=\"26.925\" xlink:href=\"data:image/png;base64,\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\" y=\"-10.14\"/>\n   </g>\n   <g id=\"matplotlib.axis_1\">\n    <g id=\"xtick_1\">\n     <g id=\"line2d_1\">\n      <defs>\n       <path d=\"M 0 0 \nL 0 3.5 \n\" id=\"me47ea362cd\" style=\"stroke:#000000;stroke-width:0.8;\"/>\n      </defs>\n      <g>\n       <use style=\"stroke:#000000;stroke-width:0.8;\" x=\"28.62375\" xlink:href=\"#me47ea362cd\" y=\"228.14\"/>\n      </g>\n     </g>\n     <g id=\"text_1\">\n      <!-- 0 -->\n      <defs>\n       <path d=\"M 31.78125 66.40625 \nQ 24.171875 66.40625 20.328125 58.90625 \nQ 16.5 51.421875 16.5 36.375 \nQ 16.5 21.390625 20.328125 13.890625 \nQ 24.171875 6.390625 31.78125 6.390625 \nQ 39.453125 6.390625 43.28125 13.890625 \nQ 47.125 21.390625 47.125 36.375 \nQ 47.125 51.421875 43.28125 58.90625 \nQ 39.453125 66.40625 31.78125 66.40625 \nz\nM 31.78125 74.21875 \nQ 44.046875 74.21875 50.515625 64.515625 \nQ 56.984375 54.828125 56.984375 36.375 \nQ 56.984375 17.96875 50.515625 8.265625 \nQ 44.046875 -1.421875 31.78125 -1.421875 \nQ 19.53125 -1.421875 13.0625 8.265625 \nQ 6.59375 17.96875 6.59375 36.375 \nQ 6.59375 54.828125 13.0625 64.515625 \nQ 19.53125 74.21875 31.78125 74.21875 \nz\n\" id=\"DejaVuSans-30\"/>\n      </defs>\n      <g transform=\"translate(25.4425 242.738437)scale(0.1 -0.1)\">\n       <use xlink:href=\"#DejaVuSans-30\"/>\n      </g>\n     </g>\n    </g>\n    <g id=\"xtick_2\">\n     <g id=\"line2d_2\">\n      <g>\n       <use style=\"stroke:#000000;stroke-width:0.8;\" x=\"62.59875\" xlink:href=\"#me47ea362cd\" y=\"228.14\"/>\n      </g>\n     </g>\n     <g id=\"text_2\">\n      <!-- 10 -->\n      <defs>\n       <path d=\"M 12.40625 8.296875 \nL 28.515625 8.296875 \nL 28.515625 63.921875 \nL 10.984375 60.40625 \nL 10.984375 69.390625 \nL 28.421875 72.90625 \nL 38.28125 72.90625 \nL 38.28125 8.296875 \nL 54.390625 8.296875 \nL 54.390625 0 \nL 12.40625 0 \nz\n\" id=\"DejaVuSans-31\"/>\n      </defs>\n      <g transform=\"translate(56.23625 242.738437)scale(0.1 -0.1)\">\n       <use xlink:href=\"#DejaVuSans-31\"/>\n       <use x=\"63.623047\" xlink:href=\"#DejaVuSans-30\"/>\n      </g>\n     </g>\n    </g>\n    <g id=\"xtick_3\">\n     <g id=\"line2d_3\">\n      <g>\n       <use style=\"stroke:#000000;stroke-width:0.8;\" x=\"96.57375\" xlink:href=\"#me47ea362cd\" y=\"228.14\"/>\n      </g>\n     </g>\n     <g id=\"text_3\">\n      <!-- 20 -->\n      <defs>\n       <path d=\"M 19.1875 8.296875 \nL 53.609375 8.296875 \nL 53.609375 0 \nL 7.328125 0 \nL 7.328125 8.296875 \nQ 12.9375 14.109375 22.625 23.890625 \nQ 32.328125 33.6875 34.8125 36.53125 \nQ 39.546875 41.84375 41.421875 45.53125 \nQ 43.3125 49.21875 43.3125 52.78125 \nQ 43.3125 58.59375 39.234375 62.25 \nQ 35.15625 65.921875 28.609375 65.921875 \nQ 23.96875 65.921875 18.8125 64.3125 \nQ 13.671875 62.703125 7.8125 59.421875 \nL 7.8125 69.390625 \nQ 13.765625 71.78125 18.9375 73 \nQ 24.125 74.21875 28.421875 74.21875 \nQ 39.75 74.21875 46.484375 68.546875 \nQ 53.21875 62.890625 53.21875 53.421875 \nQ 53.21875 48.921875 51.53125 44.890625 \nQ 49.859375 40.875 45.40625 35.40625 \nQ 44.1875 33.984375 37.640625 27.21875 \nQ 31.109375 20.453125 19.1875 8.296875 \nz\n\" id=\"DejaVuSans-32\"/>\n      </defs>\n      <g transform=\"translate(90.21125 242.738437)scale(0.1 -0.1)\">\n       <use xlink:href=\"#DejaVuSans-32\"/>\n       <use x=\"63.623047\" xlink:href=\"#DejaVuSans-30\"/>\n      </g>\n     </g>\n    </g>\n    <g id=\"xtick_4\">\n     <g id=\"line2d_4\">\n      <g>\n       <use style=\"stroke:#000000;stroke-width:0.8;\" x=\"130.54875\" xlink:href=\"#me47ea362cd\" y=\"228.14\"/>\n      </g>\n     </g>\n     <g id=\"text_4\">\n      <!-- 30 -->\n      <defs>\n       <path d=\"M 40.578125 39.3125 \nQ 47.65625 37.796875 51.625 33 \nQ 55.609375 28.21875 55.609375 21.1875 \nQ 55.609375 10.40625 48.1875 4.484375 \nQ 40.765625 -1.421875 27.09375 -1.421875 \nQ 22.515625 -1.421875 17.65625 -0.515625 \nQ 12.796875 0.390625 7.625 2.203125 \nL 7.625 11.71875 \nQ 11.71875 9.328125 16.59375 8.109375 \nQ 21.484375 6.890625 26.8125 6.890625 \nQ 36.078125 6.890625 40.9375 10.546875 \nQ 45.796875 14.203125 45.796875 21.1875 \nQ 45.796875 27.640625 41.28125 31.265625 \nQ 36.765625 34.90625 28.71875 34.90625 \nL 20.21875 34.90625 \nL 20.21875 43.015625 \nL 29.109375 43.015625 \nQ 36.375 43.015625 40.234375 45.921875 \nQ 44.09375 48.828125 44.09375 54.296875 \nQ 44.09375 59.90625 40.109375 62.90625 \nQ 36.140625 65.921875 28.71875 65.921875 \nQ 24.65625 65.921875 20.015625 65.03125 \nQ 15.375 64.15625 9.8125 62.3125 \nL 9.8125 71.09375 \nQ 15.4375 72.65625 20.34375 73.4375 \nQ 25.25 74.21875 29.59375 74.21875 \nQ 40.828125 74.21875 47.359375 69.109375 \nQ 53.90625 64.015625 53.90625 55.328125 \nQ 53.90625 49.265625 50.4375 45.09375 \nQ 46.96875 40.921875 40.578125 39.3125 \nz\n\" id=\"DejaVuSans-33\"/>\n      </defs>\n      <g transform=\"translate(124.18625 242.738437)scale(0.1 -0.1)\">\n       <use xlink:href=\"#DejaVuSans-33\"/>\n       <use x=\"63.623047\" xlink:href=\"#DejaVuSans-30\"/>\n      </g>\n     </g>\n    </g>\n    <g id=\"xtick_5\">\n     <g id=\"line2d_5\">\n      <g>\n       <use style=\"stroke:#000000;stroke-width:0.8;\" x=\"164.52375\" xlink:href=\"#me47ea362cd\" y=\"228.14\"/>\n      </g>\n     </g>\n     <g id=\"text_5\">\n      <!-- 40 -->\n      <defs>\n       <path d=\"M 37.796875 64.3125 \nL 12.890625 25.390625 \nL 37.796875 25.390625 \nz\nM 35.203125 72.90625 \nL 47.609375 72.90625 \nL 47.609375 25.390625 \nL 58.015625 25.390625 \nL 58.015625 17.1875 \nL 47.609375 17.1875 \nL 47.609375 0 \nL 37.796875 0 \nL 37.796875 17.1875 \nL 4.890625 17.1875 \nL 4.890625 26.703125 \nz\n\" id=\"DejaVuSans-34\"/>\n      </defs>\n      <g transform=\"translate(158.16125 242.738437)scale(0.1 -0.1)\">\n       <use xlink:href=\"#DejaVuSans-34\"/>\n       <use x=\"63.623047\" xlink:href=\"#DejaVuSans-30\"/>\n      </g>\n     </g>\n    </g>\n    <g id=\"xtick_6\">\n     <g id=\"line2d_6\">\n      <g>\n       <use style=\"stroke:#000000;stroke-width:0.8;\" x=\"198.49875\" xlink:href=\"#me47ea362cd\" y=\"228.14\"/>\n      </g>\n     </g>\n     <g id=\"text_6\">\n      <!-- 50 -->\n      <defs>\n       <path d=\"M 10.796875 72.90625 \nL 49.515625 72.90625 \nL 49.515625 64.59375 \nL 19.828125 64.59375 \nL 19.828125 46.734375 \nQ 21.96875 47.46875 24.109375 47.828125 \nQ 26.265625 48.1875 28.421875 48.1875 \nQ 40.625 48.1875 47.75 41.5 \nQ 54.890625 34.8125 54.890625 23.390625 \nQ 54.890625 11.625 47.5625 5.09375 \nQ 40.234375 -1.421875 26.90625 -1.421875 \nQ 22.3125 -1.421875 17.546875 -0.640625 \nQ 12.796875 0.140625 7.71875 1.703125 \nL 7.71875 11.625 \nQ 12.109375 9.234375 16.796875 8.0625 \nQ 21.484375 6.890625 26.703125 6.890625 \nQ 35.15625 6.890625 40.078125 11.328125 \nQ 45.015625 15.765625 45.015625 23.390625 \nQ 45.015625 31 40.078125 35.4375 \nQ 35.15625 39.890625 26.703125 39.890625 \nQ 22.75 39.890625 18.8125 39.015625 \nQ 14.890625 38.140625 10.796875 36.28125 \nz\n\" id=\"DejaVuSans-35\"/>\n      </defs>\n      <g transform=\"translate(192.13625 242.738437)scale(0.1 -0.1)\">\n       <use xlink:href=\"#DejaVuSans-35\"/>\n       <use x=\"63.623047\" xlink:href=\"#DejaVuSans-30\"/>\n      </g>\n     </g>\n    </g>\n    <g id=\"xtick_7\">\n     <g id=\"line2d_7\">\n      <g>\n       <use style=\"stroke:#000000;stroke-width:0.8;\" x=\"232.47375\" xlink:href=\"#me47ea362cd\" y=\"228.14\"/>\n      </g>\n     </g>\n     <g id=\"text_7\">\n      <!-- 60 -->\n      <defs>\n       <path d=\"M 33.015625 40.375 \nQ 26.375 40.375 22.484375 35.828125 \nQ 18.609375 31.296875 18.609375 23.390625 \nQ 18.609375 15.53125 22.484375 10.953125 \nQ 26.375 6.390625 33.015625 6.390625 \nQ 39.65625 6.390625 43.53125 10.953125 \nQ 47.40625 15.53125 47.40625 23.390625 \nQ 47.40625 31.296875 43.53125 35.828125 \nQ 39.65625 40.375 33.015625 40.375 \nz\nM 52.59375 71.296875 \nL 52.59375 62.3125 \nQ 48.875 64.0625 45.09375 64.984375 \nQ 41.3125 65.921875 37.59375 65.921875 \nQ 27.828125 65.921875 22.671875 59.328125 \nQ 17.53125 52.734375 16.796875 39.40625 \nQ 19.671875 43.65625 24.015625 45.921875 \nQ 28.375 48.1875 33.59375 48.1875 \nQ 44.578125 48.1875 50.953125 41.515625 \nQ 57.328125 34.859375 57.328125 23.390625 \nQ 57.328125 12.15625 50.6875 5.359375 \nQ 44.046875 -1.421875 33.015625 -1.421875 \nQ 20.359375 -1.421875 13.671875 8.265625 \nQ 6.984375 17.96875 6.984375 36.375 \nQ 6.984375 53.65625 15.1875 63.9375 \nQ 23.390625 74.21875 37.203125 74.21875 \nQ 40.921875 74.21875 44.703125 73.484375 \nQ 48.484375 72.75 52.59375 71.296875 \nz\n\" id=\"DejaVuSans-36\"/>\n      </defs>\n      <g transform=\"translate(226.11125 242.738437)scale(0.1 -0.1)\">\n       <use xlink:href=\"#DejaVuSans-36\"/>\n       <use x=\"63.623047\" xlink:href=\"#DejaVuSans-30\"/>\n      </g>\n     </g>\n    </g>\n   </g>\n   <g id=\"matplotlib.axis_2\">\n    <g id=\"ytick_1\">\n     <g id=\"line2d_8\">\n      <defs>\n       <path d=\"M 0 0 \nL -3.5 0 \n\" id=\"m24562fa30f\" style=\"stroke:#000000;stroke-width:0.8;\"/>\n      </defs>\n      <g>\n       <use style=\"stroke:#000000;stroke-width:0.8;\" x=\"26.925\" xlink:href=\"#m24562fa30f\" y=\"12.39875\"/>\n      </g>\n     </g>\n     <g id=\"text_8\">\n      <!-- 0 -->\n      <g transform=\"translate(13.5625 16.197969)scale(0.1 -0.1)\">\n       <use xlink:href=\"#DejaVuSans-30\"/>\n      </g>\n     </g>\n    </g>\n    <g id=\"ytick_2\">\n     <g id=\"line2d_9\">\n      <g>\n       <use style=\"stroke:#000000;stroke-width:0.8;\" x=\"26.925\" xlink:href=\"#m24562fa30f\" y=\"46.37375\"/>\n      </g>\n     </g>\n     <g id=\"text_9\">\n      <!-- 10 -->\n      <g transform=\"translate(7.2 50.172969)scale(0.1 -0.1)\">\n       <use xlink:href=\"#DejaVuSans-31\"/>\n       <use x=\"63.623047\" xlink:href=\"#DejaVuSans-30\"/>\n      </g>\n     </g>\n    </g>\n    <g id=\"ytick_3\">\n     <g id=\"line2d_10\">\n      <g>\n       <use style=\"stroke:#000000;stroke-width:0.8;\" x=\"26.925\" xlink:href=\"#m24562fa30f\" y=\"80.34875\"/>\n      </g>\n     </g>\n     <g id=\"text_10\">\n      <!-- 20 -->\n      <g transform=\"translate(7.2 84.147969)scale(0.1 -0.1)\">\n       <use xlink:href=\"#DejaVuSans-32\"/>\n       <use x=\"63.623047\" xlink:href=\"#DejaVuSans-30\"/>\n      </g>\n     </g>\n    </g>\n    <g id=\"ytick_4\">\n     <g id=\"line2d_11\">\n      <g>\n       <use style=\"stroke:#000000;stroke-width:0.8;\" x=\"26.925\" xlink:href=\"#m24562fa30f\" y=\"114.32375\"/>\n      </g>\n     </g>\n     <g id=\"text_11\">\n      <!-- 30 -->\n      <g transform=\"translate(7.2 118.122969)scale(0.1 -0.1)\">\n       <use xlink:href=\"#DejaVuSans-33\"/>\n       <use x=\"63.623047\" xlink:href=\"#DejaVuSans-30\"/>\n      </g>\n     </g>\n    </g>\n    <g id=\"ytick_5\">\n     <g id=\"line2d_12\">\n      <g>\n       <use style=\"stroke:#000000;stroke-width:0.8;\" x=\"26.925\" xlink:href=\"#m24562fa30f\" y=\"148.29875\"/>\n      </g>\n     </g>\n     <g id=\"text_12\">\n      <!-- 40 -->\n      <g transform=\"translate(7.2 152.097969)scale(0.1 -0.1)\">\n       <use xlink:href=\"#DejaVuSans-34\"/>\n       <use x=\"63.623047\" xlink:href=\"#DejaVuSans-30\"/>\n      </g>\n     </g>\n    </g>\n    <g id=\"ytick_6\">\n     <g id=\"line2d_13\">\n      <g>\n       <use style=\"stroke:#000000;stroke-width:0.8;\" x=\"26.925\" xlink:href=\"#m24562fa30f\" y=\"182.27375\"/>\n      </g>\n     </g>\n     <g id=\"text_13\">\n      <!-- 50 -->\n      <g transform=\"translate(7.2 186.072969)scale(0.1 -0.1)\">\n       <use xlink:href=\"#DejaVuSans-35\"/>\n       <use x=\"63.623047\" xlink:href=\"#DejaVuSans-30\"/>\n      </g>\n     </g>\n    </g>\n    <g id=\"ytick_7\">\n     <g id=\"line2d_14\">\n      <g>\n       <use style=\"stroke:#000000;stroke-width:0.8;\" x=\"26.925\" xlink:href=\"#m24562fa30f\" y=\"216.24875\"/>\n      </g>\n     </g>\n     <g id=\"text_14\">\n      <!-- 60 -->\n      <g transform=\"translate(7.2 220.047969)scale(0.1 -0.1)\">\n       <use xlink:href=\"#DejaVuSans-36\"/>\n       <use x=\"63.623047\" xlink:href=\"#DejaVuSans-30\"/>\n      </g>\n     </g>\n    </g>\n   </g>\n   <g id=\"patch_3\">\n    <path d=\"M 26.925 228.14 \nL 26.925 10.7 \n\" style=\"fill:none;stroke:#000000;stroke-linecap:square;stroke-linejoin:miter;stroke-width:0.8;\"/>\n   </g>\n   <g id=\"patch_4\">\n    <path d=\"M 244.365 228.14 \nL 244.365 10.7 \n\" style=\"fill:none;stroke:#000000;stroke-linecap:square;stroke-linejoin:miter;stroke-width:0.8;\"/>\n   </g>\n   <g id=\"patch_5\">\n    <path d=\"M 26.925 228.14 \nL 244.365 228.14 \n\" style=\"fill:none;stroke:#000000;stroke-linecap:square;stroke-linejoin:miter;stroke-width:0.8;\"/>\n   </g>\n   <g id=\"patch_6\">\n    <path d=\"M 26.925 10.7 \nL 244.365 10.7 \n\" style=\"fill:none;stroke:#000000;stroke-linecap:square;stroke-linejoin:miter;stroke-width:0.8;\"/>\n   </g>\n  </g>\n </g>\n <defs>\n  <clipPath id=\"pe19e7ac90c\">\n   <rect height=\"217.44\" width=\"217.44\" x=\"26.925\" y=\"10.7\"/>\n  </clipPath>\n </defs>\n</svg>\n",
      "image/png": "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\n"
     },
     "metadata": {
      "needs_background": "light"
     }
    }
   ],
   "source": [
    "import torch\n",
    "from torch import nn, optim\n",
    "from torchvision import transforms, datasets\n",
    "import matplotlib.pyplot as plt\n",
    "import numpy as np\n",
    "from get_free_gpu import get_free_gpu\n",
    "\n",
    "def noise(size):\n",
    "    n = torch.randn(size, 100) # mean = 0, std = 1\n",
    "    return n.to(device)\n",
    "\n",
    "device = get_free_gpu()\n",
    "print(device)\n",
    "\n",
    "generator = GenerativeNet()\n",
    "generator.to(device)\n",
    "\n",
    "generator.load_state_dict(torch.load('/root/labs/weights/cifarDCGAN_beau/G_epoch_29'))\n",
    "\n",
    "num_test_samples = 1\n",
    "test_noise = noise(num_test_samples)\n",
    "\n",
    "output = generator(test_noise)\n",
    "output = np.array(output.detach().cpu()).reshape(3,64,64)\n",
    "output = np.transpose(output,(1,2,0))\n",
    "output = (1/(2*2.25)) * output + 0.5\n",
    "\n",
    "print(output.shape)\n",
    "\n",
    "plt.imshow(output)"
   ]
  },
  {
   "cell_type": "code",
   "execution_count": null,
   "metadata": {},
   "outputs": [],
   "source": []
  }
 ],
 "metadata": {
  "kernelspec": {
   "display_name": "Python 3",
   "language": "python",
   "name": "python3"
  },
  "language_info": {
   "codemirror_mode": {
    "name": "ipython",
    "version": 3
   },
   "file_extension": ".py",
   "mimetype": "text/x-python",
   "name": "python",
   "nbconvert_exporter": "python",
   "pygments_lexer": "ipython3",
   "version": "3.6.9-final"
  }
 },
 "nbformat": 4,
 "nbformat_minor": 4
}
