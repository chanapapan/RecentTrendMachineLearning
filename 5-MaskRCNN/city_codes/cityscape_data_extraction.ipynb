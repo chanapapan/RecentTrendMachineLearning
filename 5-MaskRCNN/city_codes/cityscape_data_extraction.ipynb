{
 "cells": [
  {
   "cell_type": "code",
   "execution_count": null,
   "metadata": {
    "collapsed": true
   },
   "outputs": [],
   "source": [
    "import os\n",
    "import json\n",
    "import numpy as np\n",
    "import time\n",
    "import pickle\n",
    "import pandas as pd\n",
    "from PIL import Image, ImageDraw\n",
    "import math\n",
    "import random\n",
    "import cv2\n",
    "\n",
    "from config import Config\n",
    "import utils"
   ]
  },
  {
   "cell_type": "code",
   "execution_count": null,
   "metadata": {
    "collapsed": true
   },
   "outputs": [],
   "source": [
    "HOME = os.getcwd()\n",
    "IMAGE_DIR = '/root/labs/Cityscapes/leftImg8bit'\n",
    "ANN_DIR = '/root/labs/Cityscapes/gtFine'"
   ]
  },
  {
   "cell_type": "code",
   "execution_count": null,
   "metadata": {},
   "outputs": [],
   "source": [
    "def image_ann_paths(ret = True, pickle_files = False):\n",
    "    \"\"\"creates dictionaries for path to images and annotation files\n",
    "    optional pickle files can be created\n",
    "    \"\"\"\n",
    "    image_dct = {}\n",
    "    ann_dct = {}\n",
    "    for directory in [\"train\",\"val\",\"test\"]:\n",
    "        images = []\n",
    "        ann = []\n",
    "        image_path = os.path.join(IMAGE_DIR, directory)\n",
    "        ann_path = os.path.join(ANN_DIR, directory)\n",
    "        cities = [d for d in os.listdir(image_path)]\n",
    "        for city in cities:\n",
    "            print(\"appending data: {} city from {} directory\".format(city,directory))\n",
    "            city_path = os.path.join(image_path, city)\n",
    "            city_ann_path = os.path.join(ann_path, city)\n",
    "            for file in os.listdir(city_path):\n",
    "                images.append(os.path.join(city_path,file))\n",
    "                filename = \"_\".join(file.split(\"_\")[:3])\n",
    "                filename += \"_gtFine_polygons.json\"\n",
    "                ann.append(os.path.join(city_ann_path, filename))\n",
    "        image_dct[directory] = images\n",
    "        ann_dct[directory] = ann\n",
    "        \n",
    "        if pickle_files:\n",
    "            pickle.dump(images,open(\"image_{}.pickle\".format(directory), \"wb\"))\n",
    "            pickle.dump(ann,open(\"ann_{}.pickle\".format(directory), \"wb\"))\n",
    "    if ret:        \n",
    "        return image_dct, ann_dct"
   ]
  },
  {
   "cell_type": "code",
   "execution_count": null,
   "metadata": {},
   "outputs": [],
   "source": [
    "images, annotations = image_ann_paths(pickle_files=True)"
   ]
  },
  {
   "cell_type": "code",
   "execution_count": null,
   "metadata": {},
   "outputs": [],
   "source": [
    "images = pickle.load(open(\"image_train.pickle\", \"rb\"))\n",
    "annotations = pickle.load(open(\"ann_train.pickle\", \"rb\"))\n",
    "labels = ['bicycle', 'bicyclegroup', 'bridge', 'building', 'bus', 'car',\n",
    "        'caravan', 'cargroup', 'dynamic', 'ego vehicle', 'fence', 'ground',\n",
    "          'guard rail', 'license plate', 'motorcycle', 'motorcyclegroup',\n",
    "          'out of roi', 'parking', 'person', 'persongroup', 'pole',\n",
    "          'polegroup', 'rail track', 'rectification border', 'rider',\n",
    "          'ridergroup', 'road', 'sidewalk', 'sky', 'static', 'terrain',\n",
    "          'traffic light', 'traffic sign', 'trailer', 'train', 'truck',\n",
    "          'truckgroup', 'tunnel', 'vegetation', 'wall']"
   ]
  },
  {
   "cell_type": "code",
   "execution_count": null,
   "metadata": {},
   "outputs": [],
   "source": [
    "len(labels)"
   ]
  },
  {
   "cell_type": "code",
   "execution_count": null,
   "metadata": {},
   "outputs": [],
   "source": [
    "image_path = '/root/labs/Cityscapes/leftImg8bit/train/erfurt/erfurt_000000_000019_leftImg8bit.png'\n",
    "#image_path = dataset.image_info[image_id]['path']\n",
    "image_path = image_path.replace(\"leftImg8bit\",\"gtFine\")\n",
    "image_path = image_path.replace(\".png\", \"_polygons.json\")\n",
    "\n",
    "dct = json.load(open(image_path,'r'))\n",
    "num_instances = len(dct['objects'])\n",
    "print(num_instances)\n",
    "width = 2048\n",
    "height = 1024\n",
    "\n",
    "instance_masks = []\n",
    "class_ids = []\n",
    "\n",
    "for i in range(num_instances):\n",
    "    instance = dct['objects'][i]\n",
    "    class_ids.append(instance['label'])\n",
    "    poly = instance['polygon']\n",
    "    polygon = [tuple(pt) for pt in poly]\n",
    "    img = Image.new('L', (width, height), 0)\n",
    "    ImageDraw.Draw(img).polygon(polygon, outline=1, fill=1)\n",
    "    mask = np.array(img)\n",
    "    instance_masks.append(mask)\n",
    "    \n",
    "import matplotlib.pyplot as plt\n",
    "plt.imshow(instance_masks[74], cmap = 'gray')\n"
   ]
  },
  {
   "cell_type": "code",
   "execution_count": null,
   "metadata": {},
   "outputs": [],
   "source": [
    "'/root/labs/Cityscapes/leftImg8bit/train/erfurt/erfurt_000000_000019_leftImg8bit.png'.replace(\"leftImg8bit\",\"gtFine\")"
   ]
  },
  {
   "cell_type": "code",
   "execution_count": null,
   "metadata": {},
   "outputs": [],
   "source": []
  },
  {
   "cell_type": "code",
   "execution_count": null,
   "metadata": {
    "collapsed": true
   },
   "outputs": [],
   "source": [
    "class CityscapesConfig(Config):\n",
    "    \"\"\"Configuration for training on the toy shapes dataset.\n",
    "    Derives from the base Config class and overrides values specific\n",
    "    to the toy shapes dataset.\n",
    "    \"\"\"\n",
    "    # Give the configuration a recognizable name\n",
    "    NAME = \"cityscapes\"\n",
    "\n",
    "    # Train on 1 GPU and 8 images per GPU. We can put multiple images on each\n",
    "    # GPU because the images are small. Batch size is 8 (GPUs * images/GPU).\n",
    "    GPU_COUNT = 1\n",
    "    IMAGES_PER_GPU = 1\n",
    "\n",
    "    # Number of classes (including background)\n",
    "    NUM_CLASSES = 1 + 40  # background + 3 shapes\n",
    "    \n",
    "    IMAGE_MIN_DIM = 1024\n",
    "    IMAGE_MAX_DIM = 2048\n",
    "    \n",
    "config = CityscapesConfig()\n",
    "config.display()"
   ]
  },
  {
   "cell_type": "code",
   "execution_count": null,
   "metadata": {
    "collapsed": true
   },
   "outputs": [],
   "source": [
    "class CityscapesDataset(utils.Dataset):\n",
    "    \"\"\"Generates the shapes synthetic dataset. The dataset consists of simple\n",
    "    shapes (triangles, squares, circles) placed randomly on a blank surface.\n",
    "    The images are generated on the fly. No file access required.\n",
    "    \"\"\"\n",
    "\n",
    "    def load_cityscapes(self, count, height, width):\n",
    "        \"\"\"Generate the requested number of synthetic images.\n",
    "        count: number of images to generate.\n",
    "        height, width: the size of the generated images.\n",
    "        \"\"\"\n",
    "        # Add classes\n",
    "        for class_id, class_name in enumerate(set(labels)):\n",
    "            self.add_class(\"cityscapes\", i + 1, class_name)\n",
    "\n",
    "        # Add images\n",
    "        for i, path in enumerate(images):\n",
    "            self.add_image(\"cityscapes\", image_id=i, path=path)\n",
    "            \n",
    "    def image_reference(self, image_id):\n",
    "        \"\"\"Return the shapes data of the image.\"\"\"\n",
    "        info = self.image_info[image_id]\n",
    "        if info[\"source\"] == \"cityscapes\":\n",
    "            return info[\"cityscapes\"]\n",
    "        else:\n",
    "            super(self.__class__).image_reference(self, image_id)\n",
    "            \n",
    "    #def load_mask(self, image_id):\n",
    "        #return mask, image_ids"
   ]
  },
  {
   "cell_type": "code",
   "execution_count": null,
   "metadata": {
    "collapsed": true
   },
   "outputs": [],
   "source": []
  },
  {
   "cell_type": "code",
   "execution_count": null,
   "metadata": {
    "collapsed": true
   },
   "outputs": [],
   "source": [
    "HOME = os.getcwd()\n",
    "TRAIN_DIR = '/root/labs/Cityscapes/gtFine/train'\n",
    "VAL_DIR = '/root/labs/Cityscapes/gtFine/val'\n",
    "TEST_DIR = '/root/labs/Cityscapes/gtFine/test'"
   ]
  },
  {
   "cell_type": "code",
   "execution_count": null,
   "metadata": {},
   "outputs": [],
   "source": [
    "def pickle_data(color_file = \"color.pickle\", label_file = \"labels.pickle\", \n",
    "                polygon_file = \"polygons.pickle\"):\n",
    "    colors = []\n",
    "    labels = []\n",
    "    polygons = []\n",
    "    for directory in [TRAIN_DIR,VAL_DIR,TEST_DIR]:\n",
    "        cities = [d for d in os.listdir(directory) if d != 'placeholder.txt']\n",
    "        for city in cities:\n",
    "            tic = time.time()\n",
    "            city_path = os.path.join(directory, city)\n",
    "            json_files = [j for j in os.listdir(city_path) if j[-4:] == 'json']\n",
    "            for file in json_files:\n",
    "                j = os.path.join(city_path,file)\n",
    "                with open(j,'r') as f:\n",
    "                    dct = json.load(f)\n",
    "                    for i in range(len(dct['objects'])):\n",
    "                        colors.append(j)\n",
    "                        objects = dct['objects'][i]\n",
    "                        labels.append(objects['label'])\n",
    "                        polygons.append(objects['polygon'])\n",
    "            print(\"Completed City:\",city,\"in\",str(time.time() - tic),\"seconds\")\n",
    "        print(\"Completed Directory\", directory.split(\"/\")[-1])\n",
    "    pickle.dump(colors,open(color_file, \"wb\"))\n",
    "    pickle.dump(labels, open(label_file, \"wb\"))\n",
    "    pickle.dump(polygons, open(polygon_file, \"wb\"))\n",
    "    return polygons\n",
    "    \n",
    "    \n",
    "polygons = pickle_data()"
   ]
  },
  {
   "cell_type": "code",
   "execution_count": null,
   "metadata": {
    "collapsed": true
   },
   "outputs": [],
   "source": []
  },
  {
   "cell_type": "code",
   "execution_count": null,
   "metadata": {
    "collapsed": true
   },
   "outputs": [],
   "source": [
    "def pickle_rois(polygons, roi_file = \"roi.pickle\"):\n",
    "    rois = []\n",
    "    count = 0\n",
    "    for poly in polygons:\n",
    "        polygon = [tuple(pt) for pt in poly]\n",
    "        xs = [x for x,y in polygon]\n",
    "        ys = [y for x,y in polygon]\n",
    "        x_min = np.min(xs)\n",
    "        x_max = np.max(xs)\n",
    "        y_min = np.min(ys)\n",
    "        y_max = np.max(ys)\n",
    "        roi = [x_min,y_min,x_max,y_max]\n",
    "        roi.append(rois)\n",
    "        count += 1\n",
    "        if count % 50000 == 0:\n",
    "            print('{} more rois to process'.format(len(polygons) - count))\n",
    "\n",
    "    pickle.dump(rois,open(roi_file, \"wb\"))\n",
    "    \n",
    "    \n",
    "pickle_rois(polygons)"
   ]
  },
  {
   "cell_type": "code",
   "execution_count": null,
   "metadata": {},
   "outputs": [],
   "source": []
  }
 ],
 "metadata": {
  "kernelspec": {
   "name": "python3",
   "display_name": "Python 3.6.9 64-bit",
   "metadata": {
    "interpreter": {
     "hash": "31f2aee4e71d21fbe5cf8b01ff0e069b9275f58929596ceb00d14d90e3e16cd6"
    }
   }
  },
  "language_info": {
   "codemirror_mode": {
    "name": "ipython",
    "version": 3
   },
   "file_extension": ".py",
   "mimetype": "text/x-python",
   "name": "python",
   "nbconvert_exporter": "python",
   "pygments_lexer": "ipython3",
   "version": "3.6.9-final"
  }
 },
 "nbformat": 4,
 "nbformat_minor": 2
}