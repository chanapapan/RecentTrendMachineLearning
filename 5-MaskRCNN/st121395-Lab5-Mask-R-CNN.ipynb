{
 "cells": [
  {
   "cell_type": "markdown",
   "metadata": {},
   "source": [
    "# RTML LAB6 Mask R-CNN\n",
    "# Chanapa Pananookooln | st121395"
   ]
  },
  {
   "cell_type": "markdown",
   "metadata": {},
   "source": [
    "## 1. Get the demo up and running. ( On COCO )"
   ]
  },
  {
   "cell_type": "code",
   "execution_count": null,
   "metadata": {},
   "outputs": [],
   "source": [
    "from get_free_gpu import get_free_gpu\n",
    "\n",
    "print(get_free_gpu())"
   ]
  },
  {
   "cell_type": "code",
   "execution_count": null,
   "metadata": {},
   "outputs": [],
   "source": [
    "import torch\n",
    "import torchvision\n",
    "from torchvision.models.detection.mask_rcnn import MaskRCNNPredictor\n",
    "from torchvision.datasets import CocoDetection\n",
    "\n",
    "import coco_codes.utils\n",
    "from coco_codes.coco_utils import get_coco\n",
    "import coco_codes.transforms as transforms\n",
    "\n",
    "# Load a model pre-trained on COCO and put it in inference mode\n",
    "\n",
    "print('Loading pretrained model...')\n",
    "model = torchvision.models.detection.maskrcnn_resnet50_fpn(pretrained=True).cuda(3)\n",
    "model.eval()\n",
    "\n",
    "# Load the COCO 2017 train and val sets. We use the CocoDetection class definition\n",
    "# from ./coco_utils.py, not the original torchvision.CocoDetection class. Also, we\n",
    "# use transforms from ./transforms, not torchvision.transforms, because they need\n",
    "# to transform the bboxes and masks along with the image.\n",
    "\n",
    "coco_path = \"/root/labs/COCOdata\"\n",
    "\n",
    "transform = transforms.Compose([\n",
    "    transforms.ToTensor()\n",
    "])\n",
    "\n",
    "print('Loading COCO train, val datasets...')\n",
    "# coco_train_dataset = get_coco(coco_path, 'train', transform)\n",
    "coco_val_dataset = get_coco(coco_path, 'val', transform)\n",
    "\n",
    "def collate_fn(batch):\n",
    "    return tuple(zip(*batch))\n",
    "\n",
    "val_dataloader = torch.utils.data.DataLoader(coco_val_dataset, batch_size=1, shuffle=True, num_workers=4, collate_fn=collate_fn)"
   ]
  },
  {
   "cell_type": "code",
   "execution_count": null,
   "metadata": {},
   "outputs": [],
   "source": [
    "images, targets = next(iter(val_dataloader))\n",
    "\n",
    "images = [ img.cuda(3) for img in images ]\n",
    "predictions = model(images)\n",
    "\n",
    "print('Prediction keys:', list(dict(predictions[0])))\n",
    "print('Boxes shape:', predictions[0]['boxes'].shape)\n",
    "print('Labels shape:', predictions[0]['labels'].shape)\n",
    "print('Scores shape:', predictions[0]['scores'].shape)\n",
    "print('Masks shape:', predictions[0]['masks'].shape)"
   ]
  },
  {
   "cell_type": "code",
   "execution_count": null,
   "metadata": {},
   "outputs": [],
   "source": [
    "import numpy as np\n",
    "import cv2\n",
    "import random\n",
    "\n",
    "# Array of labels for COCO dataset (91 elements)\n",
    "\n",
    "coco_names = [\n",
    "    '__background__', 'person', 'bicycle', 'car', 'motorcycle', 'airplane', 'bus',\n",
    "    'train', 'truck', 'boat', 'traffic light', 'fire hydrant', 'N/A', 'stop sign',\n",
    "    'parking meter', 'bench', 'bird', 'cat', 'dog', 'horse', 'sheep', 'cow',\n",
    "    'elephant', 'bear', 'zebra', 'giraffe', 'N/A', 'backpack', 'umbrella', 'N/A', 'N/A',\n",
    "    'handbag', 'tie', 'suitcase', 'frisbee', 'skis', 'snowboard', 'sports ball',\n",
    "    'kite', 'baseball bat', 'baseball glove', 'skateboard', 'surfboard', 'tennis racket',\n",
    "    'bottle', 'N/A', 'wine glass', 'cup', 'fork', 'knife', 'spoon', 'bowl',\n",
    "    'banana', 'apple', 'sandwich', 'orange', 'broccoli', 'carrot', 'hot dog', 'pizza',\n",
    "    'donut', 'cake', 'chair', 'couch', 'potted plant', 'bed', 'N/A', 'dining table',\n",
    "    'N/A', 'N/A', 'toilet', 'N/A', 'tv', 'laptop', 'mouse', 'remote', 'keyboard', 'cell phone',\n",
    "    'microwave', 'oven', 'toaster', 'sink', 'refrigerator', 'N/A', 'book',\n",
    "    'clock', 'vase', 'scissors', 'teddy bear', 'hair drier', 'toothbrush'\n",
    "]\n",
    "\n",
    "# Random colors to use for labeling objects\n",
    "\n",
    "COLORS = np.random.uniform(0, 255, size=(len(coco_names), 3)).astype(np.uint8)\n",
    "\n",
    "# Overlay masks, bounding boxes, and labels on input numpy image\n",
    "\n",
    "def draw_segmentation_map(image, masks, boxes, labels):\n",
    "    alpha = 1\n",
    "    beta = 0.5 # transparency for the segmentation map\n",
    "    gamma = 0 # scalar added to each sum\n",
    "    # convert from RGB to OpenCV BGR format\n",
    "    image = cv2.cvtColor(image, cv2.COLOR_RGB2BGR)\n",
    "    for i in range(len(masks)):\n",
    "        mask = masks[i,:,:]\n",
    "        red_map = np.zeros_like(mask).astype(np.uint8)\n",
    "        green_map = np.zeros_like(mask).astype(np.uint8)\n",
    "        blue_map = np.zeros_like(mask).astype(np.uint8)\n",
    "        # apply a randon color mask to each object\n",
    "        color = COLORS[random.randrange(0, len(COLORS))]\n",
    "        red_map[mask > 0.5] = color[0]\n",
    "        green_map[mask > 0.5] = color[1]\n",
    "        blue_map[mask > 0.5] = color[2]\n",
    "        # combine all the masks into a single image\n",
    "        segmentation_map = np.stack([red_map, green_map, blue_map], axis=2)\n",
    "        # apply colored mask to the image\n",
    "        image = cv2.addWeighted(image, alpha, segmentation_map, beta, gamma)\n",
    "        # draw the bounding box around each object\n",
    "        p1 = (int(boxes[i][0]), int(boxes[i][1]))\n",
    "        p2 = (int(boxes[i][2]), int(boxes[i][3]))\n",
    "        color = (int(color[0]), int(color[1]), int(color[2]))\n",
    "        cv2.rectangle(image, p1, p2, color, 2)\n",
    "        # put the label text above the objects\n",
    "        p = (int(boxes[i][0]), int(boxes[i][1]-10))\n",
    "        cv2.putText(image, labels[i], p, cv2.FONT_HERSHEY_SIMPLEX, 0.5, color, 2, cv2.LINE_AA)\n",
    "    \n",
    "    return cv2.cvtColor(image, cv2.COLOR_BGR2RGB)\n",
    "\n",
    "# Overlay masks, bounding boxes, and labels of objects with scores greater than\n",
    "# threshold on one of the images in the input tensor using the predictions output by Mask R-CNN.\n",
    "\n",
    "def prediction_to_mask_image(images, predictions, img_index, threshold):\n",
    "    scores = predictions[img_index]['scores']\n",
    "    boxes_to_use = scores >= threshold\n",
    "    img = (images[img_index].cpu().permute(1, 2, 0).numpy() * 255).astype(np.uint8)\n",
    "    masks = predictions[img_index]['masks'][boxes_to_use, :, :].cpu().detach().squeeze(1).numpy()\n",
    "    boxes = predictions[img_index]['boxes'][boxes_to_use, :].cpu().detach().numpy()\n",
    "    labels = predictions[img_index]['labels'][boxes_to_use].cpu().numpy()\n",
    "    labels = [ coco_names[l] for l in labels ]\n",
    "\n",
    "    return draw_segmentation_map(img, masks, boxes, labels)"
   ]
  },
  {
   "cell_type": "code",
   "execution_count": null,
   "metadata": {},
   "outputs": [],
   "source": [
    "from matplotlib import pyplot as plt\n",
    "\n",
    "masked_img = prediction_to_mask_image(images, predictions, 0, 0.5)\n",
    "plt.figure(1, figsize=(12, 9), dpi=100)\n",
    "plt.imshow(masked_img)\n",
    "plt.title('Validation image result')\n",
    "plt.show()"
   ]
  },
  {
   "cell_type": "markdown",
   "metadata": {},
   "source": [
    "## 2. Evaluate the pretrained COCO model on the COCO validation set we used last week.\n"
   ]
  },
  {
   "cell_type": "code",
   "execution_count": 6,
   "metadata": {},
   "outputs": [],
   "source": [
    "from coco_codes.engine import evaluate\n",
    "\n",
    "results = evaluate(model, val_dataloader, 'cuda:3')"
   ]
  },
  {
   "cell_type": "code",
   "execution_count": null,
   "metadata": {},
   "outputs": [],
   "source": []
  }
 ],
 "metadata": {
  "kernelspec": {
   "display_name": "Python 3",
   "language": "python",
   "name": "python3"
  },
  "language_info": {
   "codemirror_mode": {
    "name": "ipython",
    "version": 3
   },
   "file_extension": ".py",
   "mimetype": "text/x-python",
   "name": "python",
   "nbconvert_exporter": "python",
   "pygments_lexer": "ipython3",
   "version": "3.6.9"
  }
 },
 "nbformat": 4,
 "nbformat_minor": 4
}
